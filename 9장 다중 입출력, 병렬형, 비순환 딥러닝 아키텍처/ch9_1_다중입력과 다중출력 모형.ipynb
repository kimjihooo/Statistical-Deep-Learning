{
 "cells": [
  {
   "cell_type": "markdown",
   "metadata": {},
   "source": [
    "## Sequential API MLP"
   ]
  },
  {
   "cell_type": "code",
   "execution_count": 1,
   "metadata": {},
   "outputs": [
    {
     "name": "stdout",
     "output_type": "stream",
     "text": [
      "Model: \"sequential\"\n",
      "_________________________________________________________________\n",
      " Layer (type)                Output Shape              Param #   \n",
      "=================================================================\n",
      " dense (Dense)               (None, 32)                1632      \n",
      "                                                                 \n",
      " dense_1 (Dense)             (None, 1)                 33        \n",
      "                                                                 \n",
      "=================================================================\n",
      "Total params: 1,665\n",
      "Trainable params: 1,665\n",
      "Non-trainable params: 0\n",
      "_________________________________________________________________\n"
     ]
    }
   ],
   "source": [
    "from tensorflow.keras.models import Sequential\n",
    "from tensorflow.keras.layers import Dense\n",
    "one_way_model=Sequential()\n",
    "one_way_model.add(Dense(32,activation='relu', input_shape=(50,)))\n",
    "one_way_model.add(Dense(1, activation='sigmoid'))\n",
    "one_way_model.summary()"
   ]
  },
  {
   "cell_type": "markdown",
   "metadata": {},
   "source": [
    "## functional API MLP"
   ]
  },
  {
   "cell_type": "code",
   "execution_count": 2,
   "metadata": {},
   "outputs": [
    {
     "name": "stdout",
     "output_type": "stream",
     "text": [
      "Model: \"model\"\n",
      "_________________________________________________________________\n",
      " Layer (type)                Output Shape              Param #   \n",
      "=================================================================\n",
      " input_1 (InputLayer)        [(None, 50)]              0         \n",
      "                                                                 \n",
      " dense_2 (Dense)             (None, 32)                1632      \n",
      "                                                                 \n",
      " dense_3 (Dense)             (None, 1)                 33        \n",
      "                                                                 \n",
      "=================================================================\n",
      "Total params: 1,665\n",
      "Trainable params: 1,665\n",
      "Non-trainable params: 0\n",
      "_________________________________________________________________\n"
     ]
    }
   ],
   "source": [
    "from tensorflow.keras.models import Model\n",
    "from tensorflow.keras.layers import Dense\n",
    "from tensorflow.keras import Input\n",
    "input_1=Input(shape=(50,))\n",
    "dense_1=Dense(32, activation='relu')\n",
    "x=dense_1(input_1)\n",
    "dense_2=Dense(1,activation='sigmoid')\n",
    "out_1=dense_2(x)\n",
    "model_1=Model(input_1,out_1)\n",
    "model_1.summary()"
   ]
  },
  {
   "cell_type": "code",
   "execution_count": 5,
   "metadata": {},
   "outputs": [
    {
     "name": "stdout",
     "output_type": "stream",
     "text": [
      "Model: \"model_1\"\n",
      "_________________________________________________________________\n",
      " Layer (type)                Output Shape              Param #   \n",
      "=================================================================\n",
      " input_2 (InputLayer)        [(None, 50)]              0         \n",
      "                                                                 \n",
      " dense_4 (Dense)             (None, 32)                1632      \n",
      "                                                                 \n",
      " dense_5 (Dense)             (None, 1)                 33        \n",
      "                                                                 \n",
      "=================================================================\n",
      "Total params: 1,665\n",
      "Trainable params: 1,665\n",
      "Non-trainable params: 0\n",
      "_________________________________________________________________\n"
     ]
    }
   ],
   "source": [
    "from tensorflow.keras.models import Model\n",
    "from tensorflow.keras.layers import Dense\n",
    "from tensorflow.keras import Input\n",
    "input_2=Input(shape=(50,))\n",
    "x=Dense(32, activation='relu')(input_2)\n",
    "y=Dense(1,activation='sigmoid')(x)\n",
    "model_2=Model(input_2,y)\n",
    "model_2.summary()"
   ]
  },
  {
   "cell_type": "markdown",
   "metadata": {},
   "source": [
    "# 다중입력 모형\n",
    "\n",
    "입력자료가 중고차의 사진, 전문가 평가, 연식이며 목적변수가 중고차 가격일 때"
   ]
  },
  {
   "cell_type": "code",
   "execution_count": 6,
   "metadata": {},
   "outputs": [
    {
     "name": "stdout",
     "output_type": "stream",
     "text": [
      "Model: \"model_2\"\n",
      "__________________________________________________________________________________________________\n",
      " Layer (type)                   Output Shape         Param #     Connected to                     \n",
      "==================================================================================================\n",
      " input_3 (InputLayer)           [(None, 128, 128, 3  0           []                               \n",
      "                                )]                                                                \n",
      "                                                                                                  \n",
      " input_4 (InputLayer)           [(None, 500)]        0           []                               \n",
      "                                                                                                  \n",
      " conv2d (Conv2D)                (None, 126, 126, 64  1792        ['input_3[0][0]']                \n",
      "                                )                                                                 \n",
      "                                                                                                  \n",
      " embedding (Embedding)          (None, 500, 120)     1200000     ['input_4[0][0]']                \n",
      "                                                                                                  \n",
      " input_5 (InputLayer)           [(None, 1)]          0           []                               \n",
      "                                                                                                  \n",
      " global_max_pooling2d (GlobalMa  (None, 64)          0           ['conv2d[0][0]']                 \n",
      " xPooling2D)                                                                                      \n",
      "                                                                                                  \n",
      " lstm (LSTM)                    (None, 32)           19584       ['embedding[0][0]']              \n",
      "                                                                                                  \n",
      " dense_6 (Dense)                (None, 5)            10          ['input_5[0][0]']                \n",
      "                                                                                                  \n",
      " concatenate (Concatenate)      (None, 101)          0           ['global_max_pooling2d[0][0]',   \n",
      "                                                                  'lstm[0][0]',                   \n",
      "                                                                  'dense_6[0][0]']                \n",
      "                                                                                                  \n",
      " dense_7 (Dense)                (None, 1)            102         ['concatenate[0][0]']            \n",
      "                                                                                                  \n",
      "==================================================================================================\n",
      "Total params: 1,221,488\n",
      "Trainable params: 1,221,488\n",
      "Non-trainable params: 0\n",
      "__________________________________________________________________________________________________\n"
     ]
    },
    {
     "ename": "NameError",
     "evalue": "name 'y_train' is not defined",
     "output_type": "error",
     "traceback": [
      "\u001b[1;31m---------------------------------------------------------------------------\u001b[0m",
      "\u001b[1;31mNameError\u001b[0m                                 Traceback (most recent call last)",
      "\u001b[1;32m<ipython-input-6-56fdec5aa010>\u001b[0m in \u001b[0;36m<module>\u001b[1;34m\u001b[0m\n\u001b[0;32m     20\u001b[0m \u001b[1;33m\u001b[0m\u001b[0m\n\u001b[0;32m     21\u001b[0m \u001b[0mmodel\u001b[0m\u001b[1;33m.\u001b[0m\u001b[0mcompile\u001b[0m\u001b[1;33m(\u001b[0m\u001b[0moptimizer\u001b[0m\u001b[1;33m=\u001b[0m\u001b[1;34m'rmsprop'\u001b[0m\u001b[1;33m,\u001b[0m \u001b[0mloss\u001b[0m\u001b[1;33m=\u001b[0m\u001b[1;34m'mse'\u001b[0m\u001b[1;33m,\u001b[0m \u001b[0mmetrics\u001b[0m\u001b[1;33m=\u001b[0m\u001b[1;33m[\u001b[0m\u001b[1;34m'mae'\u001b[0m\u001b[1;33m]\u001b[0m\u001b[1;33m)\u001b[0m\u001b[1;33m\u001b[0m\u001b[1;33m\u001b[0m\u001b[0m\n\u001b[1;32m---> 22\u001b[1;33m \u001b[0mmodel\u001b[0m\u001b[1;33m.\u001b[0m\u001b[0mfit\u001b[0m\u001b[1;33m(\u001b[0m\u001b[1;33m[\u001b[0m\u001b[0mimage_input\u001b[0m\u001b[1;33m,\u001b[0m \u001b[0mtext_input\u001b[0m\u001b[1;33m,\u001b[0m \u001b[0mage_input\u001b[0m\u001b[1;33m]\u001b[0m\u001b[1;33m,\u001b[0m \u001b[0my_train\u001b[0m\u001b[1;33m,\u001b[0m \u001b[0mepochs\u001b[0m\u001b[1;33m=\u001b[0m\u001b[1;36m20\u001b[0m\u001b[1;33m,\u001b[0m \u001b[0mbatch_size\u001b[0m\u001b[1;33m=\u001b[0m\u001b[1;36m128\u001b[0m\u001b[1;33m)\u001b[0m\u001b[1;33m\u001b[0m\u001b[1;33m\u001b[0m\u001b[0m\n\u001b[0m",
      "\u001b[1;31mNameError\u001b[0m: name 'y_train' is not defined"
     ]
    }
   ],
   "source": [
    "from tensorflow.keras.models import Model\n",
    "from tensorflow.keras.layers import Conv2D, GlobalMaxPooling2D, Embedding, LSTM, Dense, concatenate\n",
    "from tensorflow.keras import Input\n",
    "\n",
    "image_input=Input(shape=(128,128,3))\n",
    "image_layer=Conv2D(64, (3,3), activation='relu')(image_input)\n",
    "image_pool=GlobalMaxPooling2D()(image_layer)\n",
    "\n",
    "maxlen=500\n",
    "text_input=Input(shape=(maxlen,))\n",
    "text_layer=Embedding(10000,120)(text_input)\n",
    "text_lstm=LSTM(32)(text_layer)\n",
    "\n",
    "age_input=Input(shape=(1,))\n",
    "age_layer=Dense(5)(age_input)\n",
    "concatenated=concatenate([image_pool, text_lstm, age_layer], axis=-1)\n",
    "price=Dense(1)(concatenated)\n",
    "\n",
    "model=Model([image_input, text_input, age_input], price)\n",
    "model.summary()\n",
    "\n",
    "model.compile(optimizer='rmsprop', loss='mse', metrics=['mae'])\n",
    "model.fit([image_input, text_input, age_input], y_train, epochs=20, batch_size=128)"
   ]
  },
  {
   "cell_type": "markdown",
   "metadata": {},
   "source": [
    "# 다중 출력 모형\n",
    "입력자료가 소셜미디어 게시글이며 목적변수가 글쓴이의 성별, 연령, 직업일때"
   ]
  },
  {
   "cell_type": "code",
   "execution_count": 7,
   "metadata": {},
   "outputs": [
    {
     "name": "stdout",
     "output_type": "stream",
     "text": [
      "Model: \"model_3\"\n",
      "__________________________________________________________________________________________________\n",
      " Layer (type)                   Output Shape         Param #     Connected to                     \n",
      "==================================================================================================\n",
      " input_6 (InputLayer)           [(None, 500)]        0           []                               \n",
      "                                                                                                  \n",
      " embedding_1 (Embedding)        (None, 500, 128)     1280000     ['input_6[0][0]']                \n",
      "                                                                                                  \n",
      " conv1d (Conv1D)                (None, 494, 256)     229632      ['embedding_1[0][0]']            \n",
      "                                                                                                  \n",
      " max_pooling1d (MaxPooling1D)   (None, 98, 256)      0           ['conv1d[0][0]']                 \n",
      "                                                                                                  \n",
      " conv1d_1 (Conv1D)              (None, 94, 512)      655872      ['max_pooling1d[0][0]']          \n",
      "                                                                                                  \n",
      " global_max_pooling1d (GlobalMa  (None, 512)         0           ['conv1d_1[0][0]']               \n",
      " xPooling1D)                                                                                      \n",
      "                                                                                                  \n",
      " dense_8 (Dense)                (None, 128)          65664       ['global_max_pooling1d[0][0]']   \n",
      "                                                                                                  \n",
      " sex (Dense)                    (None, 1)            129         ['dense_8[0][0]']                \n",
      "                                                                                                  \n",
      " age (Dense)                    (None, 1)            129         ['dense_8[0][0]']                \n",
      "                                                                                                  \n",
      " job (Dense)                    (None, 10)           1290        ['dense_8[0][0]']                \n",
      "                                                                                                  \n",
      "==================================================================================================\n",
      "Total params: 2,232,716\n",
      "Trainable params: 2,232,716\n",
      "Non-trainable params: 0\n",
      "__________________________________________________________________________________________________\n"
     ]
    }
   ],
   "source": [
    "from tensorflow.keras.models import Model\n",
    "from tensorflow.keras.layers import Conv1D, MaxPooling1D, GlobalMaxPooling1D, Embedding, Dense\n",
    "from tensorflow.keras import Input\n",
    "\n",
    "maxlen=500\n",
    "text_input=Input(shape=(maxlen,))\n",
    "embedding_text=Embedding(10000,128)(text_input)\n",
    "x=Conv1D(256,7,activation='relu')(embedding_text)\n",
    "x=MaxPooling1D(5)(x)\n",
    "x=Conv1D(512,5,activation='relu')(x)\n",
    "x=GlobalMaxPooling1D()(x)\n",
    "x=Dense(128,activation='relu')(x)\n",
    "sex_out=Dense(1, activation='sigmoid', name='sex')(x)\n",
    "age_out=Dense(1,name='age')(x)\n",
    "job_out=Dense(10,activation='softmax', name='job')(x)\n",
    "\n",
    "model=Model(text_input, [sex_out,age_out,job_out])\n",
    "model.summary()\n",
    "\n",
    "model.compile(optimizer='rmsprop', loss=['binary_crossentropy','mse','categorical_crossentropy'],\n",
    "             loss_weights =[10, 0.25, 1])"
   ]
  },
  {
   "cell_type": "code",
   "execution_count": null,
   "metadata": {},
   "outputs": [],
   "source": [
    "model.fit(texts, [sex_y, age_y, job_y], epochs = 20, batch_size = 64)"
   ]
  }
 ],
 "metadata": {
  "kernelspec": {
   "display_name": "Python 3",
   "language": "python",
   "name": "python3"
  },
  "language_info": {
   "codemirror_mode": {
    "name": "ipython",
    "version": 3
   },
   "file_extension": ".py",
   "mimetype": "text/x-python",
   "name": "python",
   "nbconvert_exporter": "python",
   "pygments_lexer": "ipython3",
   "version": "3.8.8"
  }
 },
 "nbformat": 4,
 "nbformat_minor": 4
}
