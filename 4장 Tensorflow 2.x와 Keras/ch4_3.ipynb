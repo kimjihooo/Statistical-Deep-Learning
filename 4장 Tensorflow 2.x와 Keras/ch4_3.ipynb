{
 "cells": [
  {
   "cell_type": "markdown",
   "metadata": {},
   "source": [
    "# 3. RNN"
   ]
  },
  {
   "cell_type": "markdown",
   "metadata": {},
   "source": [
    "## Sequential API"
   ]
  },
  {
   "cell_type": "code",
   "execution_count": 1,
   "metadata": {},
   "outputs": [
    {
     "name": "stdout",
     "output_type": "stream",
     "text": [
      "Model: \"sequential\"\n",
      "_________________________________________________________________\n",
      "Layer (type)                 Output Shape              Param #   \n",
      "=================================================================\n",
      "simple_rnn (SimpleRNN)       (None, 256)               72960     \n",
      "_________________________________________________________________\n",
      "dense (Dense)                (None, 10)                2570      \n",
      "=================================================================\n",
      "Total params: 75,530\n",
      "Trainable params: 75,530\n",
      "Non-trainable params: 0\n",
      "_________________________________________________________________\n",
      "Epoch 1/30\n",
      "938/938 [==============================] - 22s 22ms/step - loss: 0.6607 - accuracy: 0.78620s -\n",
      "Epoch 2/30\n",
      "938/938 [==============================] - 23s 24ms/step - loss: 0.2427 - accuracy: 0.9256\n",
      "Epoch 3/30\n",
      "938/938 [==============================] - 23s 25ms/step - loss: 0.1922 - accuracy: 0.9428\n",
      "Epoch 4/30\n",
      "938/938 [==============================] - 26s 27ms/step - loss: 0.1703 - accuracy: 0.9504\n",
      "Epoch 5/30\n",
      "938/938 [==============================] - 24s 26ms/step - loss: 0.1625 - accuracy: 0.9530\n",
      "Epoch 6/30\n",
      "938/938 [==============================] - 24s 26ms/step - loss: 0.1453 - accuracy: 0.9573\n",
      "Epoch 7/30\n",
      "938/938 [==============================] - 24s 26ms/step - loss: 0.1381 - accuracy: 0.9591\n",
      "Epoch 8/30\n",
      "938/938 [==============================] - 24s 26ms/step - loss: 0.1276 - accuracy: 0.9620\n",
      "Epoch 9/30\n",
      "938/938 [==============================] - 25s 26ms/step - loss: 0.1247 - accuracy: 0.9634\n",
      "Epoch 10/30\n",
      "938/938 [==============================] - 25s 26ms/step - loss: 0.1261 - accuracy: 0.9637\n",
      "Epoch 11/30\n",
      "938/938 [==============================] - 25s 27ms/step - loss: 0.1221 - accuracy: 0.9641\n",
      "Epoch 12/30\n",
      "938/938 [==============================] - 25s 27ms/step - loss: 0.1234 - accuracy: 0.9644\n",
      "Epoch 13/30\n",
      "938/938 [==============================] - 25s 27ms/step - loss: 0.1255 - accuracy: 0.9641\n",
      "Epoch 14/30\n",
      "938/938 [==============================] - 26s 27ms/step - loss: 0.1241 - accuracy: 0.9641\n",
      "Epoch 15/30\n",
      "938/938 [==============================] - 25s 27ms/step - loss: 0.1218 - accuracy: 0.9648\n",
      "Epoch 16/30\n",
      "938/938 [==============================] - 28s 29ms/step - loss: 0.1237 - accuracy: 0.9640\n",
      "Epoch 17/30\n",
      "938/938 [==============================] - 26s 28ms/step - loss: 0.1129 - accuracy: 0.9659\n",
      "Epoch 18/30\n",
      "938/938 [==============================] - 26s 28ms/step - loss: 0.1128 - accuracy: 0.9681\n",
      "Epoch 19/30\n",
      "938/938 [==============================] - 26s 28ms/step - loss: 0.1164 - accuracy: 0.9655\n",
      "Epoch 20/30\n",
      "938/938 [==============================] - 26s 28ms/step - loss: 0.1127 - accuracy: 0.9659\n",
      "Epoch 21/30\n",
      "938/938 [==============================] - 26s 28ms/step - loss: 0.1119 - accuracy: 0.9669\n",
      "Epoch 22/30\n",
      "938/938 [==============================] - 26s 28ms/step - loss: 0.1187 - accuracy: 0.9654\n",
      "Epoch 23/30\n",
      "938/938 [==============================] - ETA: 0s - loss: 0.1205 - accuracy: 0.96 - 26s 28ms/step - loss: 0.1205 - accuracy: 0.9645\n",
      "Epoch 24/30\n",
      "938/938 [==============================] - 27s 29ms/step - loss: 0.1163 - accuracy: 0.9672\n",
      "Epoch 25/30\n",
      "938/938 [==============================] - 28s 30ms/step - loss: 0.1182 - accuracy: 0.9661\n",
      "Epoch 26/30\n",
      "938/938 [==============================] - 27s 28ms/step - loss: 0.1153 - accuracy: 0.9669\n",
      "Epoch 27/30\n",
      "938/938 [==============================] - 26s 28ms/step - loss: 0.1233 - accuracy: 0.9643\n",
      "Epoch 28/30\n",
      "938/938 [==============================] - 27s 28ms/step - loss: 0.1170 - accuracy: 0.96610s\n",
      "Epoch 29/30\n",
      "938/938 [==============================] - 27s 29ms/step - loss: 0.1363 - accuracy: 0.9594\n",
      "Epoch 30/30\n",
      "938/938 [==============================] - 27s 28ms/step - loss: 0.1289 - accuracy: 0.9615\n",
      "313/313 [==============================] - 2s 6ms/step - loss: 0.1108 - accuracy: 0.9682\n",
      "[0.11081049591302872, 0.9682000279426575]\n"
     ]
    }
   ],
   "source": [
    "import numpy as np\n",
    "from tensorflow.keras.layers import Dense, Dropout, Input, SimpleRNN\n",
    "from tensorflow.keras.models import Sequential, Model\n",
    "from tensorflow.keras.utils import to_categorical, plot_model\n",
    "from tensorflow.keras.datasets import mnist\n",
    "\n",
    "(x_train,y_train),(x_test,y_test)=mnist.load_data()\n",
    "y_train=to_categorical(y_train)\n",
    "y_test=to_categorical(y_test)\n",
    "shape1=x_train.shape[1]\n",
    "shape2=x_train.shape[2]\n",
    "x_train=x_train.reshape(-1, shape1,shape2).astype('float32') #RNN의 입력은 표본을 포함하여 3D 텐서임\n",
    "x_test=x_test.reshape(-1, shape1,shape2).astype('float32')\n",
    "x_train=x_train/255.\n",
    "x_test=x_test/255.\n",
    "input_shape=(shape1,shape2) #RNN의 표본 하나당 입력은 2D 텐서임\n",
    "model=Sequential()\n",
    "model.add(SimpleRNN(units=256,dropout=0.2, input_shape=input_shape))\n",
    "model.add(Dense(10,activation='softmax'))\n",
    "model.summary()\n",
    "plot_model(model,#to_file='C:/Users/ysp/Desktop/딥러닝 프로그램/ch2_3.png', \n",
    "           show_shapes=True)\n",
    "model.compile(loss='categorical_crossentropy', optimizer='RMSprop',metrics=['accuracy'])\n",
    "model.fit(x_train,y_train,epochs=30,batch_size=64)\n",
    "score=model.evaluate(x_test,y_test)\n",
    "print(score)"
   ]
  },
  {
   "cell_type": "markdown",
   "metadata": {},
   "source": [
    "# boston_housing 데이터"
   ]
  },
  {
   "cell_type": "code",
   "execution_count": 2,
   "metadata": {},
   "outputs": [
    {
     "name": "stdout",
     "output_type": "stream",
     "text": [
      "Downloading data from https://storage.googleapis.com/tensorflow/tf-keras-datasets/boston_housing.npz\n",
      "57344/57026 [==============================] - 0s 0us/step\n",
      "65536/57026 [==================================] - 0s 0us/step\n",
      "float64 float64\n",
      "(404, 13) (404,)\n",
      "(102, 13)\n"
     ]
    }
   ],
   "source": [
    "import tensorflow as tf\n",
    "from tensorflow.keras.datasets import boston_housing\n",
    "(x_train,y_train),(x_test,y_test)=boston_housing.load_data()\n",
    "print(x_train.dtype,y_train.dtype)\n",
    "print(x_train.shape,y_train.shape)\n",
    "print(x_test.shape)"
   ]
  },
  {
   "cell_type": "code",
   "execution_count": 3,
   "metadata": {},
   "outputs": [
    {
     "name": "stdout",
     "output_type": "stream",
     "text": [
      "(404, 10) (404, 10)\n"
     ]
    }
   ],
   "source": [
    "x_train1, x_train2=x_train[:,:10],x_train[:,3:]\n",
    "x_test1,x_test2=x_test[:,:10],x_test[:,3:]\n",
    "print(x_train1.shape,x_train2.shape)"
   ]
  },
  {
   "cell_type": "markdown",
   "metadata": {},
   "source": [
    "## functional API"
   ]
  },
  {
   "cell_type": "code",
   "execution_count": 4,
   "metadata": {},
   "outputs": [
    {
     "name": "stdout",
     "output_type": "stream",
     "text": [
      "Model: \"model\"\n",
      "__________________________________________________________________________________________________\n",
      " Layer (type)                   Output Shape         Param #     Connected to                     \n",
      "==================================================================================================\n",
      " input_1 (InputLayer)           [(None, 10)]         0           []                               \n",
      "                                                                                                  \n",
      " dense (Dense)                  (None, 16)           176         ['input_1[0][0]']                \n",
      "                                                                                                  \n",
      " dense_1 (Dense)                (None, 16)           272         ['dense[0][0]']                  \n",
      "                                                                                                  \n",
      " input_2 (InputLayer)           [(None, 10)]         0           []                               \n",
      "                                                                                                  \n",
      " concatenate (Concatenate)      (None, 26)           0           ['input_2[0][0]',                \n",
      "                                                                  'dense_1[0][0]']                \n",
      "                                                                                                  \n",
      " dense_2 (Dense)                (None, 1)            17          ['dense_1[0][0]']                \n",
      "                                                                                                  \n",
      " dense_3 (Dense)                (None, 1)            27          ['concatenate[0][0]']            \n",
      "                                                                                                  \n",
      "==================================================================================================\n",
      "Total params: 492\n",
      "Trainable params: 492\n",
      "Non-trainable params: 0\n",
      "__________________________________________________________________________________________________\n"
     ]
    },
    {
     "data": {
      "image/png": "[encoded data removed]",
      "text/plain": [
       "<IPython.core.display.Image object>"
      ]
     },
     "execution_count": 4,
     "metadata": {},
     "output_type": "execute_result"
    }
   ],
   "source": [
    "from tensorflow.keras.models import Model\n",
    "from tensorflow.keras.layers import Input,Dense, concatenate\n",
    "from tensorflow.keras.utils import plot_model\n",
    "input_A=Input(shape=[10])\n",
    "input_B=Input(shape=[10])\n",
    "h1=Dense(16,activation='relu')(input_A)\n",
    "h2=Dense(16,activation='relu')(h1)\n",
    "concat=concatenate([input_B,h2])\n",
    "out1=Dense(1)(h2)\n",
    "out2=Dense(1)(concat)\n",
    "model=Model(inputs=[input_A,input_B],outputs=[out1,out2])\n",
    "model.summary()\n",
    "plot_model(model,show_shapes=True)"
   ]
  },
  {
   "cell_type": "code",
   "execution_count": 5,
   "metadata": {},
   "outputs": [
    {
     "data": {
      "text/plain": [
       "[<keras.engine.input_layer.InputLayer at 0x1ce469a66d0>,\n",
       " <keras.layers.core.dense.Dense at 0x1ce503c88b0>,\n",
       " <keras.layers.core.dense.Dense at 0x1ce503c8c10>,\n",
       " <keras.engine.input_layer.InputLayer at 0x1ce469a67c0>,\n",
       " <keras.layers.merge.Concatenate at 0x1ce5043e250>,\n",
       " <keras.layers.core.dense.Dense at 0x1ce5048a0d0>,\n",
       " <keras.layers.core.dense.Dense at 0x1ce504ba250>]"
      ]
     },
     "execution_count": 5,
     "metadata": {},
     "output_type": "execute_result"
    }
   ],
   "source": [
    "model.layers"
   ]
  },
  {
   "cell_type": "code",
   "execution_count": 6,
   "metadata": {},
   "outputs": [
    {
     "name": "stdout",
     "output_type": "stream",
     "text": [
      "(10, 16) [[-0.04639876  0.19028544 -0.38488755  0.21805882 -0.14663824 -0.3361165\n",
      "   0.01059461  0.33110565 -0.31903428 -0.02238229 -0.06811756 -0.44226104\n",
      "   0.28374517 -0.27998817  0.00266585 -0.23366709]\n",
      " [-0.11497799  0.48015893  0.2958908  -0.034706   -0.31776112 -0.27891433\n",
      "  -0.09336501  0.1293608  -0.3185551   0.17484868  0.06417572 -0.1343694\n",
      "  -0.06354073 -0.43661377 -0.27453744 -0.38143966]\n",
      " [ 0.22212791  0.2554506   0.4782213   0.02218783  0.18084168  0.10587931\n",
      "   0.33229947 -0.30031323  0.15265626  0.11852086 -0.32076922  0.33274007\n",
      "   0.2757389   0.07079947 -0.12219939  0.35629255]\n",
      " [ 0.36586428 -0.1857889   0.2983119  -0.35848275 -0.30053717  0.14805377\n",
      "  -0.3923884  -0.06559727 -0.18678936 -0.15838951  0.2321145  -0.30881983\n",
      "   0.45550525 -0.40013045  0.44290286 -0.2271668 ]\n",
      " [-0.3549739   0.09333056 -0.37691367  0.22474784 -0.22533119 -0.33540225\n",
      "   0.11474824 -0.19266054  0.1666187   0.27709907 -0.44985077 -0.31211734\n",
      "   0.3157124  -0.42348891 -0.11570391  0.18918091]\n",
      " [ 0.16651905 -0.3208643   0.01716122  0.32442385 -0.08993223 -0.41676185\n",
      "   0.06966764 -0.23561218 -0.45432693 -0.4212467   0.3577463  -0.0194585\n",
      "   0.08762681 -0.2824913   0.23183626 -0.18766838]\n",
      " [ 0.24629283 -0.14903918 -0.44854406 -0.31151992 -0.40708968 -0.23045628\n",
      "  -0.32490647  0.41695333  0.07922232 -0.38199458  0.2165817  -0.15334687\n",
      "  -0.3743407   0.1487816   0.3458795  -0.0576115 ]\n",
      " [-0.4306478  -0.23184945 -0.22119495  0.08969218 -0.17932492 -0.43836257\n",
      "   0.26700777  0.12660283  0.05250955 -0.35060185  0.05421501  0.29155415\n",
      "  -0.05134073 -0.13657472 -0.40793538  0.33937573]\n",
      " [-0.3947441  -0.43751138  0.13844025 -0.4059708  -0.15498823  0.15023959\n",
      "   0.11700809 -0.24186006 -0.19842356  0.09079081 -0.13280821  0.23981392\n",
      "   0.13625127 -0.3447054  -0.04968894 -0.46252117]\n",
      " [-0.2083681  -0.3048814   0.11590171  0.45270354  0.43886274  0.06262845\n",
      "  -0.23943152  0.24630874  0.46671283  0.42374432 -0.4616899  -0.30845457\n",
      "   0.44562268  0.38062662 -0.09323502 -0.24843125]]\n",
      "(16,) [0. 0. 0. 0. 0. 0. 0. 0. 0. 0. 0. 0. 0. 0. 0. 0.]\n"
     ]
    }
   ],
   "source": [
    "# 초기치 모수 보여줌(랜덤임)\n",
    "hidden1=model.layers[1]\n",
    "weights,biases=hidden1.get_weights()\n",
    "print(weights.shape,weights)\n",
    "print(biases.shape,biases)"
   ]
  },
  {
   "cell_type": "code",
   "execution_count": 7,
   "metadata": {},
   "outputs": [
    {
     "name": "stdout",
     "output_type": "stream",
     "text": [
      "Epoch 1/10\n",
      "13/13 [==============================] - 2s 88ms/step - loss: 46646.5410 - dense_3_loss: 1495.5573 - dense_4_loss: 57934.2891 - val_loss: 34630.0938 - val_dense_3_loss: 1326.8047 - val_dense_4_loss: 42955.9180\n",
      "Epoch 2/10\n",
      "13/13 [==============================] - 0s 5ms/step - loss: 29430.6413 - dense_3_loss: 1037.9561 - dense_4_loss: 36528.8092 - val_loss: 22120.5117 - val_dense_3_loss: 844.7558 - val_dense_4_loss: 27439.4492\n",
      "Epoch 3/10\n",
      "13/13 [==============================] - 0s 5ms/step - loss: 18060.7334 - dense_3_loss: 620.0679 - dense_4_loss: 22420.8993 - val_loss: 12843.6445 - val_dense_3_loss: 485.1554 - val_dense_4_loss: 15933.2656\n",
      "Epoch 4/10\n",
      "13/13 [==============================] - 0s 5ms/step - loss: 10338.9333 - dense_3_loss: 366.1052 - dense_4_loss: 12832.1401 - val_loss: 6452.3687 - val_dense_3_loss: 276.6200 - val_dense_4_loss: 7996.3057\n",
      "Epoch 5/10\n",
      "13/13 [==============================] - 0s 5ms/step - loss: 4871.5857 - dense_3_loss: 235.6059 - dense_4_loss: 6030.5801 - val_loss: 2678.4507 - val_dense_3_loss: 206.7288 - val_dense_4_loss: 3296.3811\n",
      "Epoch 6/10\n",
      "13/13 [==============================] - 0s 5ms/step - loss: 2020.3817 - dense_3_loss: 160.0428 - dense_4_loss: 2485.4665 - val_loss: 1154.1345 - val_dense_3_loss: 199.5943 - val_dense_4_loss: 1392.7697\n",
      "Epoch 7/10\n",
      "13/13 [==============================] - 0s 5ms/step - loss: 1094.4463 - dense_3_loss: 175.7864 - dense_4_loss: 1324.1112 - val_loss: 869.5240 - val_dense_3_loss: 198.6947 - val_dense_4_loss: 1037.2312\n",
      "Epoch 8/10\n",
      "13/13 [==============================] - 0s 5ms/step - loss: 840.7981 - dense_3_loss: 168.8213 - dense_4_loss: 1008.7924 - val_loss: 766.5369 - val_dense_3_loss: 196.9294 - val_dense_4_loss: 908.9387\n",
      "Epoch 9/10\n",
      "13/13 [==============================] - 0s 5ms/step - loss: 727.7458 - dense_3_loss: 162.4698 - dense_4_loss: 869.0648 - val_loss: 661.2920 - val_dense_3_loss: 195.1335 - val_dense_4_loss: 777.8315\n",
      "Epoch 10/10\n",
      "13/13 [==============================] - 0s 5ms/step - loss: 614.6528 - dense_3_loss: 160.8824 - dense_4_loss: 728.0954 - val_loss: 558.6812 - val_dense_3_loss: 188.1423 - val_dense_4_loss: 651.3159\n"
     ]
    }
   ],
   "source": [
    "model.compile(loss=['mse','mse'],loss_weights=[0.2,0.8], optimizer='RMSprop')\n",
    "history=model.fit([x_train1,x_train2],[y_train,y_train],epochs=10, batch_size=32, validation_data=([x_test1,x_test2],[y_test,y_test]))"
   ]
  },
  {
   "cell_type": "code",
   "execution_count": 8,
   "metadata": {},
   "outputs": [
    {
     "name": "stdout",
     "output_type": "stream",
     "text": [
      "[[ 0.28197294  0.07775491  0.35624498  0.4100376  -0.29402632  0.37440178\n",
      "  -0.04717138  0.09369814 -0.49904364 -0.05671253 -0.3796206  -0.1540556\n",
      "   0.44298247 -0.08122091  0.28841215 -0.40191618]\n",
      " [ 0.0020223   0.15028454 -0.16491604  0.00710595 -0.32122117  0.02562315\n",
      "   0.46923763  0.37945494  0.0749508   0.13005939 -0.1598837  -0.4748096\n",
      "   0.5326922  -0.06059676  0.18515843 -0.52059793]\n",
      " [ 0.09699535  0.45055747 -0.3819821  -0.34944728  0.18567115 -0.05326911\n",
      "  -0.00268448  0.32618684 -0.2421613  -0.28946888 -0.3960692   0.2446487\n",
      "   0.21153358  0.16566378  0.03201658 -0.21110694]\n",
      " [-0.02690977 -0.21322568  0.41421854 -0.10460854  0.1911819  -0.48165402\n",
      "   0.39037326  0.46898237 -0.35950378  0.54608655 -0.3005113   0.2849686\n",
      "   0.22094226 -0.28465652  0.24713385  0.13757528]\n",
      " [-0.38196558  0.29201794 -0.06006122  0.5057415  -0.34714848 -0.5548535\n",
      "   0.3227871   0.18701935 -0.04988625  0.36627048  0.08942659  0.22987318\n",
      "  -0.08378971 -0.00274344  0.4406712   0.35578573]\n",
      " [ 0.45970756 -0.04782029 -0.00349072  0.24755324 -0.33135226  0.16503406\n",
      "   0.1780333  -0.19454299  0.08238689 -0.36753646  0.00244832 -0.45764035\n",
      "  -0.02759794 -0.13305573 -0.38665158 -0.5625265 ]\n",
      " [ 0.38048238 -0.01940644  0.26260877  0.52161014 -0.33610445 -0.15871972\n",
      "  -0.01843145 -0.18729651  0.03555718  0.47035876  0.29477933 -0.12201717\n",
      "   0.05044269  0.27479973 -0.33614135 -0.24888425]\n",
      " [-0.00301439 -0.20297076 -0.41723922 -0.07920669  0.42923295 -0.02090431\n",
      "   0.36395672  0.4975665  -0.4349126  -0.30902973  0.32880926  0.39317876\n",
      "  -0.16087568  0.34482974 -0.17463377 -0.05249112]\n",
      " [ 0.0381791  -0.04865067 -0.21815273  0.24668656  0.29437006 -0.04053199\n",
      "  -0.27560818  0.15938771  0.27765405  0.02666506 -0.11770183 -0.45624787\n",
      "  -0.0024054   0.09351542  0.27253592  0.2665281 ]\n",
      " [-0.29412517  0.34751236 -0.12409377  0.28333208 -0.3678428   0.05376411\n",
      "   0.16525665  0.5504402   0.03603339 -0.05285732  0.3435188  -0.10161766\n",
      "   0.2703581  -0.12461401 -0.47122142  0.13556427]] [ 0.          0.0486832   0.          0.08738393  0.         -0.09258361\n",
      "  0.07410089  0.12160078 -0.09876663  0.08315506  0.11117195  0.\n",
      "  0.1009875  -0.05938905  0.         -0.09060314]\n"
     ]
    }
   ],
   "source": [
    "hidden2=model.layers[1]\n",
    "weights,biases=hidden2.get_weights()\n",
    "print(weights,biases)"
   ]
  },
  {
   "cell_type": "markdown",
   "metadata": {},
   "source": [
    "## Subclassing API"
   ]
  },
  {
   "cell_type": "code",
   "execution_count": 9,
   "metadata": {},
   "outputs": [],
   "source": [
    "import tensorflow as tf\n",
    "class TinoutModel(tf.keras.models.Model):\n",
    "    def __init__(self,units=30,activation='relu',**kwargs):\n",
    "        super().__init__(**kwargs)\n",
    "        self.h1=Dense(units,activation=activation)\n",
    "        self.h2=Dense(units,activation=activation)\n",
    "        self.out1=Dense(1)\n",
    "        self.out2=Dense(1)\n",
    "        \n",
    "    def call(self,inputs):\n",
    "        input_A,input_B=inputs\n",
    "        h1=self.h1(input_A)\n",
    "        h2=self.h2(h1)\n",
    "        concat=concatenate([input_B,h2])\n",
    "        out1=self.out1(h2)\n",
    "        out2=self.out2(concat)\n",
    "        return out1,out2\n",
    "\n",
    "model=TinoutModel(units=16)"
   ]
  },
  {
   "cell_type": "code",
   "execution_count": 10,
   "metadata": {},
   "outputs": [
    {
     "name": "stdout",
     "output_type": "stream",
     "text": [
      "Epoch 1/20\n",
      "13/13 [==============================] - 1s 20ms/step - loss: 11970.9403 - output_1_loss: 8038.4992 - output_2_loss: 12954.0495 - val_loss: 5717.2163 - val_output_1_loss: 7665.7686 - val_output_2_loss: 5230.0776\n",
      "Epoch 2/20\n",
      "13/13 [==============================] - 0s 5ms/step - loss: 4344.7735 - output_1_loss: 6773.9940 - output_2_loss: 3737.4684 - val_loss: 2260.9131 - val_output_1_loss: 5015.1855 - val_output_2_loss: 1572.3451\n",
      "Epoch 3/20\n",
      "13/13 [==============================] - 0s 5ms/step - loss: 1719.6512 - output_1_loss: 3944.1358 - output_2_loss: 1163.5300 - val_loss: 775.9865 - val_output_1_loss: 2142.1597 - val_output_2_loss: 434.4432\n",
      "Epoch 4/20\n",
      "13/13 [==============================] - 0s 5ms/step - loss: 607.0399 - output_1_loss: 1632.8738 - output_2_loss: 350.5813 - val_loss: 269.5794 - val_output_1_loss: 636.4233 - val_output_2_loss: 177.8685\n",
      "Epoch 5/20\n",
      "13/13 [==============================] - 0s 5ms/step - loss: 267.8278 - output_1_loss: 452.4541 - output_2_loss: 221.6713 - val_loss: 174.1651 - val_output_1_loss: 282.6955 - val_output_2_loss: 147.0325\n",
      "Epoch 6/20\n",
      "13/13 [==============================] - 0s 5ms/step - loss: 211.3993 - output_1_loss: 251.2877 - output_2_loss: 201.4272 - val_loss: 154.9863 - val_output_1_loss: 261.0496 - val_output_2_loss: 128.4705\n",
      "Epoch 7/20\n",
      "13/13 [==============================] - 0s 4ms/step - loss: 185.2176 - output_1_loss: 259.7348 - output_2_loss: 166.5883 - val_loss: 157.3233 - val_output_1_loss: 245.6323 - val_output_2_loss: 135.2460\n",
      "Epoch 8/20\n",
      "13/13 [==============================] - 0s 5ms/step - loss: 181.8575 - output_1_loss: 237.6159 - output_2_loss: 167.9179 - val_loss: 133.0014 - val_output_1_loss: 244.1101 - val_output_2_loss: 105.2242\n",
      "Epoch 9/20\n",
      "13/13 [==============================] - 0s 5ms/step - loss: 151.5420 - output_1_loss: 206.7771 - output_2_loss: 137.7332 - val_loss: 127.7709 - val_output_1_loss: 221.3352 - val_output_2_loss: 104.3798\n",
      "Epoch 10/20\n",
      "13/13 [==============================] - 0s 4ms/step - loss: 120.0843 - output_1_loss: 187.8916 - output_2_loss: 103.1325 - val_loss: 115.9800 - val_output_1_loss: 213.6667 - val_output_2_loss: 91.5583\n",
      "Epoch 11/20\n",
      "13/13 [==============================] - 0s 5ms/step - loss: 106.6776 - output_1_loss: 175.6837 - output_2_loss: 89.4261 - val_loss: 112.7737 - val_output_1_loss: 208.1758 - val_output_2_loss: 88.9231\n",
      "Epoch 12/20\n",
      "13/13 [==============================] - 0s 6ms/step - loss: 114.2103 - output_1_loss: 194.7817 - output_2_loss: 94.0675 - val_loss: 108.9179 - val_output_1_loss: 201.4307 - val_output_2_loss: 85.7897\n",
      "Epoch 13/20\n",
      "13/13 [==============================] - 0s 6ms/step - loss: 114.9336 - output_1_loss: 181.8832 - output_2_loss: 98.1962 - val_loss: 121.1772 - val_output_1_loss: 193.4216 - val_output_2_loss: 103.1161\n",
      "Epoch 14/20\n",
      "13/13 [==============================] - 0s 6ms/step - loss: 109.0320 - output_1_loss: 178.4130 - output_2_loss: 91.6868 - val_loss: 105.6972 - val_output_1_loss: 184.0949 - val_output_2_loss: 86.0977\n",
      "Epoch 15/20\n",
      "13/13 [==============================] - 0s 6ms/step - loss: 99.2637 - output_1_loss: 162.3198 - output_2_loss: 83.4997 - val_loss: 105.8113 - val_output_1_loss: 180.8685 - val_output_2_loss: 87.0471\n",
      "Epoch 16/20\n",
      "13/13 [==============================] - 0s 6ms/step - loss: 105.2524 - output_1_loss: 160.5339 - output_2_loss: 91.4320 - val_loss: 111.7740 - val_output_1_loss: 175.2624 - val_output_2_loss: 95.9020\n",
      "Epoch 17/20\n",
      "13/13 [==============================] - 0s 7ms/step - loss: 118.6722 - output_1_loss: 175.0880 - output_2_loss: 104.5683 - val_loss: 100.1987 - val_output_1_loss: 169.3408 - val_output_2_loss: 82.9132\n",
      "Epoch 18/20\n",
      "13/13 [==============================] - 0s 5ms/step - loss: 87.5383 - output_1_loss: 140.3317 - output_2_loss: 74.3399 - val_loss: 97.5625 - val_output_1_loss: 163.7213 - val_output_2_loss: 81.0228\n",
      "Epoch 19/20\n",
      "13/13 [==============================] - 0s 5ms/step - loss: 88.5851 - output_1_loss: 131.5649 - output_2_loss: 77.8401 - val_loss: 110.3350 - val_output_1_loss: 168.5956 - val_output_2_loss: 95.7698\n",
      "Epoch 20/20\n",
      "13/13 [==============================] - 0s 5ms/step - loss: 96.7608 - output_1_loss: 146.7008 - output_2_loss: 84.2758 - val_loss: 102.6478 - val_output_1_loss: 156.2761 - val_output_2_loss: 89.2407\n"
     ]
    }
   ],
   "source": [
    "model.compile(loss=['mse','mse'],loss_weights=[0.2,0.8], optimizer='RMSprop')\n",
    "history=model.fit([x_train1,x_train2],[y_train,y_train],epochs=20, batch_size=32, validation_data=([x_test1,x_test2],[y_test,y_test]))"
   ]
  },
  {
   "cell_type": "code",
   "execution_count": 11,
   "metadata": {},
   "outputs": [
    {
     "name": "stdout",
     "output_type": "stream",
     "text": [
      "Model: \"tinout_model\"\n",
      "_________________________________________________________________\n",
      "Layer (type)                 Output Shape              Param #   \n",
      "=================================================================\n",
      "dense_5 (Dense)              multiple                  176       \n",
      "_________________________________________________________________\n",
      "dense_6 (Dense)              multiple                  272       \n",
      "_________________________________________________________________\n",
      "dense_7 (Dense)              multiple                  17        \n",
      "_________________________________________________________________\n",
      "dense_8 (Dense)              multiple                  27        \n",
      "=================================================================\n",
      "Total params: 492\n",
      "Trainable params: 492\n",
      "Non-trainable params: 0\n",
      "_________________________________________________________________\n"
     ]
    }
   ],
   "source": [
    "model.summary()"
   ]
  },
  {
   "cell_type": "code",
   "execution_count": 12,
   "metadata": {},
   "outputs": [
    {
     "data": {
      "image/png": "[encoded data removed]",
      "text/plain": [
       "<IPython.core.display.Image object>"
      ]
     },
     "execution_count": 12,
     "metadata": {},
     "output_type": "execute_result"
    }
   ],
   "source": [
    "plot_model(model,show_shapes=True)"
   ]
  },
  {
   "cell_type": "code",
   "execution_count": null,
   "metadata": {},
   "outputs": [],
   "source": []
  }
 ],
 "metadata": {
  "kernelspec": {
   "display_name": "Python 3",
   "language": "python",
   "name": "python3"
  },
  "language_info": {
   "codemirror_mode": {
    "name": "ipython",
    "version": 3
   },
   "file_extension": ".py",
   "mimetype": "text/x-python",
   "name": "python",
   "nbconvert_exporter": "python",
   "pygments_lexer": "ipython3",
   "version": "3.8.8"
  }
 },
 "nbformat": 4,
 "nbformat_minor": 4
}
