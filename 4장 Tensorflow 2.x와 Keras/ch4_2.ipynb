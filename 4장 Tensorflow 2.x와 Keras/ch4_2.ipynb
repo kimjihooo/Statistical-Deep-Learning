{
 "cells": [
  {
   "cell_type": "markdown",
   "metadata": {},
   "source": [
    "# 2. CNN"
   ]
  },
  {
   "cell_type": "markdown",
   "metadata": {},
   "source": [
    "## Sequential API"
   ]
  },
  {
   "cell_type": "code",
   "execution_count": 1,
   "metadata": {},
   "outputs": [],
   "source": [
    "import numpy as np\n",
    "from tensorflow.keras.models import Sequential\n",
    "from tensorflow.keras.layers import Dense, Activation, Dropout\n",
    "from tensorflow.keras.layers import Conv2D, MaxPooling2D, Flatten\n",
    "from tensorflow.keras.utils import to_categorical, plot_model\n",
    "from tensorflow.keras.datasets import mnist"
   ]
  },
  {
   "cell_type": "code",
   "execution_count": 2,
   "metadata": {},
   "outputs": [],
   "source": [
    "(x_train,y_train),(x_test,y_test)=mnist.load_data()\n",
    "\n",
    "num_labels=len(np.unique(y_train))\n",
    "\n",
    "y_train=to_categorical(y_train)\n",
    "y_test=to_categorical(y_test)\n",
    "\n",
    "shape1=x_train.shape[1]\n",
    "shape2=x_train.shape[2]\n",
    "\n",
    "x_train=x_train.reshape(-1, shape1,shape2,1)\n",
    "x_test=x_test.reshape(-1, shape1,shape2,1)\n",
    "\n",
    "x_train=x_train/255.\n",
    "x_test=x_test/255.\n",
    "\n",
    "#표본수를 포함하여 4D 텐서이므로 입력은 3D 텐서가 된다.\n",
    "input_shape=(shape1,shape2,1)\n",
    "batch_size=64\n",
    "kernel_size=3 # (3,3) 해도 같음\n",
    "pool_size=2 # (2,2)\n",
    "filters=64\n",
    "dropout=0.3"
   ]
  },
  {
   "cell_type": "code",
   "execution_count": 5,
   "metadata": {},
   "outputs": [
    {
     "name": "stdout",
     "output_type": "stream",
     "text": [
      "Model: \"sequential_1\"\n",
      "_________________________________________________________________\n",
      " Layer (type)                Output Shape              Param #   \n",
      "=================================================================\n",
      " conv2d_3 (Conv2D)           (None, 26, 26, 64)        640       \n",
      "                                                                 \n",
      " max_pooling2d_2 (MaxPooling  (None, 13, 13, 64)       0         \n",
      " 2D)                                                             \n",
      "                                                                 \n",
      " conv2d_4 (Conv2D)           (None, 13, 13, 64)        36928     \n",
      "                                                                 \n",
      " max_pooling2d_3 (MaxPooling  (None, 6, 6, 64)         0         \n",
      " 2D)                                                             \n",
      "                                                                 \n",
      " conv2d_5 (Conv2D)           (None, 4, 4, 64)          36928     \n",
      "                                                                 \n",
      " flatten_1 (Flatten)         (None, 1024)              0         \n",
      "                                                                 \n",
      " dropout_1 (Dropout)         (None, 1024)              0         \n",
      "                                                                 \n",
      " dense_1 (Dense)             (None, 10)                10250     \n",
      "                                                                 \n",
      "=================================================================\n",
      "Total params: 84,746\n",
      "Trainable params: 84,746\n",
      "Non-trainable params: 0\n",
      "_________________________________________________________________\n"
     ]
    }
   ],
   "source": [
    "model=Sequential()\n",
    "model.add(Conv2D(filters=filters,kernel_size=kernel_size,activation='relu',input_shape=input_shape))\n",
    "model.add(MaxPooling2D(pool_size))\n",
    "model.add(Conv2D(filters=filters,kernel_size=kernel_size,padding = 'same', activation='relu'))\n",
    "model.add(MaxPooling2D(pool_size))\n",
    "model.add(Conv2D(filters=filters,kernel_size=kernel_size,activation='relu'))\n",
    "model.add(Flatten())\n",
    "model.add(Dropout(dropout))\n",
    "model.add(Dense(num_labels, activation='softmax'))\n",
    "model.summary()"
   ]
  },
  {
   "cell_type": "code",
   "execution_count": 3,
   "metadata": {},
   "outputs": [
    {
     "name": "stdout",
     "output_type": "stream",
     "text": [
      "Model: \"sequential\"\n",
      "_________________________________________________________________\n",
      " Layer (type)                Output Shape              Param #   \n",
      "=================================================================\n",
      " conv2d (Conv2D)             (None, 26, 26, 64)        640       \n",
      "                                                                 \n",
      " max_pooling2d (MaxPooling2D  (None, 13, 13, 64)       0         \n",
      " )                                                               \n",
      "                                                                 \n",
      " conv2d_1 (Conv2D)           (None, 11, 11, 64)        36928     \n",
      "                                                                 \n",
      " max_pooling2d_1 (MaxPooling  (None, 5, 5, 64)         0         \n",
      " 2D)                                                             \n",
      "                                                                 \n",
      " conv2d_2 (Conv2D)           (None, 3, 3, 64)          36928     \n",
      "                                                                 \n",
      " flatten (Flatten)           (None, 576)               0         \n",
      "                                                                 \n",
      " dropout (Dropout)           (None, 576)               0         \n",
      "                                                                 \n",
      " dense (Dense)               (None, 10)                5770      \n",
      "                                                                 \n",
      "=================================================================\n",
      "Total params: 80,266\n",
      "Trainable params: 80,266\n",
      "Non-trainable params: 0\n",
      "_________________________________________________________________\n"
     ]
    }
   ],
   "source": [
    "model=Sequential()\n",
    "model.add(Conv2D(filters=filters,kernel_size=kernel_size,activation='relu',input_shape=input_shape))\n",
    "model.add(MaxPooling2D(pool_size))\n",
    "model.add(Conv2D(filters=filters,kernel_size=kernel_size,activation='relu'))\n",
    "model.add(MaxPooling2D(pool_size))\n",
    "model.add(Conv2D(filters=filters,kernel_size=kernel_size,activation='relu'))\n",
    "model.add(Flatten())\n",
    "model.add(Dropout(dropout))\n",
    "model.add(Dense(num_labels, activation='softmax'))\n",
    "model.summary()"
   ]
  },
  {
   "cell_type": "code",
   "execution_count": 4,
   "metadata": {},
   "outputs": [
    {
     "data": {
      "image/png": "[encoded data removed]",
      "text/plain": [
       "<IPython.core.display.Image object>"
      ]
     },
     "execution_count": 4,
     "metadata": {},
     "output_type": "execute_result"
    }
   ],
   "source": [
    "plot_model(model,show_shapes=True)"
   ]
  },
  {
   "cell_type": "code",
   "execution_count": 5,
   "metadata": {},
   "outputs": [
    {
     "name": "stdout",
     "output_type": "stream",
     "text": [
      "Epoch 1/10\n",
      "938/938 [==============================] - 22s 23ms/step - loss: 0.4635 - accuracy: 0.8533\n",
      "Epoch 2/10\n",
      "938/938 [==============================] - 26s 27ms/step - loss: 0.0652 - accuracy: 0.9790\n",
      "Epoch 3/10\n",
      "938/938 [==============================] - 26s 28ms/step - loss: 0.0463 - accuracy: 0.9857\n",
      "Epoch 4/10\n",
      "938/938 [==============================] - 27s 29ms/step - loss: 0.0338 - accuracy: 0.9883\n",
      "Epoch 5/10\n",
      "938/938 [==============================] - 28s 30ms/step - loss: 0.0311 - accuracy: 0.9902\n",
      "Epoch 6/10\n",
      "938/938 [==============================] - 34s 37ms/step - loss: 0.0238 - accuracy: 0.9927\n",
      "Epoch 7/10\n",
      "938/938 [==============================] - 44s 47ms/step - loss: 0.0213 - accuracy: 0.9932\n",
      "Epoch 8/10\n",
      "938/938 [==============================] - 44s 47ms/step - loss: 0.0166 - accuracy: 0.9940\n",
      "Epoch 9/10\n",
      "938/938 [==============================] - 33s 35ms/step - loss: 0.0181 - accuracy: 0.9943\n",
      "Epoch 10/10\n",
      "938/938 [==============================] - 43s 45ms/step - loss: 0.0138 - accuracy: 0.9953\n"
     ]
    },
    {
     "data": {
      "text/plain": [
       "<tensorflow.python.keras.callbacks.History at 0x1bbed845d30>"
      ]
     },
     "execution_count": 5,
     "metadata": {},
     "output_type": "execute_result"
    }
   ],
   "source": [
    "model.compile(loss='categorical_crossentropy',optimizer='adam', metrics=['accuracy'])\n",
    "model.fit(x_train,y_train,epochs=10,batch_size=64)"
   ]
  },
  {
   "cell_type": "code",
   "execution_count": 6,
   "metadata": {},
   "outputs": [
    {
     "name": "stdout",
     "output_type": "stream",
     "text": [
      "313/313 [==============================] - 1s 4ms/step - loss: 0.0266 - accuracy: 0.9912\n",
      "[0.026592880487442017, 0.9911999702453613]\n"
     ]
    }
   ],
   "source": [
    "results=model.evaluate(x_test,y_test, batch_size=32)\n",
    "print(results)"
   ]
  },
  {
   "cell_type": "markdown",
   "metadata": {},
   "source": [
    "## functional API"
   ]
  },
  {
   "cell_type": "code",
   "execution_count": 7,
   "metadata": {},
   "outputs": [
    {
     "name": "stdout",
     "output_type": "stream",
     "text": [
      "Model: \"model\"\n",
      "_________________________________________________________________\n",
      " Layer (type)                Output Shape              Param #   \n",
      "=================================================================\n",
      " input_1 (InputLayer)        [(None, 28, 28, 1)]       0         \n",
      "                                                                 \n",
      " conv2d_6 (Conv2D)           (None, 26, 26, 64)        640       \n",
      "                                                                 \n",
      " max_pooling2d_4 (MaxPooling  (None, 13, 13, 64)       0         \n",
      " 2D)                                                             \n",
      "                                                                 \n",
      " conv2d_7 (Conv2D)           (None, 11, 11, 64)        36928     \n",
      "                                                                 \n",
      " max_pooling2d_5 (MaxPooling  (None, 5, 5, 64)         0         \n",
      " 2D)                                                             \n",
      "                                                                 \n",
      " conv2d_8 (Conv2D)           (None, 3, 3, 64)          36928     \n",
      "                                                                 \n",
      " flatten_2 (Flatten)         (None, 576)               0         \n",
      "                                                                 \n",
      " dropout_2 (Dropout)         (None, 576)               0         \n",
      "                                                                 \n",
      " dense_2 (Dense)             (None, 10)                5770      \n",
      "                                                                 \n",
      "=================================================================\n",
      "Total params: 80,266\n",
      "Trainable params: 80,266\n",
      "Non-trainable params: 0\n",
      "_________________________________________________________________\n",
      "Epoch 1/10\n",
      "938/938 [==============================] - 86s 91ms/step - loss: 0.2041 - accuracy: 0.9376\n",
      "Epoch 2/10\n",
      "938/938 [==============================] - 79s 85ms/step - loss: 0.0609 - accuracy: 0.9811\n",
      "Epoch 3/10\n",
      "938/938 [==============================] - 74s 79ms/step - loss: 0.0451 - accuracy: 0.9861\n",
      "Epoch 4/10\n",
      "938/938 [==============================] - 76s 81ms/step - loss: 0.0372 - accuracy: 0.9886\n",
      "Epoch 5/10\n",
      "938/938 [==============================] - 81s 86ms/step - loss: 0.0317 - accuracy: 0.9899\n",
      "Epoch 6/10\n",
      "938/938 [==============================] - 75s 80ms/step - loss: 0.0249 - accuracy: 0.9919\n",
      "Epoch 7/10\n",
      "938/938 [==============================] - 63s 67ms/step - loss: 0.0228 - accuracy: 0.9924\n",
      "Epoch 8/10\n",
      "938/938 [==============================] - 65s 69ms/step - loss: 0.0200 - accuracy: 0.9934\n",
      "Epoch 9/10\n",
      "938/938 [==============================] - 80s 86ms/step - loss: 0.0178 - accuracy: 0.9941\n",
      "Epoch 10/10\n",
      "938/938 [==============================] - 76s 81ms/step - loss: 0.0160 - accuracy: 0.9949\n",
      "313/313 [==============================] - 3s 10ms/step - loss: 0.0214 - accuracy: 0.9939\n",
      "[0.0214103814214468, 0.9939000010490417]\n"
     ]
    }
   ],
   "source": [
    "import numpy as np\n",
    "from tensorflow.keras.layers import Dense, Dropout, Input\n",
    "from tensorflow.keras.models import Model\n",
    "x=Input(shape=input_shape)\n",
    "h=Conv2D(filters=filters,kernel_size=kernel_size,activation='relu')(x)\n",
    "h=MaxPooling2D()(h) #maxpooling2D의 default는 (2,2)임\n",
    "h=Conv2D(filters=filters,kernel_size=kernel_size,activation='relu')(h)\n",
    "h=MaxPooling2D()(h) #maxpooling2D의 default는 (2,2)임\n",
    "h=Conv2D(filters=filters,kernel_size=kernel_size,activation='relu')(h)\n",
    "h=Flatten()(h)\n",
    "h=Dropout(dropout)(h)\n",
    "out=Dense(num_labels,activation='softmax')(h)\n",
    "model=Model(inputs=x,outputs=out)\n",
    "model.summary()\n",
    "\n",
    "model.compile(loss='categorical_crossentropy',optimizer='adam', metrics=['accuracy'])\n",
    "model.fit(x_train,y_train,epochs=10,batch_size=64)\n",
    "score=model.evaluate(x_test,y_test)\n",
    "print(score)"
   ]
  },
  {
   "cell_type": "code",
   "execution_count": null,
   "metadata": {},
   "outputs": [],
   "source": []
  }
 ],
 "metadata": {
  "kernelspec": {
   "display_name": "Python 3",
   "language": "python",
   "name": "python3"
  },
  "language_info": {
   "codemirror_mode": {
    "name": "ipython",
    "version": 3
   },
   "file_extension": ".py",
   "mimetype": "text/x-python",
   "name": "python",
   "nbconvert_exporter": "python",
   "pygments_lexer": "ipython3",
   "version": "3.8.8"
  }
 },
 "nbformat": 4,
 "nbformat_minor": 4
}
