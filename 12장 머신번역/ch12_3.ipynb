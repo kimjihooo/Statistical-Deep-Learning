{
 "cells": [
  {
   "cell_type": "code",
   "execution_count": 2,
   "metadata": {
    "colab": {
     "base_uri": "https://localhost:8080/",
     "height": 34
    },
    "colab_type": "code",
    "id": "YbZpxcZfN8oE",
    "outputId": "f413d42f-fca3-4a26-a2a7-457ff3092292"
   },
   "outputs": [],
   "source": [
    "import pandas as pd\n",
    "import numpy as np\n",
    "import string"
   ]
  },
  {
   "cell_type": "code",
   "execution_count": 4,
   "metadata": {
    "colab": {
     "base_uri": "https://localhost:8080/",
     "height": 51
    },
    "colab_type": "code",
    "id": "ATqji5eL4W4U",
    "outputId": "507f45a5-22c9-4119-9100-bc0ba0780958"
   },
   "outputs": [],
   "source": [
    "lines= pd.read_table('C:/Users/user/Desktop/딥러닝교재/제 12장 머신번역(n)/english to french/english to french.txt', names=['eng', 'fr'])"
   ]
  },
  {
   "cell_type": "code",
   "execution_count": 5,
   "metadata": {
    "colab": {},
    "colab_type": "code",
    "id": "F_qXu5VX4XIp"
   },
   "outputs": [
    {
     "name": "stdout",
     "output_type": "stream",
     "text": [
      "    eng        fr\n",
      "0   Go.      Va !\n",
      "1  Run!   Cours !\n",
      "2  Run!  Courez !\n",
      "                            eng                              fr\n",
      "49997  They go to work on foot.     Ils vont au travail à pied.\n",
      "49998  They got into the train.    Ils montèrent dans le train.\n",
      "49999  They got into the train.  Elles montèrent dans le train.\n"
     ]
    }
   ],
   "source": [
    "lines = lines[0:50000]\n",
    "print(lines.head(3))\n",
    "print(lines.tail(3))"
   ]
  },
  {
   "cell_type": "code",
   "execution_count": 6,
   "metadata": {
    "colab": {},
    "colab_type": "code",
    "id": "NkdgGL404XGc"
   },
   "outputs": [],
   "source": [
    "lines['eng']=lines['eng'].apply(lambda x: x.lower())\n",
    "lines['fr']=lines['fr'].apply(lambda x: x.lower())"
   ]
  },
  {
   "cell_type": "code",
   "execution_count": 7,
   "metadata": {
    "colab": {},
    "colab_type": "code",
    "id": "gOkzFxTe4fhL"
   },
   "outputs": [],
   "source": [
    "exclude = set(string.punctuation)\n",
    "lines.eng=lines.eng.apply(lambda x: ''.join(ch for ch in x if ch not in exclude))\n",
    "lines.fr=lines.fr.apply(lambda x: ''.join(ch for ch in x if ch not in exclude))"
   ]
  },
  {
   "cell_type": "code",
   "execution_count": 8,
   "metadata": {
    "colab": {
     "base_uri": "https://localhost:8080/",
     "height": 204
    },
    "colab_type": "code",
    "id": "tzfDq12jOeZD",
    "outputId": "ff9515af-b9c5-4ebe-a62d-26bab4e83e6d"
   },
   "outputs": [
    {
     "name": "stdout",
     "output_type": "stream",
     "text": [
      "   eng       fr\n",
      "0   go      va \n",
      "1  run   cours \n",
      "2  run  courez \n",
      "                           eng                             fr\n",
      "49997  they go to work on foot     ils vont au travail à pied\n",
      "49998  they got into the train    ils montèrent dans le train\n",
      "49999  they got into the train  elles montèrent dans le train\n"
     ]
    }
   ],
   "source": [
    "print(lines.head(3))\n",
    "print(lines.tail(3))"
   ]
  },
  {
   "cell_type": "code",
   "execution_count": 9,
   "metadata": {
    "colab": {},
    "colab_type": "code",
    "id": "2tVHM-oR4fpm"
   },
   "outputs": [],
   "source": [
    "lines.fr = lines.fr.apply(lambda x : 'start '+ x + ' end')"
   ]
  },
  {
   "cell_type": "code",
   "execution_count": 10,
   "metadata": {
    "colab": {
     "base_uri": "https://localhost:8080/",
     "height": 204
    },
    "colab_type": "code",
    "id": "2D_AMqsdndne",
    "outputId": "cb4eacbf-03ca-4005-8461-9766e39b19e6"
   },
   "outputs": [
    {
     "name": "stdout",
     "output_type": "stream",
     "text": [
      "   eng                 fr\n",
      "0   go      start va  end\n",
      "1  run   start cours  end\n",
      "2  run  start courez  end\n",
      "                           eng                                       fr\n",
      "49997  they go to work on foot     start ils vont au travail à pied end\n",
      "49998  they got into the train    start ils montèrent dans le train end\n",
      "49999  they got into the train  start elles montèrent dans le train end\n"
     ]
    }
   ],
   "source": [
    "print(lines.head(3))\n",
    "print(lines.tail(3))"
   ]
  },
  {
   "cell_type": "code",
   "execution_count": 11,
   "metadata": {
    "colab": {
     "base_uri": "https://localhost:8080/",
     "height": 34
    },
    "colab_type": "code",
    "id": "BByeGbi6rx89",
    "outputId": "736ce137-d57a-468b-cb3b-d8b724db8bf1"
   },
   "outputs": [
    {
     "data": {
      "text/plain": [
       "(50000, 2)"
      ]
     },
     "execution_count": 11,
     "metadata": {},
     "output_type": "execute_result"
    }
   ],
   "source": [
    "lines.shape"
   ]
  },
  {
   "cell_type": "code",
   "execution_count": 12,
   "metadata": {
    "colab": {},
    "colab_type": "code",
    "id": "gCXv8Y7G_szR"
   },
   "outputs": [],
   "source": [
    "# fit a tokenizer\n",
    "from tensorflow.keras.preprocessing.text import Tokenizer\n",
    "def create_tokenizer(lines):\n",
    "    tokenizer = Tokenizer()\n",
    "    tokenizer.fit_on_texts(lines)\n",
    "    return tokenizer"
   ]
  },
  {
   "cell_type": "code",
   "execution_count": 13,
   "metadata": {
    "colab": {},
    "colab_type": "code",
    "id": "4y854XLW_swc"
   },
   "outputs": [],
   "source": [
    "import json\n",
    "eng_tokenizer = create_tokenizer(lines['eng'])\n",
    "eng_dict=json.loads(json.dumps(eng_tokenizer.word_counts))\n",
    "df =pd.DataFrame([eng_dict.keys(), eng_dict.values()]).T\n",
    "df.columns = ['word','count']\n",
    "df = df.sort_values(by='count',ascending = False)\n",
    "df['cum_count']=df['count'].cumsum()\n",
    "df['cum_perc'] = df['cum_count']/df['cum_count'].max()\n",
    "final_eng_words = df[df['cum_perc']<0.8]['word'].values"
   ]
  },
  {
   "cell_type": "code",
   "execution_count": 14,
   "metadata": {
    "colab": {},
    "colab_type": "code",
    "id": "I3OrR4k0AfTX"
   },
   "outputs": [],
   "source": [
    "fr_tokenizer = create_tokenizer(lines['fr'])\n",
    "fr_dict = json.loads(json.dumps(fr_tokenizer.word_counts))\n",
    "df =pd.DataFrame([fr_dict.keys(), fr_dict.values()]).T\n",
    "df.columns = ['word','count']\n",
    "df = df.sort_values(by='count',ascending = False)\n",
    "df['cum_count']=df['count'].cumsum()\n",
    "df['cum_perc'] = df['cum_count']/df['cum_count'].max()\n",
    "final_fr_words = df[df['cum_perc']<0.8]['word'].values"
   ]
  },
  {
   "cell_type": "code",
   "execution_count": 15,
   "metadata": {
    "colab": {
     "base_uri": "https://localhost:8080/",
     "height": 34
    },
    "colab_type": "code",
    "id": "m4jrbgIjAfPd",
    "outputId": "ecd98af9-bb9c-4a93-a864-1eeb6c086e32"
   },
   "outputs": [
    {
     "name": "stdout",
     "output_type": "stream",
     "text": [
      "384 357\n"
     ]
    }
   ],
   "source": [
    "print(len(final_eng_words),len(final_fr_words))"
   ]
  },
  {
   "cell_type": "code",
   "execution_count": 16,
   "metadata": {
    "colab": {},
    "colab_type": "code",
    "id": "mTOesHOq_ss0"
   },
   "outputs": [],
   "source": [
    "def filter_eng_words(x):\n",
    "  t = []\n",
    "  x = x.split()\n",
    "  for i in range(len(x)):\n",
    "    if x[i] in final_eng_words:\n",
    "      t.append(x[i])\n",
    "    else:\n",
    "      t.append('unk')\n",
    "  x3 = ''\n",
    "  for i in range(len(t)):\n",
    "    x3 = x3+t[i]+' '\n",
    "  return x3"
   ]
  },
  {
   "cell_type": "code",
   "execution_count": 17,
   "metadata": {
    "colab": {
     "base_uri": "https://localhost:8080/",
     "height": 34
    },
    "colab_type": "code",
    "id": "djQPLFAml-A3",
    "outputId": "02237d1c-4b04-425e-c2a6-b7fba61183aa"
   },
   "outputs": [
    {
     "data": {
      "text/plain": [
       "'he is unk good '"
      ]
     },
     "execution_count": 17,
     "metadata": {},
     "output_type": "execute_result"
    }
   ],
   "source": [
    "filter_eng_words('he is extremely good')"
   ]
  },
  {
   "cell_type": "code",
   "execution_count": 18,
   "metadata": {
    "colab": {},
    "colab_type": "code",
    "id": "e7sUkiqGBDJd"
   },
   "outputs": [],
   "source": [
    "def filter_fr_words(x):\n",
    "  t = []\n",
    "  x = x.split()\n",
    "  for i in range(len(x)):\n",
    "    if x[i] in final_fr_words:\n",
    "      t.append(x[i])\n",
    "    else:\n",
    "      t.append('unk')\n",
    "  x3 = ''\n",
    "  for i in range(len(t)):\n",
    "    x3 = x3+t[i]+' '\n",
    "  return x3"
   ]
  },
  {
   "cell_type": "code",
   "execution_count": 19,
   "metadata": {
    "colab": {},
    "colab_type": "code",
    "id": "qy6K2pdXCxhb"
   },
   "outputs": [],
   "source": [
    "lines['eng']=lines['eng'].apply(filter_eng_words)"
   ]
  },
  {
   "cell_type": "code",
   "execution_count": 20,
   "metadata": {
    "colab": {},
    "colab_type": "code",
    "id": "xVKqcPqvCxd-"
   },
   "outputs": [],
   "source": [
    "lines['fr']=lines['fr'].apply(filter_fr_words)"
   ]
  },
  {
   "cell_type": "code",
   "execution_count": 21,
   "metadata": {
    "colab": {},
    "colab_type": "code",
    "id": "iCO5WTo84fnn"
   },
   "outputs": [],
   "source": [
    "all_eng_words=set()\n",
    "for eng in lines.eng:\n",
    "    for word in eng.split():\n",
    "        if word not in all_eng_words:\n",
    "            all_eng_words.add(word)\n",
    "    \n",
    "all_french_words=set()\n",
    "for fr in lines.fr:\n",
    "    for word in fr.split():\n",
    "        if word not in all_french_words:\n",
    "            all_french_words.add(word)"
   ]
  },
  {
   "cell_type": "code",
   "execution_count": 22,
   "metadata": {
    "colab": {},
    "colab_type": "code",
    "id": "UCaP87KP4W_S"
   },
   "outputs": [],
   "source": [
    "input_words = sorted(list(all_eng_words))\n",
    "target_words = sorted(list(all_french_words))\n",
    "num_encoder_tokens = len(all_eng_words)\n",
    "num_decoder_tokens = len(all_french_words)\n",
    "# del all_eng_words, all_french_words"
   ]
  },
  {
   "cell_type": "code",
   "execution_count": 23,
   "metadata": {
    "colab": {
     "base_uri": "https://localhost:8080/",
     "height": 34
    },
    "colab_type": "code",
    "id": "B5eKtS1hnMob",
    "outputId": "c5bc5dea-7f1e-4802-b8ff-55fe28eb69d6"
   },
   "outputs": [
    {
     "data": {
      "text/plain": [
       "{'unk'}"
      ]
     },
     "execution_count": 23,
     "metadata": {},
     "output_type": "execute_result"
    }
   ],
   "source": [
    "set(all_french_words) - set(final_fr_words) "
   ]
  },
  {
   "cell_type": "code",
   "execution_count": 24,
   "metadata": {
    "colab": {
     "base_uri": "https://localhost:8080/",
     "height": 34
    },
    "colab_type": "code",
    "id": "7-S77pDvkBp1",
    "outputId": "47ae17e6-8d21-43b5-ba3a-d3e04c7c7e97"
   },
   "outputs": [
    {
     "data": {
      "text/plain": [
       "385"
      ]
     },
     "execution_count": 24,
     "metadata": {},
     "output_type": "execute_result"
    }
   ],
   "source": [
    "len(all_eng_words)"
   ]
  },
  {
   "cell_type": "code",
   "execution_count": 25,
   "metadata": {
    "colab": {
     "base_uri": "https://localhost:8080/",
     "height": 34
    },
    "colab_type": "code",
    "id": "3IUuEVNm-z6N",
    "outputId": "e1581fe3-39ec-414c-b667-9fb400d821c6"
   },
   "outputs": [
    {
     "data": {
      "text/plain": [
       "358"
      ]
     },
     "execution_count": 25,
     "metadata": {},
     "output_type": "execute_result"
    }
   ],
   "source": [
    "len(target_words)"
   ]
  },
  {
   "cell_type": "code",
   "execution_count": 26,
   "metadata": {
    "colab": {},
    "colab_type": "code",
    "id": "YZQegvje4W8w"
   },
   "outputs": [],
   "source": [
    "input_token_index = dict(\n",
    "    [(word, i+1) for i, word in enumerate(input_words)])\n",
    "target_token_index = dict(\n",
    "    [(word, i+1) for i, word in enumerate(target_words)])"
   ]
  },
  {
   "cell_type": "code",
   "execution_count": 27,
   "metadata": {
    "colab": {
     "base_uri": "https://localhost:8080/",
     "height": 34
    },
    "colab_type": "code",
    "id": "haKpA4AJhDnV",
    "outputId": "52dc1bfb-8806-4832-d722-ba1e4cd3f8d4"
   },
   "outputs": [
    {
     "data": {
      "text/plain": [
       "358"
      ]
     },
     "execution_count": 27,
     "metadata": {},
     "output_type": "execute_result"
    }
   ],
   "source": [
    "num_decoder_tokens"
   ]
  },
  {
   "cell_type": "code",
   "execution_count": 28,
   "metadata": {},
   "outputs": [
    {
     "name": "stdout",
     "output_type": "stream",
     "text": [
      "336\n",
      "284\n",
      "89\n",
      "unk\n",
      "start\n",
      "end\n"
     ]
    }
   ],
   "source": [
    "print(input_token_index['unk'])\n",
    "print(target_token_index['start'])\n",
    "print(target_token_index['end'])\n",
    "print(list(input_token_index.keys())[335])\n",
    "print(list(target_token_index.keys())[283])\n",
    "print(list(target_token_index.keys())[88])"
   ]
  },
  {
   "cell_type": "code",
   "execution_count": 29,
   "metadata": {},
   "outputs": [],
   "source": [
    "length_list=[]\n",
    "for l in lines.fr:\n",
    "    length_list.append(len(l.split(' ')))\n",
    "fr_max_length = np.max(length_list)"
   ]
  },
  {
   "cell_type": "code",
   "execution_count": 30,
   "metadata": {},
   "outputs": [],
   "source": [
    "length_list=[]\n",
    "for l in lines.eng:\n",
    "    length_list.append(len(l.split(' ')))\n",
    "eng_max_length = np.max(length_list)"
   ]
  },
  {
   "cell_type": "code",
   "execution_count": 31,
   "metadata": {},
   "outputs": [
    {
     "name": "stdout",
     "output_type": "stream",
     "text": [
      "8\n",
      "17\n"
     ]
    }
   ],
   "source": [
    "print(eng_max_length)\n",
    "print(fr_max_length)"
   ]
  },
  {
   "cell_type": "code",
   "execution_count": 32,
   "metadata": {
    "colab": {},
    "colab_type": "code",
    "id": "r5_mrLkj45gt"
   },
   "outputs": [],
   "source": [
    "encoder_input_data = np.zeros(\n",
    "    (len(lines['eng']), eng_max_length),\n",
    "    dtype='float32')\n",
    "decoder_input_data = np.zeros(\n",
    "    (len(lines['fr']), fr_max_length),\n",
    "    dtype='float32')\n",
    "decoder_target_data = np.zeros(\n",
    "    (len(lines['fr']), fr_max_length, num_decoder_tokens+1),\n",
    "    dtype='float32')"
   ]
  },
  {
   "cell_type": "code",
   "execution_count": 33,
   "metadata": {
    "colab": {
     "base_uri": "https://localhost:8080/",
     "height": 34
    },
    "colab_type": "code",
    "id": "wrURv1JXrBDF",
    "outputId": "69d72c5b-81f8-4791-e3aa-c7cda60223e7"
   },
   "outputs": [
    {
     "data": {
      "text/plain": [
       "(50000, 17, 359)"
      ]
     },
     "execution_count": 33,
     "metadata": {},
     "output_type": "execute_result"
    }
   ],
   "source": [
    "decoder_target_data.shape"
   ]
  },
  {
   "cell_type": "code",
   "execution_count": 34,
   "metadata": {
    "colab": {},
    "colab_type": "code",
    "id": "km2HiJ0G45oB"
   },
   "outputs": [],
   "source": [
    "for i, (input_text, target_text) in enumerate(zip(lines['eng'], lines['fr'])):\n",
    "    for t, word in enumerate(input_text.split()):\n",
    "        encoder_input_data[i, t] = input_token_index[word]\n",
    "    for t, word in enumerate(target_text.split()):\n",
    "        decoder_input_data[i, t] = target_token_index[word]\n",
    "        if t>0:\n",
    "            decoder_target_data[i, t - 1, target_token_index[word]] = 1.\n",
    "            if t== len(target_text.split())-1:\n",
    "                decoder_target_data[i, t:, 89] = 1"
   ]
  },
  {
   "cell_type": "code",
   "execution_count": 35,
   "metadata": {
    "colab": {
     "base_uri": "https://localhost:8080/",
     "height": 34
    },
    "colab_type": "code",
    "id": "DFwjmRUe-EC5",
    "outputId": "f80ec275-439b-438d-931d-ff846a39c7ed"
   },
   "outputs": [
    {
     "name": "stdout",
     "output_type": "stream",
     "text": [
      "(50000, 17) (50000, 8) (50000, 17, 359)\n"
     ]
    }
   ],
   "source": [
    "print(decoder_input_data.shape,encoder_input_data.shape,decoder_target_data.shape)"
   ]
  },
  {
   "cell_type": "code",
   "execution_count": 36,
   "metadata": {
    "colab": {},
    "colab_type": "code",
    "id": "bd_TzFXztDBQ"
   },
   "outputs": [],
   "source": [
    "for i in range(decoder_input_data.shape[0]):\n",
    "    for j in range(decoder_input_data.shape[1]):\n",
    "        if(decoder_input_data[i][j]==0):\n",
    "            decoder_input_data[i][j] = 89"
   ]
  },
  {
   "cell_type": "code",
   "execution_count": 37,
   "metadata": {
    "colab": {
     "base_uri": "https://localhost:8080/",
     "height": 122
    },
    "colab_type": "code",
    "id": "ICjkgEpc5sAE",
    "outputId": "6231b83f-0634-4ff2-de62-711b5bf4a900"
   },
   "outputs": [
    {
     "name": "stdout",
     "output_type": "stream",
     "text": [
      "[<KerasTensor: shape=(None, 256) dtype=float32 (created by layer 'lstm')>, <KerasTensor: shape=(None, 256) dtype=float32 (created by layer 'lstm')>]\n",
      "decoder KerasTensor(type_spec=TensorSpec(shape=(None, 17, 256), dtype=tf.float32, name=None), name='lstm_1/PartitionedCall:1', description=\"created by layer 'lstm_1'\")\n"
     ]
    }
   ],
   "source": [
    "from tensorflow.keras.models import Model\n",
    "from tensorflow.keras.layers import Input, LSTM, Dense, Embedding, Dropout, Activation, concatenate\n",
    "encoder_inputs = Input(shape=(eng_max_length,))\n",
    "en_x=  Embedding(num_encoder_tokens+1, 128)(encoder_inputs)\n",
    "en_x = Dropout(0.1)(en_x)\n",
    "encoder_outputs, state_h, state_c = LSTM(256, return_sequences=True, return_state=True)(en_x)\n",
    "encoder_states=[state_h, state_c]\n",
    "print(encoder_states)\n",
    "decoder_inputs = Input(shape=(fr_max_length,))\n",
    "dex=  Embedding(num_decoder_tokens+1,128)(decoder_inputs)\n",
    "decoder = Dropout(0.1)(dex)\n",
    "decoder = LSTM(256, return_sequences=True)(decoder, initial_state=encoder_states)\n",
    "print('decoder', decoder)"
   ]
  },
  {
   "cell_type": "code",
   "execution_count": 38,
   "metadata": {
    "colab": {
     "base_uri": "https://localhost:8080/",
     "height": 34
    },
    "colab_type": "code",
    "id": "Zwsxh1D0hskm",
    "outputId": "49687798-1e75-43a6-b081-df6f56aedf76"
   },
   "outputs": [
    {
     "name": "stdout",
     "output_type": "stream",
     "text": [
      "KerasTensor(type_spec=TensorSpec(shape=(None, 8, 5000), dtype=tf.float32, name=None), name='dense/Tanh:0', description=\"created by layer 'dense'\")\n",
      "KerasTensor(type_spec=TensorSpec(shape=(None, 17, 5000), dtype=tf.float32, name=None), name='dense_1/Tanh:0', description=\"created by layer 'dense_1'\")\n"
     ]
    }
   ],
   "source": [
    "t = Dense(5000, activation='tanh')(encoder_outputs)\n",
    "t1 = Dense(5000, activation='tanh')(decoder)\n",
    "print(t)\n",
    "print(t1)"
   ]
  },
  {
   "cell_type": "code",
   "execution_count": 39,
   "metadata": {
    "colab": {
     "base_uri": "https://localhost:8080/",
     "height": 34
    },
    "colab_type": "code",
    "id": "7WzvPzpjijzq",
    "outputId": "75fa9068-154a-4ef9-8804-633e24668629"
   },
   "outputs": [
    {
     "data": {
      "text/plain": [
       "<KerasTensor: shape=(None, 17, 8) dtype=float32 (created by layer 'dot')>"
      ]
     },
     "execution_count": 39,
     "metadata": {},
     "output_type": "execute_result"
    }
   ],
   "source": [
    "from tensorflow.keras.layers import dot\n",
    "attention = dot([t1, t], axes=[2, 2])\n",
    "attention"
   ]
  },
  {
   "cell_type": "code",
   "execution_count": 38,
   "metadata": {
    "colab": {
     "base_uri": "https://localhost:8080/",
     "height": 34
    },
    "colab_type": "code",
    "id": "l93IV4Mk45Uy",
    "outputId": "a5434a6a-4aa5-4a44-da93-87643502c8cf"
   },
   "outputs": [
    {
     "name": "stdout",
     "output_type": "stream",
     "text": [
      "attention KerasTensor(type_spec=TensorSpec(shape=(None, 17, 8), dtype=tf.float32, name=None), name='activation/truediv:0', description=\"created by layer 'activation'\")\n",
      "context KerasTensor(type_spec=TensorSpec(shape=(None, 17, 256), dtype=tf.float32, name=None), name='dot_1/MatMul:0', description=\"created by layer 'dot_1'\")\n"
     ]
    }
   ],
   "source": [
    "attention = Dense(eng_max_length, activation='tanh')(attention)\n",
    "attention = Activation('softmax')(attention)\n",
    "context = dot([attention, encoder_outputs], axes = [2,1])#encoder_outputs(None,8,256)\n",
    "print('attention', attention)\n",
    "print('context', context)"
   ]
  },
  {
   "cell_type": "code",
   "execution_count": 39,
   "metadata": {
    "colab": {
     "base_uri": "https://localhost:8080/",
     "height": 34
    },
    "colab_type": "code",
    "id": "JtQqnGoCMi6M",
    "outputId": "91ae09ae-7b6c-4a20-d945-bfeb7a95f6bc"
   },
   "outputs": [
    {
     "name": "stdout",
     "output_type": "stream",
     "text": [
      "decoder_combined_context KerasTensor(type_spec=TensorSpec(shape=(None, 17, 512), dtype=tf.float32, name=None), name='concatenate/concat:0', description=\"created by layer 'concatenate'\")\n"
     ]
    }
   ],
   "source": [
    "decoder_combined_context = concatenate([context, decoder])\n",
    "print('decoder_combined_context', decoder_combined_context)"
   ]
  },
  {
   "cell_type": "code",
   "execution_count": 40,
   "metadata": {
    "colab": {
     "base_uri": "https://localhost:8080/",
     "height": 34
    },
    "colab_type": "code",
    "id": "SIs1VlboMi3m",
    "outputId": "af8ed624-b40c-43c9-a800-bc42331a50c6"
   },
   "outputs": [
    {
     "name": "stdout",
     "output_type": "stream",
     "text": [
      "output KerasTensor(type_spec=TensorSpec(shape=(None, 17, 359), dtype=tf.float32, name=None), name='dense_4/truediv:0', description=\"created by layer 'dense_4'\")\n"
     ]
    }
   ],
   "source": [
    "decoder_combined_context = Dense(2000, activation='tanh')(decoder_combined_context)\n",
    "output = Dense( num_decoder_tokens+1, activation=\"softmax\")(decoder_combined_context)\n",
    "print('output', output)"
   ]
  },
  {
   "cell_type": "code",
   "execution_count": 41,
   "metadata": {
    "colab": {},
    "colab_type": "code",
    "id": "dIg-pwU6Mi03"
   },
   "outputs": [],
   "source": [
    "model3 = Model(inputs=[encoder_inputs, decoder_inputs], outputs=[output])\n",
    "model3.compile(optimizer='adam', loss='categorical_crossentropy',metrics = ['accuracy'])"
   ]
  },
  {
   "cell_type": "code",
   "execution_count": 42,
   "metadata": {
    "colab": {
     "base_uri": "https://localhost:8080/",
     "height": 782
    },
    "colab_type": "code",
    "id": "q2-NyZ_PMixr",
    "outputId": "a3c9fba1-09fd-46fb-b4eb-ba49fce81cd6"
   },
   "outputs": [
    {
     "name": "stdout",
     "output_type": "stream",
     "text": [
      "Model: \"model\"\n",
      "__________________________________________________________________________________________________\n",
      "Layer (type)                    Output Shape         Param #     Connected to                     \n",
      "==================================================================================================\n",
      "input_1 (InputLayer)            [(None, 8)]          0                                            \n",
      "__________________________________________________________________________________________________\n",
      "input_2 (InputLayer)            [(None, 17)]         0                                            \n",
      "__________________________________________________________________________________________________\n",
      "embedding (Embedding)           (None, 8, 128)       49408       input_1[0][0]                    \n",
      "__________________________________________________________________________________________________\n",
      "embedding_1 (Embedding)         (None, 17, 128)      45952       input_2[0][0]                    \n",
      "__________________________________________________________________________________________________\n",
      "dropout (Dropout)               (None, 8, 128)       0           embedding[0][0]                  \n",
      "__________________________________________________________________________________________________\n",
      "dropout_1 (Dropout)             (None, 17, 128)      0           embedding_1[0][0]                \n",
      "__________________________________________________________________________________________________\n",
      "lstm (LSTM)                     [(None, 8, 256), (No 394240      dropout[0][0]                    \n",
      "__________________________________________________________________________________________________\n",
      "lstm_1 (LSTM)                   (None, 17, 256)      394240      dropout_1[0][0]                  \n",
      "                                                                 lstm[0][1]                       \n",
      "                                                                 lstm[0][2]                       \n",
      "__________________________________________________________________________________________________\n",
      "dense_1 (Dense)                 (None, 17, 5000)     1285000     lstm_1[0][0]                     \n",
      "__________________________________________________________________________________________________\n",
      "dense (Dense)                   (None, 8, 5000)      1285000     lstm[0][0]                       \n",
      "__________________________________________________________________________________________________\n",
      "dot (Dot)                       (None, 17, 8)        0           dense_1[0][0]                    \n",
      "                                                                 dense[0][0]                      \n",
      "__________________________________________________________________________________________________\n",
      "dense_2 (Dense)                 (None, 17, 8)        72          dot[0][0]                        \n",
      "__________________________________________________________________________________________________\n",
      "activation (Activation)         (None, 17, 8)        0           dense_2[0][0]                    \n",
      "__________________________________________________________________________________________________\n",
      "dot_1 (Dot)                     (None, 17, 256)      0           activation[0][0]                 \n",
      "                                                                 lstm[0][0]                       \n",
      "__________________________________________________________________________________________________\n",
      "concatenate (Concatenate)       (None, 17, 512)      0           dot_1[0][0]                      \n",
      "                                                                 lstm_1[0][0]                     \n",
      "__________________________________________________________________________________________________\n",
      "dense_3 (Dense)                 (None, 17, 2000)     1026000     concatenate[0][0]                \n",
      "__________________________________________________________________________________________________\n",
      "dense_4 (Dense)                 (None, 17, 359)      718359      dense_3[0][0]                    \n",
      "==================================================================================================\n",
      "Total params: 5,198,271\n",
      "Trainable params: 5,198,271\n",
      "Non-trainable params: 0\n",
      "__________________________________________________________________________________________________\n"
     ]
    }
   ],
   "source": [
    "model3.summary()"
   ]
  },
  {
   "cell_type": "code",
   "execution_count": 43,
   "metadata": {
    "colab": {},
    "colab_type": "code",
    "id": "8_xssrGU_rAv"
   },
   "outputs": [
    {
     "data": {
      "image/png": "[encoded data removed]",
      "text/plain": [
       "<IPython.core.display.Image object>"
      ]
     },
     "execution_count": 43,
     "metadata": {
      "image/png": {
       "height": 700,
       "width": 552
      }
     },
     "output_type": "execute_result"
    }
   ],
   "source": [
    "from tensorflow.keras.utils import plot_model\n",
    "plot_model(model3, show_shapes=True, show_layer_names=True, to_file='model.png')\n",
    "from IPython.display import Image\n",
    "Image(retina=True, filename='model.png')"
   ]
  },
  {
   "cell_type": "code",
   "execution_count": 44,
   "metadata": {
    "colab": {
     "base_uri": "https://localhost:8080/",
     "height": 204
    },
    "colab_type": "code",
    "id": "YMfxNSiDMiuv",
    "outputId": "f130dc78-404c-414e-89c5-00da52f4f521"
   },
   "outputs": [
    {
     "name": "stdout",
     "output_type": "stream",
     "text": [
      "Epoch 1/5\n",
      "1485/1485 [==============================] - 1007s 673ms/step - loss: 0.9972 - accuracy: 0.8213 - val_loss: 0.7025 - val_accuracy: 0.8316\n",
      "Epoch 2/5\n",
      "1485/1485 [==============================] - 253s 170ms/step - loss: 0.4625 - accuracy: 0.8853 - val_loss: 0.6088 - val_accuracy: 0.8476\n",
      "Epoch 3/5\n",
      "1485/1485 [==============================] - 254s 171ms/step - loss: 0.3932 - accuracy: 0.8970 - val_loss: 0.5556 - val_accuracy: 0.8585\n",
      "Epoch 4/5\n",
      "1485/1485 [==============================] - 258s 174ms/step - loss: 0.3526 - accuracy: 0.9048 - val_loss: 0.5615 - val_accuracy: 0.8592\n",
      "Epoch 5/5\n",
      "1485/1485 [==============================] - 256s 172ms/step - loss: 0.3293 - accuracy: 0.9091 - val_loss: 0.5090 - val_accuracy: 0.8688\n"
     ]
    }
   ],
   "source": [
    "history3 = model3.fit([encoder_input_data, decoder_input_data], decoder_target_data,\n",
    "          batch_size=32,\n",
    "          epochs=5,\n",
    "          validation_split=0.05)"
   ]
  },
  {
   "cell_type": "code",
   "execution_count": 45,
   "metadata": {},
   "outputs": [
    {
     "data": {
      "text/plain": [
       "[<tensorflow.python.keras.engine.input_layer.InputLayer at 0x2046e8cf8e0>,\n",
       " <tensorflow.python.keras.engine.input_layer.InputLayer at 0x2046e459be0>,\n",
       " <tensorflow.python.keras.layers.embeddings.Embedding at 0x2046e495d30>,\n",
       " <tensorflow.python.keras.layers.embeddings.Embedding at 0x204660fa310>,\n",
       " <tensorflow.python.keras.layers.core.Dropout at 0x2046e4916a0>,\n",
       " <tensorflow.python.keras.layers.core.Dropout at 0x204660fadc0>,\n",
       " <tensorflow.python.keras.layers.recurrent_v2.LSTM at 0x2046e4916d0>,\n",
       " <tensorflow.python.keras.layers.recurrent_v2.LSTM at 0x204661082b0>,\n",
       " <tensorflow.python.keras.layers.core.Dense at 0x20470d7be20>,\n",
       " <tensorflow.python.keras.layers.core.Dense at 0x2046e8cfe50>,\n",
       " <tensorflow.python.keras.layers.merge.Dot at 0x2046e8cfdf0>,\n",
       " <tensorflow.python.keras.layers.core.Dense at 0x20470f21250>,\n",
       " <tensorflow.python.keras.layers.core.Activation at 0x20470f21460>,\n",
       " <tensorflow.python.keras.layers.merge.Dot at 0x20470f1ea30>,\n",
       " <tensorflow.python.keras.layers.merge.Concatenate at 0x20470f3bd60>,\n",
       " <tensorflow.python.keras.layers.core.Dense at 0x20470f414c0>,\n",
       " <tensorflow.python.keras.layers.core.Dense at 0x20470f41f70>]"
      ]
     },
     "execution_count": 45,
     "metadata": {},
     "output_type": "execute_result"
    }
   ],
   "source": [
    "model3.layers"
   ]
  },
  {
   "cell_type": "code",
   "execution_count": 46,
   "metadata": {},
   "outputs": [
    {
     "data": {
      "text/plain": [
       "array([[0.09003057, 0.24472848, 0.66524094],\n",
       "       [0.15536241, 0.42231882, 0.42231882]], dtype=float32)"
      ]
     },
     "execution_count": 46,
     "metadata": {},
     "output_type": "execute_result"
    }
   ],
   "source": [
    "import tensorflow as tf\n",
    "act=tf.constant([[1.,2,3],[5.,6,6]])\n",
    "tf.keras.activations.softmax(act).numpy()\n"
   ]
  },
  {
   "cell_type": "code",
   "execution_count": 47,
   "metadata": {
    "colab": {
     "base_uri": "https://localhost:8080/",
     "height": 388
    },
    "colab_type": "code",
    "id": "ULG8Skfl_n09",
    "outputId": "426dc987-fa89-4e91-a4c5-7ab3b09368d2"
   },
   "outputs": [
    {
     "data": {
      "image/png": "[encoded data removed]",
      "text/plain": [
       "<Figure size 432x288 with 1 Axes>"
      ]
     },
     "metadata": {
      "needs_background": "light"
     },
     "output_type": "display_data"
    },
    {
     "data": {
      "image/png": "[encoded data removed]",
      "text/plain": [
       "<Figure size 432x288 with 1 Axes>"
      ]
     },
     "metadata": {
      "needs_background": "light"
     },
     "output_type": "display_data"
    }
   ],
   "source": [
    "import matplotlib.pyplot as plt\n",
    "acc=history3.history['accuracy']\n",
    "val_acc=history3.history['val_accuracy']\n",
    "loss=history3.history['loss']\n",
    "val_loss=history3.history['val_loss']\n",
    "epochs=range(1,len(acc)+1)\n",
    "plt.plot(epochs,acc,'b',label='training acc')\n",
    "plt.plot(epochs,val_acc,'bo',label='validation acc')\n",
    "plt.title('training and validation accuracy')\n",
    "plt.legend()\n",
    "plt.figure()\n",
    "plt.plot(epochs,loss,'b',label='training loss')\n",
    "plt.plot(epochs,val_loss,'bo',label='validation loss')\n",
    "plt.title('training and validation loss')\n",
    "plt.legend()\n",
    "plt.show()"
   ]
  },
  {
   "cell_type": "code",
   "execution_count": 48,
   "metadata": {
    "colab": {
     "base_uri": "https://localhost:8080/",
     "height": 1000
    },
    "colab_type": "code",
    "id": "a4uF1VoaFS5A",
    "outputId": "87ea269f-b111-4130-d464-3796fc48a5eb"
   },
   "outputs": [],
   "source": [
    "decoder_input_data_pred = np.zeros(\n",
    "    (len(lines.fr), fr_max_length),\n",
    "    dtype='float32')\n",
    "\n",
    "final_pred_att = []\n",
    "for i in range(2500):\n",
    "  word = 284\n",
    "  for j in range(17):\n",
    "    decoder_input_data_pred[(47500+i), j] = word\n",
    "    pred = model3.predict([encoder_input_data[(47500+i)].reshape(1,8),decoder_input_data_pred[47500+i].reshape(1,17)])\n",
    "    t = np.argmax(pred[0][j])\n",
    "    word = t\n",
    "    if word==89:\n",
    "      break\n",
    "  final_pred_att.append(list(decoder_input_data_pred[47500+i]))"
   ]
  },
  {
   "cell_type": "code",
   "execution_count": 49,
   "metadata": {
    "colab": {
     "base_uri": "https://localhost:8080/",
     "height": 34
    },
    "colab_type": "code",
    "id": "a9etONejFS0L",
    "outputId": "91c7bc65-7f03-457c-eb7f-93a51d06c6fd"
   },
   "outputs": [
    {
     "data": {
      "text/plain": [
       "0.4291672873528974"
      ]
     },
     "execution_count": 49,
     "metadata": {},
     "output_type": "execute_result"
    }
   ],
   "source": [
    "final_pred2_att = np.array(final_pred_att)\n",
    "count = 0\n",
    "correct_count = 0\n",
    "\n",
    "for i in range(2500):\n",
    "  correct_count += np.sum((decoder_input_data[47500+i]==final_pred2_att[i]) & (decoder_input_data[47500+i]!=89) \n",
    "                         & (decoder_input_data[47500+i]!=284))\n",
    "  count += np.sum((decoder_input_data[47500+i]!=89) & (decoder_input_data[47500+i]!=284) )\n",
    "correct_count/count  "
   ]
  },
  {
   "cell_type": "code",
   "execution_count": 50,
   "metadata": {},
   "outputs": [
    {
     "data": {
      "text/plain": [
       "array([ True, False, False, False, False, False, False, False, False,\n",
       "       False, False, False, False, False, False, False, False])"
      ]
     },
     "execution_count": 50,
     "metadata": {},
     "output_type": "execute_result"
    }
   ],
   "source": [
    "decoder_input_data[47500+1]==final_pred2_att[1]"
   ]
  },
  {
   "cell_type": "code",
   "execution_count": 51,
   "metadata": {},
   "outputs": [
    {
     "data": {
      "text/plain": [
       "array([ True, False, False, False, False, False, False, False, False,\n",
       "       False, False, False, False, False, False, False, False])"
      ]
     },
     "execution_count": 51,
     "metadata": {},
     "output_type": "execute_result"
    }
   ],
   "source": [
    "(decoder_input_data[47500+1]==final_pred2_att[1]) & (decoder_input_data[47500+1]!=89)"
   ]
  },
  {
   "cell_type": "code",
   "execution_count": 52,
   "metadata": {
    "colab": {},
    "colab_type": "code",
    "id": "PLXsGitg1dfx"
   },
   "outputs": [],
   "source": [
    "k = -2400"
   ]
  },
  {
   "cell_type": "code",
   "execution_count": 53,
   "metadata": {
    "colab": {},
    "colab_type": "code",
    "id": "9MErX47CMic9"
   },
   "outputs": [],
   "source": [
    "t = model3.predict([encoder_input_data[k].reshape(1,encoder_input_data.shape[1]),decoder_input_data[k].reshape(1,decoder_input_data.shape[1])]).reshape(decoder_input_data.shape[1], num_decoder_tokens+1)"
   ]
  },
  {
   "cell_type": "code",
   "execution_count": 54,
   "metadata": {
    "colab": {
     "base_uri": "https://localhost:8080/",
     "height": 85
    },
    "colab_type": "code",
    "id": "L-m9Oo_t1pdr",
    "outputId": "a6f586c4-f5ae-43f6-bc62-c30b4cb342ab"
   },
   "outputs": [
    {
     "name": "stdout",
     "output_type": "stream",
     "text": [
      "i\n",
      "feel\n",
      "like\n",
      "unk\n"
     ]
    }
   ],
   "source": [
    "for i in range(len(encoder_input_data[k])):\n",
    "  if int(encoder_input_data[k][i])!=0:\n",
    "    print(list(input_token_index.keys())[int(encoder_input_data[k][i]-1)])"
   ]
  },
  {
   "cell_type": "code",
   "execution_count": 55,
   "metadata": {
    "colab": {
     "base_uri": "https://localhost:8080/",
     "height": 306
    },
    "colab_type": "code",
    "id": "GolIEG_D1pnz",
    "outputId": "264a6480-2ba7-4c72-fa8b-88e8baa9d7a1"
   },
   "outputs": [
    {
     "name": "stdout",
     "output_type": "stream",
     "text": [
      "je\n",
      "unk\n",
      "de\n",
      "unk\n",
      "unk\n",
      "unk\n",
      "end\n"
     ]
    }
   ],
   "source": [
    "t2 = np.argmax(t,axis=1)\n",
    "for i in range(len(t2)):\n",
    "  if int(t2[i])!=0:\n",
    "    print(list(target_token_index.keys())[int(t2[i]-1)])\n",
    "    if int(t2[i])==89:\n",
    "        break"
   ]
  },
  {
   "cell_type": "code",
   "execution_count": 56,
   "metadata": {
    "colab": {
     "base_uri": "https://localhost:8080/",
     "height": 306
    },
    "colab_type": "code",
    "id": "HH8mQ11E1v2Z",
    "outputId": "4362cdee-d632-44e5-e053-69c34ba2c113"
   },
   "outputs": [
    {
     "name": "stdout",
     "output_type": "stream",
     "text": [
      "start\n",
      "jai\n",
      "unk\n",
      "de\n",
      "faire\n",
      "la\n",
      "unk\n",
      "end\n"
     ]
    }
   ],
   "source": [
    "t2 = decoder_input_data[k]\n",
    "for i in range(len(t2)):\n",
    "  if int(t2[i])!=0:\n",
    "    print(list(target_token_index.keys())[int(t2[i]-1)])\n",
    "    if int(t2[i])==89:\n",
    "        break"
   ]
  },
  {
   "cell_type": "code",
   "execution_count": null,
   "metadata": {
    "colab": {},
    "colab_type": "code",
    "id": "srk85_SD1v_l"
   },
   "outputs": [],
   "source": []
  },
  {
   "cell_type": "code",
   "execution_count": null,
   "metadata": {
    "colab": {},
    "colab_type": "code",
    "id": "E-eXix35Qal8"
   },
   "outputs": [],
   "source": []
  }
 ],
 "metadata": {
  "accelerator": "GPU",
  "colab": {
   "collapsed_sections": [],
   "name": "Machine_translation.ipynb",
   "provenance": []
  },
  "kernelspec": {
   "display_name": "Python 3",
   "language": "python",
   "name": "python3"
  },
  "language_info": {
   "codemirror_mode": {
    "name": "ipython",
    "version": 3
   },
   "file_extension": ".py",
   "mimetype": "text/x-python",
   "name": "python",
   "nbconvert_exporter": "python",
   "pygments_lexer": "ipython3",
   "version": "3.8.5"
  }
 },
 "nbformat": 4,
 "nbformat_minor": 4
}
