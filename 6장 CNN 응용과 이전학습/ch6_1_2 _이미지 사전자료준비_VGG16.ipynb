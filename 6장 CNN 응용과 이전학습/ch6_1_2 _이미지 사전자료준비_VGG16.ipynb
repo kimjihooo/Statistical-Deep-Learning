{
 "cells": [
  {
   "cell_type": "markdown",
   "metadata": {},
   "source": [
    "# 사람의 성별을 구분하는 CNN\n",
    "\n",
    "Ayyadevera(2019)를 기반\n",
    "\n",
    "남자 1000개, 여자 1000개 총 200개의 남녀 사진 "
   ]
  },
  {
   "cell_type": "code",
   "execution_count": 1,
   "metadata": {},
   "outputs": [
    {
     "data": {
      "text/html": [
       "<div>\n",
       "<style scoped>\n",
       "    .dataframe tbody tr th:only-of-type {\n",
       "        vertical-align: middle;\n",
       "    }\n",
       "\n",
       "    .dataframe tbody tr th {\n",
       "        vertical-align: top;\n",
       "    }\n",
       "\n",
       "    .dataframe thead th {\n",
       "        text-align: right;\n",
       "    }\n",
       "</style>\n",
       "<table border=\"1\" class=\"dataframe\">\n",
       "  <thead>\n",
       "    <tr style=\"text-align: right;\">\n",
       "      <th></th>\n",
       "      <th>_unit_id</th>\n",
       "      <th>_golden</th>\n",
       "      <th>_unit_state</th>\n",
       "      <th>_trusted_judgments</th>\n",
       "      <th>_last_judgment_at</th>\n",
       "      <th>please_select_the_gender_of_the_person_in_the_picture</th>\n",
       "      <th>please_select_the_gender_of_the_person_in_the_picture:confidence</th>\n",
       "      <th>image_url</th>\n",
       "      <th>please_select_the_gender_of_the_person_in_the_picture_gold</th>\n",
       "      <th>user_id</th>\n",
       "    </tr>\n",
       "  </thead>\n",
       "  <tbody>\n",
       "    <tr>\n",
       "      <th>0</th>\n",
       "      <td>1023132475</td>\n",
       "      <td>False</td>\n",
       "      <td>finalized</td>\n",
       "      <td>1</td>\n",
       "      <td>8/19/2016 17:00:25</td>\n",
       "      <td>male</td>\n",
       "      <td>1.0</td>\n",
       "      <td>https://d1qb2nb5cznatu.cloudfront.net/users/40...</td>\n",
       "      <td>NaN</td>\n",
       "      <td>40</td>\n",
       "    </tr>\n",
       "    <tr>\n",
       "      <th>1</th>\n",
       "      <td>1023132476</td>\n",
       "      <td>False</td>\n",
       "      <td>finalized</td>\n",
       "      <td>1</td>\n",
       "      <td>8/19/2016 17:00:48</td>\n",
       "      <td>male</td>\n",
       "      <td>1.0</td>\n",
       "      <td>https://d1qb2nb5cznatu.cloudfront.net/users/42...</td>\n",
       "      <td>NaN</td>\n",
       "      <td>42</td>\n",
       "    </tr>\n",
       "    <tr>\n",
       "      <th>2</th>\n",
       "      <td>1023132477</td>\n",
       "      <td>False</td>\n",
       "      <td>finalized</td>\n",
       "      <td>1</td>\n",
       "      <td>8/19/2016 17:01:43</td>\n",
       "      <td>male</td>\n",
       "      <td>1.0</td>\n",
       "      <td>https://d1qb2nb5cznatu.cloudfront.net/users/44...</td>\n",
       "      <td>NaN</td>\n",
       "      <td>44</td>\n",
       "    </tr>\n",
       "    <tr>\n",
       "      <th>3</th>\n",
       "      <td>1023132478</td>\n",
       "      <td>False</td>\n",
       "      <td>finalized</td>\n",
       "      <td>1</td>\n",
       "      <td>8/19/2016 17:01:04</td>\n",
       "      <td>male</td>\n",
       "      <td>1.0</td>\n",
       "      <td>https://d1qb2nb5cznatu.cloudfront.net/users/47...</td>\n",
       "      <td>NaN</td>\n",
       "      <td>47</td>\n",
       "    </tr>\n",
       "    <tr>\n",
       "      <th>4</th>\n",
       "      <td>1023132479</td>\n",
       "      <td>False</td>\n",
       "      <td>finalized</td>\n",
       "      <td>1</td>\n",
       "      <td>8/19/2016 17:00:48</td>\n",
       "      <td>male</td>\n",
       "      <td>1.0</td>\n",
       "      <td>https://d1qb2nb5cznatu.cloudfront.net/users/50...</td>\n",
       "      <td>NaN</td>\n",
       "      <td>50</td>\n",
       "    </tr>\n",
       "  </tbody>\n",
       "</table>\n",
       "</div>"
      ],
      "text/plain": [
       "     _unit_id  _golden _unit_state  _trusted_judgments   _last_judgment_at  \\\n",
       "0  1023132475    False   finalized                   1  8/19/2016 17:00:25   \n",
       "1  1023132476    False   finalized                   1  8/19/2016 17:00:48   \n",
       "2  1023132477    False   finalized                   1  8/19/2016 17:01:43   \n",
       "3  1023132478    False   finalized                   1  8/19/2016 17:01:04   \n",
       "4  1023132479    False   finalized                   1  8/19/2016 17:00:48   \n",
       "\n",
       "  please_select_the_gender_of_the_person_in_the_picture  \\\n",
       "0                                               male      \n",
       "1                                               male      \n",
       "2                                               male      \n",
       "3                                               male      \n",
       "4                                               male      \n",
       "\n",
       "   please_select_the_gender_of_the_person_in_the_picture:confidence  \\\n",
       "0                                                1.0                  \n",
       "1                                                1.0                  \n",
       "2                                                1.0                  \n",
       "3                                                1.0                  \n",
       "4                                                1.0                  \n",
       "\n",
       "                                           image_url  \\\n",
       "0  https://d1qb2nb5cznatu.cloudfront.net/users/40...   \n",
       "1  https://d1qb2nb5cznatu.cloudfront.net/users/42...   \n",
       "2  https://d1qb2nb5cznatu.cloudfront.net/users/44...   \n",
       "3  https://d1qb2nb5cznatu.cloudfront.net/users/47...   \n",
       "4  https://d1qb2nb5cznatu.cloudfront.net/users/50...   \n",
       "\n",
       "  please_select_the_gender_of_the_person_in_the_picture_gold  user_id  \n",
       "0                                                NaN               40  \n",
       "1                                                NaN               42  \n",
       "2                                                NaN               44  \n",
       "3                                                NaN               47  \n",
       "4                                                NaN               50  "
      ]
     },
     "execution_count": 1,
     "metadata": {},
     "output_type": "execute_result"
    }
   ],
   "source": [
    "import pandas as pd \n",
    "from skimage import io\n",
    "data=pd.read_csv('C:/Users/ellyj/Desktop/3-1/고급통계적딥러닝/코드 및 데이터_1/제 6장 CNN의 응용과 이전학습/a943287.csv')\n",
    "data.head()"
   ]
  },
  {
   "cell_type": "code",
   "execution_count": 2,
   "metadata": {},
   "outputs": [
    {
     "data": {
      "text/plain": [
       "(64084, 10)"
      ]
     },
     "execution_count": 2,
     "metadata": {},
     "output_type": "execute_result"
    }
   ],
   "source": [
    "data.shape"
   ]
  },
  {
   "cell_type": "code",
   "execution_count": 4,
   "metadata": {},
   "outputs": [
    {
     "data": {
      "text/plain": [
       "(2000, 10)"
      ]
     },
     "execution_count": 4,
     "metadata": {},
     "output_type": "execute_result"
    }
   ],
   "source": [
    "data_male=data[data['please_select_the_gender_of_the_person_in_the_picture']=='male']\n",
    "data_female=data[data['please_select_the_gender_of_the_person_in_the_picture']=='female']\n",
    "final_data=pd.concat([data_male[:1000],data_female[:1000]], axis=0).reset_index(drop=True)\n",
    "final_data.shape"
   ]
  },
  {
   "cell_type": "code",
   "execution_count": 5,
   "metadata": {},
   "outputs": [
    {
     "data": {
      "text/plain": [
       "2000"
      ]
     },
     "execution_count": 5,
     "metadata": {},
     "output_type": "execute_result"
    }
   ],
   "source": [
    "final_data.shape[0]"
   ]
  },
  {
   "cell_type": "markdown",
   "metadata": {},
   "source": [
    "## URL 형태의 이미지 불러오기"
   ]
  },
  {
   "cell_type": "code",
   "execution_count": 6,
   "metadata": {},
   "outputs": [],
   "source": [
    "x=[] # 이미지\n",
    "y=[] # 남녀 라벨\n",
    "for i in range(final_data.shape[0]):\n",
    "    try:\n",
    "        image=io.imread(final_data.loc[i]['image_url']) # URL로 연결된 이미지 자료 읽기\n",
    "        if (image.shape==(300,300,3)):\n",
    "            x.append(image)\n",
    "            y.append(final_data.loc[i]['please_select_the_gender_of_the_person_in_the_picture'])\n",
    "    except:\n",
    "        continue"
   ]
  },
  {
   "cell_type": "code",
   "execution_count": 7,
   "metadata": {
    "scrolled": true
   },
   "outputs": [
    {
     "name": "stdout",
     "output_type": "stream",
     "text": [
      "[[[190 185 182]\n",
      "  [188 183 180]\n",
      "  [189 184 181]\n",
      "  ...\n",
      "  [211 210 206]\n",
      "  [212 208 205]\n",
      "  [212 208 205]]\n",
      "\n",
      " [[190 185 182]\n",
      "  [190 185 182]\n",
      "  [191 186 183]\n",
      "  ...\n",
      "  [210 209 205]\n",
      "  [212 208 205]\n",
      "  [212 208 205]]\n",
      "\n",
      " [[189 184 181]\n",
      "  [191 186 183]\n",
      "  [193 188 185]\n",
      "  ...\n",
      "  [210 209 205]\n",
      "  [213 209 206]\n",
      "  [213 209 206]]\n",
      "\n",
      " ...\n",
      "\n",
      " [[195 191 188]\n",
      "  [196 192 189]\n",
      "  [197 193 190]\n",
      "  ...\n",
      "  [162 159 154]\n",
      "  [174 171 166]\n",
      "  [185 182 177]]\n",
      "\n",
      " [[194 190 187]\n",
      "  [196 192 189]\n",
      "  [196 192 189]\n",
      "  ...\n",
      "  [157 154 149]\n",
      "  [168 165 160]\n",
      "  [179 176 171]]\n",
      "\n",
      " [[195 191 188]\n",
      "  [194 193 189]\n",
      "  [194 193 189]\n",
      "  ...\n",
      "  [154 151 146]\n",
      "  [164 161 156]\n",
      "  [175 172 167]]]\n",
      "male\n"
     ]
    }
   ],
   "source": [
    "print(x[1])\n",
    "print(y[1])"
   ]
  },
  {
   "cell_type": "markdown",
   "metadata": {},
   "source": [
    "## (50, 50, 3) 크기의 자료로 변환 "
   ]
  },
  {
   "cell_type": "code",
   "execution_count": 7,
   "metadata": {},
   "outputs": [
    {
     "name": "stdout",
     "output_type": "stream",
     "text": [
      "Collecting opencv-python\n",
      "  Downloading opencv_python-4.5.5.64-cp36-abi3-win_amd64.whl (35.4 MB)\n",
      "     ---------------------------------------- 35.4/35.4 MB 9.9 MB/s eta 0:00:00\n",
      "Requirement already satisfied: numpy>=1.17.3 in c:\\programdata\\anaconda3\\lib\\site-packages (from opencv-python) (1.20.1)\n",
      "Installing collected packages: opencv-python\n",
      "Successfully installed opencv-python-4.5.5.64\n"
     ]
    },
    {
     "name": "stderr",
     "output_type": "stream",
     "text": [
      "WARNING: Ignoring invalid distribution -portlib-metadata (c:\\programdata\\anaconda3\\lib\\site-packages)\n",
      "WARNING: Ignoring invalid distribution -mportlib-metadata (c:\\programdata\\anaconda3\\lib\\site-packages)\n",
      "WARNING: Ignoring invalid distribution - (c:\\programdata\\anaconda3\\lib\\site-packages)\n",
      "WARNING: Ignoring invalid distribution -portlib-metadata (c:\\programdata\\anaconda3\\lib\\site-packages)\n",
      "WARNING: Ignoring invalid distribution -mportlib-metadata (c:\\programdata\\anaconda3\\lib\\site-packages)\n",
      "WARNING: Ignoring invalid distribution - (c:\\programdata\\anaconda3\\lib\\site-packages)\n",
      "WARNING: Ignoring invalid distribution -portlib-metadata (c:\\programdata\\anaconda3\\lib\\site-packages)\n",
      "WARNING: Ignoring invalid distribution -mportlib-metadata (c:\\programdata\\anaconda3\\lib\\site-packages)\n",
      "WARNING: Ignoring invalid distribution - (c:\\programdata\\anaconda3\\lib\\site-packages)\n",
      "WARNING: Ignoring invalid distribution -portlib-metadata (c:\\programdata\\anaconda3\\lib\\site-packages)\n",
      "WARNING: Ignoring invalid distribution -mportlib-metadata (c:\\programdata\\anaconda3\\lib\\site-packages)\n",
      "WARNING: Ignoring invalid distribution - (c:\\programdata\\anaconda3\\lib\\site-packages)\n",
      "WARNING: Ignoring invalid distribution -portlib-metadata (c:\\programdata\\anaconda3\\lib\\site-packages)\n",
      "WARNING: Ignoring invalid distribution -mportlib-metadata (c:\\programdata\\anaconda3\\lib\\site-packages)\n",
      "WARNING: Ignoring invalid distribution - (c:\\programdata\\anaconda3\\lib\\site-packages)\n",
      "WARNING: Ignoring invalid distribution -portlib-metadata (c:\\programdata\\anaconda3\\lib\\site-packages)\n",
      "WARNING: Ignoring invalid distribution -mportlib-metadata (c:\\programdata\\anaconda3\\lib\\site-packages)\n",
      "WARNING: Ignoring invalid distribution - (c:\\programdata\\anaconda3\\lib\\site-packages)\n"
     ]
    }
   ],
   "source": [
    "# !pip install opencv-python"
   ]
  },
  {
   "cell_type": "code",
   "execution_count": 8,
   "metadata": {},
   "outputs": [],
   "source": [
    "import cv2\n",
    "import numpy as np\n",
    "x2=[]\n",
    "y2=[]\n",
    "for i in range(len(x)):\n",
    "    img2=cv2.resize(x[i],(50,50))\n",
    "    x2.append(img2)\n",
    "    img_label=np.where(y[i]=='male',1,0)\n",
    "    y2.append(img_label)"
   ]
  },
  {
   "cell_type": "code",
   "execution_count": null,
   "metadata": {},
   "outputs": [],
   "source": [
    "## 컬러자료를 흑백으로 변환하고 싶은 경우\n",
    "import cv2\n",
    "import numpy as np\n",
    "x2=[]\n",
    "y2=[]\n",
    "for i in range(len(x)):\n",
    "    img=cv2.cvtColor(x[i],cv2.COLOR_BRG2GRY)\n",
    "    img2=cv2.resize(img,(50,50))\n",
    "    x2.append(img2)\n",
    "    img_label=np.where(y[i]=='male',1,0)\n",
    "    y2.append(img_label)"
   ]
  },
  {
   "cell_type": "markdown",
   "metadata": {},
   "source": [
    "## 텐서형태로 자료 변환"
   ]
  },
  {
   "cell_type": "code",
   "execution_count": 9,
   "metadata": {},
   "outputs": [
    {
     "name": "stdout",
     "output_type": "stream",
     "text": [
      "(1722, 50, 50, 3)\n"
     ]
    }
   ],
   "source": [
    "x2=np.array(x2) # list를 array(텐서)로 바꾸기\n",
    "print(x2.shape)\n",
    "y1=np.array(y2)\n",
    "x1=x2.astype('float32')/255."
   ]
  },
  {
   "cell_type": "markdown",
   "metadata": {},
   "source": [
    "## Train Test로 나누기"
   ]
  },
  {
   "cell_type": "code",
   "execution_count": 13,
   "metadata": {},
   "outputs": [
    {
     "name": "stdout",
     "output_type": "stream",
     "text": [
      "(1549, 50, 50, 3) (173, 50, 50, 3) (1549,) (173,)\n"
     ]
    }
   ],
   "source": [
    "from sklearn.model_selection import train_test_split\n",
    "x_train,x_test,y_train,y_test=train_test_split(x1,y1,test_size=0.1,random_state=1, stratify=y)\n",
    "print(x_train.shape,x_test.shape,y_train.shape,y_test.shape)"
   ]
  },
  {
   "cell_type": "code",
   "execution_count": 15,
   "metadata": {},
   "outputs": [
    {
     "data": {
      "image/png": "[encoded data removed]",
      "text/plain": [
       "<Figure size 432x288 with 1 Axes>"
      ]
     },
     "metadata": {
      "needs_background": "light"
     },
     "output_type": "display_data"
    }
   ],
   "source": [
    "import matplotlib.pyplot as plt\n",
    "plt.imshow(x_train[3])\n",
    "plt.show()"
   ]
  },
  {
   "cell_type": "code",
   "execution_count": 16,
   "metadata": {},
   "outputs": [
    {
     "name": "stdout",
     "output_type": "stream",
     "text": [
      "Model: \"sequential\"\n",
      "_________________________________________________________________\n",
      " Layer (type)                Output Shape              Param #   \n",
      "=================================================================\n",
      " conv2d (Conv2D)             (None, 48, 48, 32)        896       \n",
      "                                                                 \n",
      " max_pooling2d (MaxPooling2D  (None, 24, 24, 32)       0         \n",
      " )                                                               \n",
      "                                                                 \n",
      " conv2d_1 (Conv2D)           (None, 24, 24, 64)        18496     \n",
      "                                                                 \n",
      " max_pooling2d_1 (MaxPooling  (None, 12, 12, 64)       0         \n",
      " 2D)                                                             \n",
      "                                                                 \n",
      " conv2d_2 (Conv2D)           (None, 12, 12, 128)       73856     \n",
      "                                                                 \n",
      " max_pooling2d_2 (MaxPooling  (None, 6, 6, 128)        0         \n",
      " 2D)                                                             \n",
      "                                                                 \n",
      " conv2d_3 (Conv2D)           (None, 6, 6, 256)         295168    \n",
      "                                                                 \n",
      " flatten (Flatten)           (None, 9216)              0         \n",
      "                                                                 \n",
      " dense (Dense)               (None, 100)               921700    \n",
      "                                                                 \n",
      " dense_1 (Dense)             (None, 1)                 101       \n",
      "                                                                 \n",
      "=================================================================\n",
      "Total params: 1,310,217\n",
      "Trainable params: 1,310,217\n",
      "Non-trainable params: 0\n",
      "_________________________________________________________________\n"
     ]
    }
   ],
   "source": [
    "from tensorflow.keras.layers import Conv2D, MaxPooling2D, Flatten,Dense\n",
    "from tensorflow.keras.models import Sequential\n",
    "model=Sequential()\n",
    "model.add(Conv2D(32,(3,3),activation='relu',input_shape=[50,50,3])) # 채널, 커널사이즈, 활성화함수, 입력사이즈\n",
    "model.add(MaxPooling2D((2,2)))                                      # Pooling\n",
    "model.add(Conv2D(64,(3,3),activation='relu',padding='same'))        # 채널, 커널사이즈, 활성화함수, 패딩\n",
    "model.add(MaxPooling2D((2,2)))\n",
    "model.add(Conv2D(128,(3,3),activation='relu',padding='same'))\n",
    "model.add(MaxPooling2D((2,2)))\n",
    "model.add(Conv2D(256,(3,3),activation='relu',padding='same'))\n",
    "model.add(Flatten())\n",
    "model.add(Dense(100,activation='relu'))\n",
    "model.add(Dense(1,activation='sigmoid'))\n",
    "model.summary()"
   ]
  },
  {
   "cell_type": "code",
   "execution_count": 13,
   "metadata": {},
   "outputs": [
    {
     "name": "stdout",
     "output_type": "stream",
     "text": [
      "Epoch 1/30\n",
      "49/49 [==============================] - 10s 190ms/step - loss: 0.6941 - acc: 0.5416 - val_loss: 0.6513 - val_acc: 0.6590\n",
      "Epoch 2/30\n",
      "49/49 [==============================] - 8s 166ms/step - loss: 0.6448 - acc: 0.6411 - val_loss: 0.6105 - val_acc: 0.6821\n",
      "Epoch 3/30\n",
      "49/49 [==============================] - 8s 173ms/step - loss: 0.5916 - acc: 0.6934 - val_loss: 0.5491 - val_acc: 0.7341\n",
      "Epoch 4/30\n",
      "49/49 [==============================] - 9s 174ms/step - loss: 0.5412 - acc: 0.7340 - val_loss: 0.5712 - val_acc: 0.7110\n",
      "Epoch 5/30\n",
      "49/49 [==============================] - 8s 170ms/step - loss: 0.4894 - acc: 0.7637 - val_loss: 0.5079 - val_acc: 0.7514\n",
      "Epoch 6/30\n",
      "49/49 [==============================] - 8s 170ms/step - loss: 0.4228 - acc: 0.7895 - val_loss: 0.5308 - val_acc: 0.7283\n",
      "Epoch 7/30\n",
      "49/49 [==============================] - 8s 173ms/step - loss: 0.3769 - acc: 0.8179 - val_loss: 0.4663 - val_acc: 0.7746\n",
      "Epoch 8/30\n",
      "49/49 [==============================] - 10s 209ms/step - loss: 0.3191 - acc: 0.8502 - val_loss: 0.4303 - val_acc: 0.8035\n",
      "Epoch 9/30\n",
      "49/49 [==============================] - 9s 183ms/step - loss: 0.2637 - acc: 0.8806 - val_loss: 0.4875 - val_acc: 0.7919\n",
      "Epoch 10/30\n",
      "49/49 [==============================] - 9s 183ms/step - loss: 0.2087 - acc: 0.9096 - val_loss: 0.5609 - val_acc: 0.7630\n",
      "Epoch 11/30\n",
      "49/49 [==============================] - 10s 196ms/step - loss: 0.1829 - acc: 0.9219 - val_loss: 0.6633 - val_acc: 0.7630\n",
      "Epoch 12/30\n",
      "49/49 [==============================] - 10s 197ms/step - loss: 0.1131 - acc: 0.9561 - val_loss: 0.6814 - val_acc: 0.8035\n",
      "Epoch 13/30\n",
      "49/49 [==============================] - 9s 190ms/step - loss: 0.0928 - acc: 0.9658 - val_loss: 0.8939 - val_acc: 0.7630\n",
      "Epoch 14/30\n",
      "49/49 [==============================] - 8s 166ms/step - loss: 0.0833 - acc: 0.9697 - val_loss: 0.7992 - val_acc: 0.7861\n",
      "Epoch 15/30\n",
      "49/49 [==============================] - 8s 160ms/step - loss: 0.0433 - acc: 0.9877 - val_loss: 0.8790 - val_acc: 0.7688\n",
      "Epoch 16/30\n",
      "49/49 [==============================] - 8s 157ms/step - loss: 0.0130 - acc: 0.9987 - val_loss: 0.8537 - val_acc: 0.7977\n",
      "Epoch 17/30\n",
      "49/49 [==============================] - 8s 154ms/step - loss: 0.0185 - acc: 0.9942 - val_loss: 1.1068 - val_acc: 0.7572\n",
      "Epoch 18/30\n",
      "49/49 [==============================] - 8s 154ms/step - loss: 0.0097 - acc: 0.9981 - val_loss: 1.1062 - val_acc: 0.7977\n",
      "Epoch 19/30\n",
      "49/49 [==============================] - 8s 154ms/step - loss: 0.0040 - acc: 1.0000 - val_loss: 1.1466 - val_acc: 0.7803\n",
      "Epoch 20/30\n",
      "49/49 [==============================] - 8s 155ms/step - loss: 0.0011 - acc: 1.0000 - val_loss: 1.1850 - val_acc: 0.7688\n",
      "Epoch 21/30\n",
      "49/49 [==============================] - 8s 158ms/step - loss: 5.3601e-04 - acc: 1.0000 - val_loss: 1.2241 - val_acc: 0.7919\n",
      "Epoch 22/30\n",
      "49/49 [==============================] - 8s 164ms/step - loss: 3.2375e-04 - acc: 1.0000 - val_loss: 1.2476 - val_acc: 0.7861\n",
      "Epoch 23/30\n",
      "49/49 [==============================] - 8s 159ms/step - loss: 2.6036e-04 - acc: 1.0000 - val_loss: 1.2648 - val_acc: 0.7803\n",
      "Epoch 24/30\n",
      "49/49 [==============================] - 8s 160ms/step - loss: 2.1960e-04 - acc: 1.0000 - val_loss: 1.2835 - val_acc: 0.7861\n",
      "Epoch 25/30\n",
      "49/49 [==============================] - 8s 159ms/step - loss: 1.8901e-04 - acc: 1.0000 - val_loss: 1.3014 - val_acc: 0.7803\n",
      "Epoch 26/30\n",
      "49/49 [==============================] - 9s 175ms/step - loss: 1.6479e-04 - acc: 1.0000 - val_loss: 1.3125 - val_acc: 0.7746\n",
      "Epoch 27/30\n",
      "49/49 [==============================] - 13s 261ms/step - loss: 1.4581e-04 - acc: 1.0000 - val_loss: 1.3301 - val_acc: 0.7803\n",
      "Epoch 28/30\n",
      "49/49 [==============================] - 10s 211ms/step - loss: 1.3093e-04 - acc: 1.0000 - val_loss: 1.3446 - val_acc: 0.7746\n",
      "Epoch 29/30\n",
      "49/49 [==============================] - 9s 193ms/step - loss: 1.1908e-04 - acc: 1.0000 - val_loss: 1.3582 - val_acc: 0.7688\n",
      "Epoch 30/30\n",
      "49/49 [==============================] - 9s 192ms/step - loss: 1.0673e-04 - acc: 1.0000 - val_loss: 1.3674 - val_acc: 0.7746\n",
      "6/6 [==============================] - 0s 40ms/step - loss: 1.3674 - acc: 0.7746\n",
      "[1.3673746585845947, 0.7745664715766907]\n"
     ]
    }
   ],
   "source": [
    "model.compile(loss='binary_crossentropy',optimizer='adam', metrics=['acc']) # 이진분류\n",
    "result=model.fit(x_train, y_train, batch_size=32, epochs=30, validation_data=(x_test,y_test))\n",
    "score=model.evaluate(x_test,y_test)\n",
    "print(score)"
   ]
  },
  {
   "cell_type": "code",
   "execution_count": 14,
   "metadata": {},
   "outputs": [
    {
     "data": {
      "image/png": "[encoded data removed]",
      "text/plain": [
       "<Figure size 432x288 with 1 Axes>"
      ]
     },
     "metadata": {
      "needs_background": "light"
     },
     "output_type": "display_data"
    },
    {
     "data": {
      "image/png": "[encoded data removed]",
      "text/plain": [
       "<Figure size 432x288 with 1 Axes>"
      ]
     },
     "metadata": {
      "needs_background": "light"
     },
     "output_type": "display_data"
    }
   ],
   "source": [
    "import matplotlib.pyplot as plt\n",
    "acc=result.history['acc']\n",
    "val_acc=result.history['val_acc']\n",
    "loss=result.history['loss']\n",
    "val_loss=result.history['val_loss']\n",
    "epochs=range(1,len(acc)+1)\n",
    "plt.plot(epochs,acc,'bo',label='training accuracy')\n",
    "plt.plot(epochs, val_acc,'b',label='validation accuracy')\n",
    "plt.title('training and validation accuracy')\n",
    "plt.legend()\n",
    "plt.figure()\n",
    "plt.plot(epochs,loss,'bo',label='training loss')\n",
    "plt.plot(epochs, val_loss,'b',label='validation loss')\n",
    "plt.title('training and validation loss')\n",
    "plt.legend()\n",
    "plt.show()"
   ]
  },
  {
   "cell_type": "markdown",
   "metadata": {},
   "source": [
    "## (300, 300, 3) 일때"
   ]
  },
  {
   "cell_type": "code",
   "execution_count": 15,
   "metadata": {},
   "outputs": [
    {
     "name": "stdout",
     "output_type": "stream",
     "text": [
      "(1722, 300, 300, 3)\n",
      "(1549, 300, 300, 3) (173, 300, 300, 3) (1549,) (173,)\n"
     ]
    }
   ],
   "source": [
    "import cv2\n",
    "import numpy as np\n",
    "x4=[]\n",
    "y4=[]\n",
    "for i in range(len(x)):\n",
    "    img2=cv2.resize(x[i],(300,300))\n",
    "    x4.append(img2)\n",
    "    img_label=np.where(y[i]=='male',1,0)\n",
    "    y4.append(img_label)\n",
    "x4=np.array(x4)\n",
    "print(x4.shape)\n",
    "y3=np.array(y4)\n",
    "x3=x4.astype('float32')/255.\n",
    "\n",
    "from sklearn.model_selection import train_test_split\n",
    "x_train,x_test,y_train,y_test=train_test_split(x3,y3,test_size=0.1,random_state=1, stratify=y)\n",
    "print(x_train.shape,x_test.shape,y_train.shape,y_test.shape)"
   ]
  },
  {
   "cell_type": "code",
   "execution_count": 17,
   "metadata": {},
   "outputs": [
    {
     "name": "stdout",
     "output_type": "stream",
     "text": [
      "Model: \"sequential_2\"\n",
      "_________________________________________________________________\n",
      " Layer (type)                Output Shape              Param #   \n",
      "=================================================================\n",
      " conv2d_8 (Conv2D)           (None, 298, 298, 32)      896       \n",
      "                                                                 \n",
      " max_pooling2d_6 (MaxPooling  (None, 149, 149, 32)     0         \n",
      " 2D)                                                             \n",
      "                                                                 \n",
      " conv2d_9 (Conv2D)           (None, 149, 149, 64)      18496     \n",
      "                                                                 \n",
      " max_pooling2d_7 (MaxPooling  (None, 74, 74, 64)       0         \n",
      " 2D)                                                             \n",
      "                                                                 \n",
      " conv2d_10 (Conv2D)          (None, 74, 74, 128)       73856     \n",
      "                                                                 \n",
      " max_pooling2d_8 (MaxPooling  (None, 37, 37, 128)      0         \n",
      " 2D)                                                             \n",
      "                                                                 \n",
      " conv2d_11 (Conv2D)          (None, 37, 37, 256)       295168    \n",
      "                                                                 \n",
      " flatten_2 (Flatten)         (None, 350464)            0         \n",
      "                                                                 \n",
      " dense_4 (Dense)             (None, 100)               35046500  \n",
      "                                                                 \n",
      " dense_5 (Dense)             (None, 1)                 101       \n",
      "                                                                 \n",
      "=================================================================\n",
      "Total params: 35,435,017\n",
      "Trainable params: 35,435,017\n",
      "Non-trainable params: 0\n",
      "_________________________________________________________________\n"
     ]
    }
   ],
   "source": [
    "from tensorflow.keras.layers import Conv2D, MaxPooling2D,Flatten,Dense\n",
    "from tensorflow.keras.models import Sequential\n",
    "model=Sequential()\n",
    "model.add(Conv2D(32,(3,3),activation='relu',input_shape=[300,300,3]))\n",
    "model.add(MaxPooling2D((2,2)))\n",
    "model.add(Conv2D(64,(3,3),activation='relu',padding='same'))\n",
    "model.add(MaxPooling2D((2,2)))\n",
    "model.add(Conv2D(128,(3,3),activation='relu',padding='same'))\n",
    "model.add(MaxPooling2D((2,2)))\n",
    "model.add(Conv2D(256,(3,3),activation='relu',padding='same'))\n",
    "model.add(Flatten())\n",
    "model.add(Dense(100,activation='relu'))\n",
    "model.add(Dense(1,activation='sigmoid'))\n",
    "model.summary()"
   ]
  },
  {
   "cell_type": "code",
   "execution_count": null,
   "metadata": {},
   "outputs": [],
   "source": [
    "model.compile(loss='binary_crossentropy',optimizer='adam', metrics=['acc'])\n",
    "result=model.fit(x_train,y_train,batch_size=32,epochs=10,validation_data=(x_test,y_test))\n",
    "score=model.evaluate(x_test,y_test)\n",
    "print(score)"
   ]
  },
  {
   "cell_type": "code",
   "execution_count": 12,
   "metadata": {},
   "outputs": [
    {
     "data": {
      "image/png": "[encoded data removed]",
      "text/plain": [
       "<Figure size 432x288 with 1 Axes>"
      ]
     },
     "metadata": {
      "needs_background": "light"
     },
     "output_type": "display_data"
    },
    {
     "data": {
      "image/png": "[encoded data removed]",
      "text/plain": [
       "<Figure size 432x288 with 1 Axes>"
      ]
     },
     "metadata": {
      "needs_background": "light"
     },
     "output_type": "display_data"
    }
   ],
   "source": [
    "import matplotlib.pyplot as plt\n",
    "acc=result.history['acc']\n",
    "val_acc=result.history['val_acc']\n",
    "loss=result.history['loss']\n",
    "val_loss=result.history['val_loss']\n",
    "epochs=range(1,len(acc)+1)\n",
    "plt.plot(epochs,acc,'bo',label='training accuracy')\n",
    "plt.plot(epochs, val_acc,'b',label='validation accuracy')\n",
    "plt.title('training and validation accuracy')\n",
    "plt.legend()\n",
    "plt.figure()\n",
    "plt.plot(epochs,loss,'bo',label='training loss')\n",
    "plt.plot(epochs, val_loss,'b',label='validation loss')\n",
    "plt.title('training and validation loss')\n",
    "plt.legend()\n",
    "plt.show()"
   ]
  },
  {
   "cell_type": "markdown",
   "metadata": {},
   "source": [
    "# 이전학습 VGG16"
   ]
  },
  {
   "cell_type": "code",
   "execution_count": 17,
   "metadata": {},
   "outputs": [
    {
     "name": "stdout",
     "output_type": "stream",
     "text": [
      "Model: \"vgg16\"\n",
      "_________________________________________________________________\n",
      " Layer (type)                Output Shape              Param #   \n",
      "=================================================================\n",
      " input_1 (InputLayer)        [(None, 300, 300, 3)]     0         \n",
      "                                                                 \n",
      " block1_conv1 (Conv2D)       (None, 300, 300, 64)      1792      \n",
      "                                                                 \n",
      " block1_conv2 (Conv2D)       (None, 300, 300, 64)      36928     \n",
      "                                                                 \n",
      " block1_pool (MaxPooling2D)  (None, 150, 150, 64)      0         \n",
      "                                                                 \n",
      " block2_conv1 (Conv2D)       (None, 150, 150, 128)     73856     \n",
      "                                                                 \n",
      " block2_conv2 (Conv2D)       (None, 150, 150, 128)     147584    \n",
      "                                                                 \n",
      " block2_pool (MaxPooling2D)  (None, 75, 75, 128)       0         \n",
      "                                                                 \n",
      " block3_conv1 (Conv2D)       (None, 75, 75, 256)       295168    \n",
      "                                                                 \n",
      " block3_conv2 (Conv2D)       (None, 75, 75, 256)       590080    \n",
      "                                                                 \n",
      " block3_conv3 (Conv2D)       (None, 75, 75, 256)       590080    \n",
      "                                                                 \n",
      " block3_pool (MaxPooling2D)  (None, 37, 37, 256)       0         \n",
      "                                                                 \n",
      " block4_conv1 (Conv2D)       (None, 37, 37, 512)       1180160   \n",
      "                                                                 \n",
      " block4_conv2 (Conv2D)       (None, 37, 37, 512)       2359808   \n",
      "                                                                 \n",
      " block4_conv3 (Conv2D)       (None, 37, 37, 512)       2359808   \n",
      "                                                                 \n",
      " block4_pool (MaxPooling2D)  (None, 18, 18, 512)       0         \n",
      "                                                                 \n",
      " block5_conv1 (Conv2D)       (None, 18, 18, 512)       2359808   \n",
      "                                                                 \n",
      " block5_conv2 (Conv2D)       (None, 18, 18, 512)       2359808   \n",
      "                                                                 \n",
      " block5_conv3 (Conv2D)       (None, 18, 18, 512)       2359808   \n",
      "                                                                 \n",
      " block5_pool (MaxPooling2D)  (None, 9, 9, 512)         0         \n",
      "                                                                 \n",
      "=================================================================\n",
      "Total params: 14,714,688\n",
      "Trainable params: 14,714,688\n",
      "Non-trainable params: 0\n",
      "_________________________________________________________________\n"
     ]
    }
   ],
   "source": [
    "from tensorflow.keras.applications import VGG16\n",
    "vgg16_model=VGG16(weights='imagenet',include_top=False,input_shape=(300,300,3)) # 추정된 모수 사용, FC 층을 제외하고\n",
    "vgg16_model.summary()"
   ]
  },
  {
   "cell_type": "code",
   "execution_count": 18,
   "metadata": {},
   "outputs": [
    {
     "name": "stdout",
     "output_type": "stream",
     "text": [
      "Model: \"model\"\n",
      "_________________________________________________________________\n",
      " Layer (type)                Output Shape              Param #   \n",
      "=================================================================\n",
      " input_2 (InputLayer)        [(None, 300, 300, 3)]     0         \n",
      "                                                                 \n",
      " block1_conv1 (Conv2D)       (None, 300, 300, 64)      1792      \n",
      "                                                                 \n",
      " block1_conv2 (Conv2D)       (None, 300, 300, 64)      36928     \n",
      "                                                                 \n",
      " block1_pool (MaxPooling2D)  (None, 150, 150, 64)      0         \n",
      "                                                                 \n",
      " block2_conv1 (Conv2D)       (None, 150, 150, 128)     73856     \n",
      "                                                                 \n",
      " block2_conv2 (Conv2D)       (None, 150, 150, 128)     147584    \n",
      "                                                                 \n",
      " block2_pool (MaxPooling2D)  (None, 75, 75, 128)       0         \n",
      "                                                                 \n",
      " block3_conv1 (Conv2D)       (None, 75, 75, 256)       295168    \n",
      "                                                                 \n",
      " block3_conv2 (Conv2D)       (None, 75, 75, 256)       590080    \n",
      "                                                                 \n",
      " block3_conv3 (Conv2D)       (None, 75, 75, 256)       590080    \n",
      "                                                                 \n",
      " block3_pool (MaxPooling2D)  (None, 37, 37, 256)       0         \n",
      "                                                                 \n",
      " block4_conv1 (Conv2D)       (None, 37, 37, 512)       1180160   \n",
      "                                                                 \n",
      " block4_conv2 (Conv2D)       (None, 37, 37, 512)       2359808   \n",
      "                                                                 \n",
      " block4_conv3 (Conv2D)       (None, 37, 37, 512)       2359808   \n",
      "                                                                 \n",
      " block4_pool (MaxPooling2D)  (None, 18, 18, 512)       0         \n",
      "                                                                 \n",
      " block5_conv1 (Conv2D)       (None, 18, 18, 512)       2359808   \n",
      "                                                                 \n",
      " block5_conv2 (Conv2D)       (None, 18, 18, 512)       2359808   \n",
      "                                                                 \n",
      " block5_conv3 (Conv2D)       (None, 18, 18, 512)       2359808   \n",
      "                                                                 \n",
      " block5_pool (MaxPooling2D)  (None, 9, 9, 512)         0         \n",
      "                                                                 \n",
      " max_pooling2d_3 (MaxPooling  (None, 3, 3, 512)        0         \n",
      " 2D)                                                             \n",
      "                                                                 \n",
      " flatten_1 (Flatten)         (None, 4608)              0         \n",
      "                                                                 \n",
      " FC_2 (Dense)                (None, 64)                294976    \n",
      "                                                                 \n",
      " batch_normalization (BatchN  (None, 64)               256       \n",
      " ormalization)                                                   \n",
      "                                                                 \n",
      " dropout (Dropout)           (None, 64)                0         \n",
      "                                                                 \n",
      " output (Dense)              (None, 1)                 65        \n",
      "                                                                 \n",
      "=================================================================\n",
      "Total params: 15,009,985\n",
      "Trainable params: 295,169\n",
      "Non-trainable params: 14,714,816\n",
      "_________________________________________________________________\n"
     ]
    }
   ],
   "source": [
    "from tensorflow.keras.applications import VGG16\n",
    "from tensorflow.keras.models import Model\n",
    "from tensorflow.keras.layers import Dense, Dropout, Flatten, BatchNormalization,MaxPooling2D\n",
    "from tensorflow.keras import optimizers\n",
    "\n",
    "vgg_base=VGG16(weights='imagenet',include_top=False, input_shape=(300,300,3))  \n",
    "\n",
    "for layer in vgg_base.layers:\n",
    "    layer.trainable=False\n",
    "  \n",
    "last_layer=vgg_base.get_layer('block5_pool')\n",
    "last_output=last_layer.output\n",
    "\n",
    "x=MaxPooling2D((3,3))(last_output)\n",
    "x=Flatten()(x)\n",
    "x=Dense(64, activation='relu',name='FC_2')(x)\n",
    "x=BatchNormalization()(x)\n",
    "x=Dropout(0.5)(x)\n",
    "x=Dense(1, activation='sigmoid',name='output')(x)\n",
    "\n",
    "vgg_model=Model(inputs=vgg_base.input, outputs=x)\n",
    "vgg_model.summary()"
   ]
  },
  {
   "cell_type": "code",
   "execution_count": 20,
   "metadata": {},
   "outputs": [
    {
     "name": "stdout",
     "output_type": "stream",
     "text": [
      "Epoch 1/10\n",
      "49/49 [==============================] - 437s 9s/step - loss: 0.4946 - accuracy: 0.7530 - val_loss: 0.4433 - val_accuracy: 0.8035\n",
      "Epoch 2/10\n",
      "49/49 [==============================] - 470s 10s/step - loss: 0.4971 - accuracy: 0.7509 - val_loss: 0.4359 - val_accuracy: 0.8035\n",
      "Epoch 3/10\n",
      "49/49 [==============================] - 471s 10s/step - loss: 0.4824 - accuracy: 0.7525 - val_loss: 0.4270 - val_accuracy: 0.8208\n",
      "Epoch 4/10\n",
      "49/49 [==============================] - 428s 9s/step - loss: 0.4387 - accuracy: 0.7841 - val_loss: 0.4159 - val_accuracy: 0.8324\n",
      "Epoch 5/10\n",
      "49/49 [==============================] - 430s 9s/step - loss: 0.4155 - accuracy: 0.8018 - val_loss: 0.4117 - val_accuracy: 0.8208\n",
      "Epoch 6/10\n",
      "49/49 [==============================] - 454s 9s/step - loss: 0.4395 - accuracy: 0.7913 - val_loss: 0.4043 - val_accuracy: 0.8208\n",
      "Epoch 7/10\n",
      "49/49 [==============================] - 433s 9s/step - loss: 0.4094 - accuracy: 0.8046 - val_loss: 0.3968 - val_accuracy: 0.8266\n",
      "Epoch 8/10\n",
      "49/49 [==============================] - 442s 9s/step - loss: 0.4066 - accuracy: 0.8103 - val_loss: 0.3940 - val_accuracy: 0.8266\n",
      "Epoch 9/10\n",
      "49/49 [==============================] - 454s 9s/step - loss: 0.4023 - accuracy: 0.7937 - val_loss: 0.3870 - val_accuracy: 0.8266\n",
      "Epoch 10/10\n",
      "49/49 [==============================] - 437s 9s/step - loss: 0.3996 - accuracy: 0.8146 - val_loss: 0.3874 - val_accuracy: 0.8266\n"
     ]
    }
   ],
   "source": [
    "vgg_model.compile(loss='binary_crossentropy', optimizer=optimizers.Adam(lr=1e-5), metrics=['accuracy']) # 옵티마이져 조정\n",
    "history_vgg16=vgg_model.fit(x_train,y_train,batch_size=32,epochs=10,validation_data=(x_test,y_test))"
   ]
  },
  {
   "cell_type": "code",
   "execution_count": 21,
   "metadata": {},
   "outputs": [
    {
     "data": {
      "image/png": "[encoded data removed]",
      "text/plain": [
       "<Figure size 432x288 with 1 Axes>"
      ]
     },
     "metadata": {
      "needs_background": "light"
     },
     "output_type": "display_data"
    },
    {
     "data": {
      "image/png": "[encoded data removed]",
      "text/plain": [
       "<Figure size 432x288 with 1 Axes>"
      ]
     },
     "metadata": {
      "needs_background": "light"
     },
     "output_type": "display_data"
    }
   ],
   "source": [
    "import matplotlib.pyplot as plt\n",
    "acc=history_vgg16.history['accuracy']\n",
    "val_acc=history_vgg16.history['val_accuracy']\n",
    "loss=history_vgg16.history['loss']\n",
    "val_loss=history_vgg16.history['val_loss']\n",
    "epochs=range(1,len(acc)+1)\n",
    "plt.plot(epochs,acc,'bo',label='training accuracy')\n",
    "plt.plot(epochs, val_acc,'b',label='validation accuracy')\n",
    "plt.title('training and validation accuracy')\n",
    "plt.legend()\n",
    "plt.figure()\n",
    "plt.plot(epochs,loss,'bo',label='training loss')\n",
    "plt.plot(epochs, val_loss,'b',label='validation loss')\n",
    "plt.title('training and validation loss')\n",
    "plt.legend()\n",
    "plt.show()"
   ]
  },
  {
   "cell_type": "code",
   "execution_count": null,
   "metadata": {},
   "outputs": [],
   "source": []
  }
 ],
 "metadata": {
  "kernelspec": {
   "display_name": "Python 3",
   "language": "python",
   "name": "python3"
  },
  "language_info": {
   "codemirror_mode": {
    "name": "ipython",
    "version": 3
   },
   "file_extension": ".py",
   "mimetype": "text/x-python",
   "name": "python",
   "nbconvert_exporter": "python",
   "pygments_lexer": "ipython3",
   "version": "3.8.8"
  }
 },
 "nbformat": 4,
 "nbformat_minor": 4
}
