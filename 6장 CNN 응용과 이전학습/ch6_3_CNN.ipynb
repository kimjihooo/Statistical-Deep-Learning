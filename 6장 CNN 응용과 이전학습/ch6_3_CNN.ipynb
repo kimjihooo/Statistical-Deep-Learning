{
 "cells": [
  {
   "cell_type": "markdown",
   "metadata": {},
   "source": [
    "# 개와 고양이 분류 CNN\n",
    "\n",
    "Chollet(2018)프로그램 기반\n"
   ]
  },
  {
   "cell_type": "code",
   "execution_count": 1,
   "metadata": {},
   "outputs": [],
   "source": [
    "import os, shutil\n",
    "original_data_dir='C:/Users/ellyj/Desktop/3-1/고급통계적딥러닝/코드 및 데이터_1/제 6장 CNN의 응용과 이전학습/all_dogs_cats'\n",
    "# original_data_dir로부터 일부 데이터를 추출하여 base_dir에 저장하기 위해 만듬\n",
    "base_dir='C:/Users/ellyj/Desktop/3-1/고급통계적딥러닝/코드 및 데이터_1/제 6장 CNN의 응용과 이전학습/dogs and cats_small1'\n",
    "\n",
    "os.makedirs(base_dir, exist_ok=True)\n",
    "#os.mkdir(base_dir)\n",
    "train_dir=os.path.join(base_dir,'train')#dog_cats_small폴더내에 train폴더 생성\n",
    "#os.mkdir(train_dir)\n",
    "validation_dir=os.path.join(base_dir,'validation')#dog_cats_small폴더내에 validation폴더 생성\n",
    "#os.mkdir(validation_dir)\n",
    "test_dir=os.path.join(base_dir,'test')#dog_cats_small폴더내에 test폴더 생성\n",
    "#os.mkdir(test_dir)\n",
    "\n",
    "train_cats_dir=os.path.join(train_dir,'cats')#train폴더내에 cats폴더 생성\n",
    "#os.mkdir(train_cats_dir)\n",
    "train_dogs_dir=os.path.join(train_dir,'dogs')#train폴더내에 dogs폴더 생성\n",
    "#os.mkdir(train_dogs_dir)\n",
    "validation_cats_dir=os.path.join(validation_dir,'cats')#validation폴더내에 cats폴더 생성\n",
    "#os.mkdir(validation_cats_dir)\n",
    "validation_dogs_dir=os.path.join(validation_dir,'dogs')#validation폴더내에 dogs폴더 생성\n",
    "#os.mkdir(validation_dogs_dir)\n",
    "test_cats_dir=os.path.join(test_dir,'cats')#test폴더내에 cats폴더 생성\n",
    "#os.mkdir(test_cats_dir)\n",
    "test_dogs_dir=os.path.join(test_dir,'dogs')#test폴더내에 dogs폴더 생성\n",
    "#os.mkdir(test_dogs_dir)"
   ]
  },
  {
   "cell_type": "code",
   "execution_count": 2,
   "metadata": {},
   "outputs": [
    {
     "name": "stdout",
     "output_type": "stream",
     "text": [
      "1000\n",
      "1000\n",
      "500\n",
      "500\n",
      "500\n",
      "500\n"
     ]
    }
   ],
   "source": [
    "fnames=['cat.{}.jpg'.format(i) for i in range(1000)]\n",
    "for fname in fnames:     # original_dat_dir에 있는 1000개의 고양이 이미지를 train_cats_dir에 copy\n",
    "    src=os.path.join(original_data_dir,fname)\n",
    "    dst=os.path.join(train_cats_dir,fname)\n",
    "    shutil.copyfile(src,dst)\n",
    "fnames=['cat.{}.jpg'.format(i) for i in range(1000,1500)]\n",
    "for fname in fnames:     # original_dat_dir에 있는 500개의 고양이 이미지를 validatio_cats_dir에 copy\n",
    "    src=os.path.join(original_data_dir,fname)\n",
    "    dst=os.path.join(validation_cats_dir,fname)\n",
    "    shutil.copyfile(src,dst)\n",
    "fnames=['cat.{}.jpg'.format(i) for i in range(1500,2000)]\n",
    "for fname in fnames:     # original_dat_dir에 있는 500개의 고양이 이미지를 test_cats_dir에 copy\n",
    "    src=os.path.join(original_data_dir,fname)\n",
    "    dst=os.path.join(test_cats_dir,fname)\n",
    "    shutil.copyfile(src,dst)\n",
    "    \n",
    "fnames=['dog.{}.jpg'.format(i) for i in range(1000)]\n",
    "for fname in fnames:     # original_dat_dir에 있는 1000개의 개 이미지를 train_dogs_dir에 copy\n",
    "    src=os.path.join(original_data_dir,fname)\n",
    "    dst=os.path.join(train_dogs_dir,fname)\n",
    "    shutil.copyfile(src,dst)\n",
    "fnames=['dog.{}.jpg'.format(i) for i in range(1000,1500)]\n",
    "for fname in fnames:     # original_dat_dir에 있는 500개의 개 이미지를 validatio_dogs_dir에 copy\n",
    "    src=os.path.join(original_data_dir,fname)\n",
    "    dst=os.path.join(validation_dogs_dir,fname)\n",
    "    shutil.copyfile(src,dst)\n",
    "fnames=['dog.{}.jpg'.format(i) for i in range(1500,2000)]\n",
    "for fname in fnames:     # original_dat_dir에 있는 500개의 개 이미지를 test_dogs_dir에 copy\n",
    "    src=os.path.join(original_data_dir,fname)\n",
    "    dst=os.path.join(test_dogs_dir,fname)\n",
    "    shutil.copyfile(src,dst)\n",
    "\n",
    "    \n",
    "print(len(os.listdir(train_cats_dir)));print(len(os.listdir(train_dogs_dir)))\n",
    "print(len(os.listdir(validation_cats_dir)));print(len(os.listdir(validation_dogs_dir)))\n",
    "print(len(os.listdir(test_cats_dir)));print(len(os.listdir(test_dogs_dir)))"
   ]
  },
  {
   "cell_type": "code",
   "execution_count": 3,
   "metadata": {},
   "outputs": [
    {
     "name": "stdout",
     "output_type": "stream",
     "text": [
      "Found 2000 images belonging to 2 classes.\n",
      "Found 1000 images belonging to 2 classes.\n",
      "(20, 150, 150, 3)\n",
      "(20,)\n"
     ]
    }
   ],
   "source": [
    "from tensorflow.keras.preprocessing.image import ImageDataGenerator\n",
    "# rescale\n",
    "train_datagen=ImageDataGenerator(rescale=1./255) \n",
    "test_datagen=ImageDataGenerator(rescale=1./255)\n",
    "\n",
    "# (300,300)을 (150,150)으로 바꾸고 배치사이즈도 바꾸고\n",
    "# dataframe으로 저장되어 있으면 train_datagen.flow_from_dataframe\n",
    "train_generator=train_datagen.flow_from_directory(directory=train_dir,target_size=(150,150),batch_size=20,class_mode='binary')\n",
    "validation_generator=test_datagen.flow_from_directory(directory=validation_dir,target_size=(150,150),batch_size=20,class_mode='binary')\n",
    "\n",
    "for x,y in train_generator:\n",
    "    print(x.shape)\n",
    "    print(y.shape)\n",
    "    break"
   ]
  },
  {
   "cell_type": "code",
   "execution_count": 4,
   "metadata": {},
   "outputs": [
    {
     "name": "stdout",
     "output_type": "stream",
     "text": [
      "Model: \"sequential\"\n",
      "_________________________________________________________________\n",
      " Layer (type)                Output Shape              Param #   \n",
      "=================================================================\n",
      " conv2d (Conv2D)             (None, 148, 148, 32)      896       \n",
      "                                                                 \n",
      " max_pooling2d (MaxPooling2D  (None, 74, 74, 32)       0         \n",
      " )                                                               \n",
      "                                                                 \n",
      " conv2d_1 (Conv2D)           (None, 72, 72, 64)        18496     \n",
      "                                                                 \n",
      " max_pooling2d_1 (MaxPooling  (None, 36, 36, 64)       0         \n",
      " 2D)                                                             \n",
      "                                                                 \n",
      " conv2d_2 (Conv2D)           (None, 34, 34, 128)       73856     \n",
      "                                                                 \n",
      " max_pooling2d_2 (MaxPooling  (None, 17, 17, 128)      0         \n",
      " 2D)                                                             \n",
      "                                                                 \n",
      " flatten (Flatten)           (None, 36992)             0         \n",
      "                                                                 \n",
      " dense (Dense)               (None, 512)               18940416  \n",
      "                                                                 \n",
      " dense_1 (Dense)             (None, 1)                 513       \n",
      "                                                                 \n",
      "=================================================================\n",
      "Total params: 19,034,177\n",
      "Trainable params: 19,034,177\n",
      "Non-trainable params: 0\n",
      "_________________________________________________________________\n"
     ]
    }
   ],
   "source": [
    "import tensorflow as tf\n",
    "from tensorflow.keras.layers import Conv2D,MaxPooling2D,Flatten,Dense\n",
    "from tensorflow.keras import models\n",
    "cat_dog_model=models.Sequential()\n",
    "#train_generator에서 target_size=(150,150)으로 하였고 color_mode의 default는 'rgb'이므로 input_shape=(150,150,3)으로 지정함\n",
    "cat_dog_model.add(Conv2D(32,(3,3),activation='relu',input_shape=(150,150,3)))\n",
    "cat_dog_model.add(MaxPooling2D(2,2))\n",
    "cat_dog_model.add(Conv2D(64,(3,3),activation='relu'))\n",
    "cat_dog_model.add(MaxPooling2D(2,2))\n",
    "cat_dog_model.add(Conv2D(128,(3,3),activation='relu'))\n",
    "cat_dog_model.add(MaxPooling2D(2,2))\n",
    "cat_dog_model.add(Flatten())\n",
    "cat_dog_model.add(Dense(512,activation='relu')) # 여기까지 특성변수 512개 만든 거임\n",
    "cat_dog_model.add(Dense(1,activation='sigmoid', kernel_regularizer=tf.keras.regularizers.l1(0.1))) # L1 규제화, 0에 가까운거 0으로\n",
    "cat_dog_model.summary()"
   ]
  },
  {
   "cell_type": "code",
   "execution_count": 5,
   "metadata": {},
   "outputs": [
    {
     "name": "stderr",
     "output_type": "stream",
     "text": [
      "C:\\ProgramData\\Anaconda3\\lib\\site-packages\\keras\\optimizer_v2\\rmsprop.py:130: UserWarning: The `lr` argument is deprecated, use `learning_rate` instead.\n",
      "  super(RMSprop, self).__init__(name, **kwargs)\n"
     ]
    }
   ],
   "source": [
    "from tensorflow.keras import optimizers\n",
    "opt=optimizers.RMSprop(lr=1e-4)\n",
    "cat_dog_model.compile(loss='binary_crossentropy', optimizer=opt,metrics=['acc'])"
   ]
  },
  {
   "cell_type": "code",
   "execution_count": 6,
   "metadata": {},
   "outputs": [
    {
     "name": "stdout",
     "output_type": "stream",
     "text": [
      "Epoch 1/10\n",
      "100/100 [==============================] - 143s 1s/step - loss: 3.1662 - acc: 0.5280 - val_loss: 2.8921 - val_acc: 0.6080\n",
      "Epoch 2/10\n",
      "100/100 [==============================] - 133s 1s/step - loss: 2.6633 - acc: 0.6190 - val_loss: 2.4307 - val_acc: 0.6460\n",
      "Epoch 3/10\n",
      "100/100 [==============================] - 131s 1s/step - loss: 2.2213 - acc: 0.6740 - val_loss: 2.0605 - val_acc: 0.6550\n",
      "Epoch 4/10\n",
      "100/100 [==============================] - 132s 1s/step - loss: 1.8435 - acc: 0.7125 - val_loss: 1.7081 - val_acc: 0.6990\n",
      "Epoch 5/10\n",
      "100/100 [==============================] - 127s 1s/step - loss: 1.5325 - acc: 0.7345 - val_loss: 1.4606 - val_acc: 0.6760\n",
      "Epoch 6/10\n",
      "100/100 [==============================] - 125s 1s/step - loss: 1.2615 - acc: 0.7570 - val_loss: 1.2006 - val_acc: 0.7020\n",
      "Epoch 7/10\n",
      "100/100 [==============================] - 132s 1s/step - loss: 1.0527 - acc: 0.7470 - val_loss: 1.0492 - val_acc: 0.6620\n",
      "Epoch 8/10\n",
      "100/100 [==============================] - 132s 1s/step - loss: 0.8838 - acc: 0.7535 - val_loss: 0.8791 - val_acc: 0.6840\n",
      "Epoch 9/10\n",
      "100/100 [==============================] - 126s 1s/step - loss: 0.7574 - acc: 0.7565 - val_loss: 0.7690 - val_acc: 0.7070\n",
      "Epoch 10/10\n",
      "100/100 [==============================] - 130s 1s/step - loss: 0.6651 - acc: 0.7725 - val_loss: 0.7043 - val_acc: 0.6970\n"
     ]
    }
   ],
   "source": [
    "cat_dog_result=cat_dog_model.fit(train_generator,steps_per_epoch=100,epochs=10,\n",
    "                                 validation_data=validation_generator,validation_steps=50)"
   ]
  },
  {
   "cell_type": "code",
   "execution_count": 7,
   "metadata": {},
   "outputs": [
    {
     "data": {
      "image/png": "[encoded data removed]",
      "text/plain": [
       "<Figure size 432x288 with 1 Axes>"
      ]
     },
     "metadata": {
      "needs_background": "light"
     },
     "output_type": "display_data"
    },
    {
     "data": {
      "image/png": "[encoded data removed]",
      "text/plain": [
       "<Figure size 432x288 with 1 Axes>"
      ]
     },
     "metadata": {
      "needs_background": "light"
     },
     "output_type": "display_data"
    }
   ],
   "source": [
    "import matplotlib.pyplot as plt\n",
    "acc=cat_dog_result.history['acc']\n",
    "val_acc=cat_dog_result.history['val_acc']\n",
    "loss=cat_dog_result.history['loss']\n",
    "val_loss=cat_dog_result.history['val_loss']\n",
    "epochs=range(1,len(acc)+1)\n",
    "plt.plot(epochs,acc,'b',label='training acc')\n",
    "plt.plot(epochs,val_acc,'bo',label='validation acc')\n",
    "plt.title('training and validation accuracy')\n",
    "plt.legend()\n",
    "plt.figure()\n",
    "plt.plot(epochs,loss,'b',label='training loss')\n",
    "plt.plot(epochs,val_loss,'bo',label='validation loss')\n",
    "plt.title('training and validation loss')\n",
    "plt.legend()\n",
    "plt.show()"
   ]
  },
  {
   "cell_type": "markdown",
   "metadata": {},
   "source": [
    "## 자료증대 Data Augmentation"
   ]
  },
  {
   "cell_type": "code",
   "execution_count": 8,
   "metadata": {},
   "outputs": [
    {
     "name": "stdout",
     "output_type": "stream",
     "text": [
      "Found 2000 images belonging to 2 classes.\n",
      "Found 1000 images belonging to 2 classes.\n"
     ]
    }
   ],
   "source": [
    "train_datagen=ImageDataGenerator(rescale=1./255,rotation_range=40, width_shift_range=0.2,\n",
    "                               height_shift_range=0.2, shear_range=0.2, zoom_range=0.2,\n",
    "                                horizontal_flip=True, fill_mode='nearest')\n",
    "validation_datagen=ImageDataGenerator(rescale=1./255)\n",
    "train_generator=train_datagen.flow_from_directory(train_dir,target_size=(150,150),\n",
    "                                              batch_size=32, class_mode='binary')\n",
    "validation_generator=validation_datagen.flow_from_directory(validation_dir,target_size=(150,150),\n",
    "                                              batch_size=32, class_mode='binary')"
   ]
  },
  {
   "cell_type": "code",
   "execution_count": 9,
   "metadata": {},
   "outputs": [
    {
     "name": "stdout",
     "output_type": "stream",
     "text": [
      "Model: \"sequential_1\"\n",
      "_________________________________________________________________\n",
      " Layer (type)                Output Shape              Param #   \n",
      "=================================================================\n",
      " conv2d_3 (Conv2D)           (None, 148, 148, 32)      896       \n",
      "                                                                 \n",
      " max_pooling2d_3 (MaxPooling  (None, 74, 74, 32)       0         \n",
      " 2D)                                                             \n",
      "                                                                 \n",
      " conv2d_4 (Conv2D)           (None, 72, 72, 64)        18496     \n",
      "                                                                 \n",
      " max_pooling2d_4 (MaxPooling  (None, 36, 36, 64)       0         \n",
      " 2D)                                                             \n",
      "                                                                 \n",
      " conv2d_5 (Conv2D)           (None, 34, 34, 128)       73856     \n",
      "                                                                 \n",
      " max_pooling2d_5 (MaxPooling  (None, 17, 17, 128)      0         \n",
      " 2D)                                                             \n",
      "                                                                 \n",
      " flatten_1 (Flatten)         (None, 36992)             0         \n",
      "                                                                 \n",
      " dropout (Dropout)           (None, 36992)             0         \n",
      "                                                                 \n",
      " dense_2 (Dense)             (None, 512)               18940416  \n",
      "                                                                 \n",
      " dense_3 (Dense)             (None, 1)                 513       \n",
      "                                                                 \n",
      "=================================================================\n",
      "Total params: 19,034,177\n",
      "Trainable params: 19,034,177\n",
      "Non-trainable params: 0\n",
      "_________________________________________________________________\n"
     ]
    }
   ],
   "source": [
    "from tensorflow.keras.layers import Conv2D,MaxPooling2D,Flatten,Dense, Dropout\n",
    "from tensorflow.keras import models\n",
    "aug_model=models.Sequential()\n",
    "aug_model.add(Conv2D(32,(3,3),activation='relu',input_shape=(150,150,3)))\n",
    "aug_model.add(MaxPooling2D(2,2))\n",
    "aug_model.add(Conv2D(64,(3,3),activation='relu'))\n",
    "aug_model.add(MaxPooling2D(2,2))\n",
    "aug_model.add(Conv2D(128,(3,3),activation='relu'))\n",
    "aug_model.add(MaxPooling2D(2,2))\n",
    "aug_model.add(Flatten())\n",
    "aug_model.add(Dropout(0.5))\n",
    "aug_model.add(Dense(512,activation='relu'))\n",
    "aug_model.add(Dense(1,activation='sigmoid',kernel_regularizer=tf.keras.regularizers.l1(0.05)))\n",
    "aug_model.summary()"
   ]
  },
  {
   "cell_type": "code",
   "execution_count": 14,
   "metadata": {},
   "outputs": [
    {
     "name": "stdout",
     "output_type": "stream",
     "text": [
      "Epoch 1/30\n",
      "62/62 [==============================] - 28s 449ms/step - loss: 0.6404 - acc: 0.6886 - val_loss: 0.6313 - val_acc: 0.6976\n",
      "Epoch 2/30\n",
      "62/62 [==============================] - 31s 500ms/step - loss: 0.6445 - acc: 0.6787 - val_loss: 0.6082 - val_acc: 0.6925\n",
      "Epoch 3/30\n",
      "62/62 [==============================] - 32s 513ms/step - loss: 0.6318 - acc: 0.6975 - val_loss: 0.6107 - val_acc: 0.6996\n",
      "Epoch 4/30\n",
      "62/62 [==============================] - 32s 520ms/step - loss: 0.6178 - acc: 0.6935 - val_loss: 0.6002 - val_acc: 0.6986\n",
      "Epoch 5/30\n",
      "62/62 [==============================] - 34s 556ms/step - loss: 0.6171 - acc: 0.7121 - val_loss: 0.6072 - val_acc: 0.6996\n",
      "Epoch 6/30\n",
      "62/62 [==============================] - 44s 702ms/step - loss: 0.6261 - acc: 0.6840 - val_loss: 0.6213 - val_acc: 0.6764\n",
      "Epoch 7/30\n",
      "62/62 [==============================] - 54s 876ms/step - loss: 0.6106 - acc: 0.7102 - val_loss: 0.6138 - val_acc: 0.6976\n",
      "Epoch 8/30\n",
      "62/62 [==============================] - 37s 589ms/step - loss: 0.6012 - acc: 0.7207 - val_loss: 0.5967 - val_acc: 0.6946\n",
      "Epoch 9/30\n",
      "62/62 [==============================] - 35s 571ms/step - loss: 0.6141 - acc: 0.7061 - val_loss: 0.5962 - val_acc: 0.7046\n",
      "Epoch 10/30\n",
      "62/62 [==============================] - 44s 710ms/step - loss: 0.6134 - acc: 0.6903 - val_loss: 0.5844 - val_acc: 0.6986\n",
      "Epoch 11/30\n",
      "62/62 [==============================] - 45s 724ms/step - loss: 0.6013 - acc: 0.7121 - val_loss: 0.5923 - val_acc: 0.6986\n",
      "Epoch 12/30\n",
      "62/62 [==============================] - 34s 547ms/step - loss: 0.6167 - acc: 0.6902 - val_loss: 0.5988 - val_acc: 0.6986\n",
      "Epoch 13/30\n",
      "62/62 [==============================] - 40s 643ms/step - loss: 0.6162 - acc: 0.6994 - val_loss: 0.5818 - val_acc: 0.7026\n",
      "Epoch 14/30\n",
      "62/62 [==============================] - 50s 805ms/step - loss: 0.6009 - acc: 0.6974 - val_loss: 0.5935 - val_acc: 0.7006\n",
      "Epoch 15/30\n",
      "62/62 [==============================] - 36s 571ms/step - loss: 0.5755 - acc: 0.7275 - val_loss: 0.5787 - val_acc: 0.7046\n",
      "Epoch 16/30\n",
      "62/62 [==============================] - 36s 580ms/step - loss: 0.6158 - acc: 0.6780 - val_loss: 0.5711 - val_acc: 0.7097\n",
      "Epoch 17/30\n",
      "62/62 [==============================] - 45s 734ms/step - loss: 0.5933 - acc: 0.7026 - val_loss: 0.5689 - val_acc: 0.7127\n",
      "Epoch 18/30\n",
      "62/62 [==============================] - 43s 683ms/step - loss: 0.5792 - acc: 0.7202 - val_loss: 0.6193 - val_acc: 0.6885\n",
      "Epoch 19/30\n",
      "62/62 [==============================] - 34s 548ms/step - loss: 0.6038 - acc: 0.7072 - val_loss: 0.5803 - val_acc: 0.7087\n",
      "Epoch 20/30\n",
      "62/62 [==============================] - 41s 654ms/step - loss: 0.5918 - acc: 0.7293 - val_loss: 0.6219 - val_acc: 0.6653\n",
      "Epoch 21/30\n",
      "62/62 [==============================] - 50s 807ms/step - loss: 0.5849 - acc: 0.7149 - val_loss: 0.5841 - val_acc: 0.7107\n",
      "Epoch 22/30\n",
      "62/62 [==============================] - 34s 552ms/step - loss: 0.6011 - acc: 0.7016 - val_loss: 0.5604 - val_acc: 0.7278\n",
      "Epoch 23/30\n",
      "62/62 [==============================] - 33s 532ms/step - loss: 0.5683 - acc: 0.7119 - val_loss: 0.5575 - val_acc: 0.7258\n",
      "Epoch 24/30\n",
      "62/62 [==============================] - 38s 606ms/step - loss: 0.5824 - acc: 0.7209 - val_loss: 0.5603 - val_acc: 0.7077\n",
      "Epoch 25/30\n",
      "62/62 [==============================] - 48s 783ms/step - loss: 0.5903 - acc: 0.7018 - val_loss: 0.5831 - val_acc: 0.7087\n",
      "Epoch 26/30\n",
      "62/62 [==============================] - 37s 586ms/step - loss: 0.5763 - acc: 0.7120 - val_loss: 0.5655 - val_acc: 0.7137\n",
      "Epoch 27/30\n",
      "62/62 [==============================] - 32s 511ms/step - loss: 0.5776 - acc: 0.7187 - val_loss: 0.5569 - val_acc: 0.7238\n",
      "Epoch 28/30\n",
      "62/62 [==============================] - 35s 567ms/step - loss: 0.5789 - acc: 0.7065 - val_loss: 0.5876 - val_acc: 0.6986\n",
      "Epoch 29/30\n",
      "62/62 [==============================] - 42s 685ms/step - loss: 0.5794 - acc: 0.7134 - val_loss: 0.5459 - val_acc: 0.7298\n",
      "Epoch 30/30\n",
      "62/62 [==============================] - 44s 707ms/step - loss: 0.5575 - acc: 0.7320 - val_loss: 0.5728 - val_acc: 0.7067\n"
     ]
    }
   ],
   "source": [
    "from tensorflow.keras import optimizers\n",
    "aug_model.compile(loss='binary_crossentropy', optimizer=optimizers.RMSprop(lr=1e-4),metrics=['acc'])\n",
    "aug_result=aug_model.fit_generator(train_generator,steps_per_epoch=62,epochs=30,\n",
    "                                   validation_data=validation_generator,validation_steps=31)"
   ]
  },
  {
   "cell_type": "code",
   "execution_count": 15,
   "metadata": {},
   "outputs": [
    {
     "data": {
      "image/png": "[encoded data removed]",
      "text/plain": [
       "<Figure size 432x288 with 1 Axes>"
      ]
     },
     "metadata": {
      "needs_background": "light"
     },
     "output_type": "display_data"
    },
    {
     "data": {
      "image/png": "[encoded data removed]",
      "text/plain": [
       "<Figure size 432x288 with 1 Axes>"
      ]
     },
     "metadata": {
      "needs_background": "light"
     },
     "output_type": "display_data"
    }
   ],
   "source": [
    "import matplotlib.pyplot as plt\n",
    "acc=aug_result.history['acc']\n",
    "val_acc=aug_result.history['val_acc']\n",
    "loss=aug_result.history['loss']\n",
    "val_loss=aug_result.history['val_loss']\n",
    "epochs=range(1,len(acc)+1)\n",
    "plt.plot(epochs,acc,'b',label='training acc')\n",
    "plt.plot(epochs,val_acc,'bo',label='validation acc')\n",
    "plt.title('training and validation accuracy')\n",
    "plt.legend()\n",
    "plt.figure()\n",
    "plt.plot(epochs,loss,'b',label='training loss')\n",
    "plt.plot(epochs,val_loss,'bo',label='validation loss')\n",
    "plt.title('training and validation loss')\n",
    "plt.legend()\n",
    "plt.show()"
   ]
  },
  {
   "cell_type": "code",
   "execution_count": null,
   "metadata": {},
   "outputs": [],
   "source": []
  }
 ],
 "metadata": {
  "kernelspec": {
   "display_name": "Python 3",
   "language": "python",
   "name": "python3"
  },
  "language_info": {
   "codemirror_mode": {
    "name": "ipython",
    "version": 3
   },
   "file_extension": ".py",
   "mimetype": "text/x-python",
   "name": "python",
   "nbconvert_exporter": "python",
   "pygments_lexer": "ipython3",
   "version": "3.8.8"
  }
 },
 "nbformat": 4,
 "nbformat_minor": 4
}
