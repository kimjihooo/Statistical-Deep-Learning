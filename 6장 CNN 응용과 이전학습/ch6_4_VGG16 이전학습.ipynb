{
 "cells": [
  {
   "cell_type": "markdown",
   "metadata": {},
   "source": [
    "# VGG16 이전학습 fine-tuning"
   ]
  },
  {
   "cell_type": "markdown",
   "metadata": {},
   "source": [
    "## 개 고양이 데이터 불러오기"
   ]
  },
  {
   "cell_type": "code",
   "execution_count": 2,
   "metadata": {},
   "outputs": [
    {
     "name": "stdout",
     "output_type": "stream",
     "text": [
      "Found 2000 images belonging to 2 classes.\n",
      "Found 1000 images belonging to 2 classes.\n",
      "Found 1000 images belonging to 2 classes.\n"
     ]
    }
   ],
   "source": [
    "import os\n",
    "from tensorflow.keras.preprocessing.image import ImageDataGenerator\n",
    "base_dir='C:/Users/ellyj/Desktop/3-1/고급통계적딥러닝/코드 및 데이터_1/제 6장 CNN의 응용과 이전학습/dogs and cats_small'\n",
    "train_dir=os.path.join(base_dir,'train')\n",
    "validation_dir=os.path.join(base_dir,'validation')\n",
    "test_dir=os.path.join(base_dir,'test') \n",
    "imagegen=ImageDataGenerator(rescale=1./255)\n",
    "train_batches=imagegen.flow_from_directory(train_dir, target_size=(150,150),batch_size=20,class_mode='binary')\n",
    "valid_batches=imagegen.flow_from_directory(validation_dir, target_size=(150,150),batch_size=20,class_mode='binary')\n",
    "test_batches=imagegen.flow_from_directory(test_dir, target_size=(150,150),batch_size=20,class_mode='binary', shuffle=False)"
   ]
  },
  {
   "cell_type": "markdown",
   "metadata": {},
   "source": [
    "## VGG16 모델"
   ]
  },
  {
   "cell_type": "code",
   "execution_count": 4,
   "metadata": {},
   "outputs": [
    {
     "name": "stdout",
     "output_type": "stream",
     "text": [
      "Model: \"vgg16\"\n",
      "_________________________________________________________________\n",
      " Layer (type)                Output Shape              Param #   \n",
      "=================================================================\n",
      " input_2 (InputLayer)        [(None, 300, 300, 3)]     0         \n",
      "                                                                 \n",
      " block1_conv1 (Conv2D)       (None, 300, 300, 64)      1792      \n",
      "                                                                 \n",
      " block1_conv2 (Conv2D)       (None, 300, 300, 64)      36928     \n",
      "                                                                 \n",
      " block1_pool (MaxPooling2D)  (None, 150, 150, 64)      0         \n",
      "                                                                 \n",
      " block2_conv1 (Conv2D)       (None, 150, 150, 128)     73856     \n",
      "                                                                 \n",
      " block2_conv2 (Conv2D)       (None, 150, 150, 128)     147584    \n",
      "                                                                 \n",
      " block2_pool (MaxPooling2D)  (None, 75, 75, 128)       0         \n",
      "                                                                 \n",
      " block3_conv1 (Conv2D)       (None, 75, 75, 256)       295168    \n",
      "                                                                 \n",
      " block3_conv2 (Conv2D)       (None, 75, 75, 256)       590080    \n",
      "                                                                 \n",
      " block3_conv3 (Conv2D)       (None, 75, 75, 256)       590080    \n",
      "                                                                 \n",
      " block3_pool (MaxPooling2D)  (None, 37, 37, 256)       0         \n",
      "                                                                 \n",
      " block4_conv1 (Conv2D)       (None, 37, 37, 512)       1180160   \n",
      "                                                                 \n",
      " block4_conv2 (Conv2D)       (None, 37, 37, 512)       2359808   \n",
      "                                                                 \n",
      " block4_conv3 (Conv2D)       (None, 37, 37, 512)       2359808   \n",
      "                                                                 \n",
      " block4_pool (MaxPooling2D)  (None, 18, 18, 512)       0         \n",
      "                                                                 \n",
      " block5_conv1 (Conv2D)       (None, 18, 18, 512)       2359808   \n",
      "                                                                 \n",
      " block5_conv2 (Conv2D)       (None, 18, 18, 512)       2359808   \n",
      "                                                                 \n",
      " block5_conv3 (Conv2D)       (None, 18, 18, 512)       2359808   \n",
      "                                                                 \n",
      " block5_pool (MaxPooling2D)  (None, 9, 9, 512)         0         \n",
      "                                                                 \n",
      "=================================================================\n",
      "Total params: 14,714,688\n",
      "Trainable params: 14,714,688\n",
      "Non-trainable params: 0\n",
      "_________________________________________________________________\n"
     ]
    }
   ],
   "source": [
    "from tensorflow.keras.applications import VGG16\n",
    "vgg16_model = VGG16(weights = 'imagenet', include_top = False, input_shape=(300, 300,3))\n",
    "vgg16_model.summary()"
   ]
  },
  {
   "cell_type": "markdown",
   "metadata": {},
   "source": [
    "## fine-tuning"
   ]
  },
  {
   "cell_type": "code",
   "execution_count": 3,
   "metadata": {},
   "outputs": [
    {
     "name": "stdout",
     "output_type": "stream",
     "text": [
      "Model: \"model\"\n",
      "_________________________________________________________________\n",
      " Layer (type)                Output Shape              Param #   \n",
      "=================================================================\n",
      " input_1 (InputLayer)        [(None, 150, 150, 3)]     0         \n",
      "                                                                 \n",
      " block1_conv1 (Conv2D)       (None, 150, 150, 64)      1792      \n",
      "                                                                 \n",
      " block1_conv2 (Conv2D)       (None, 150, 150, 64)      36928     \n",
      "                                                                 \n",
      " block1_pool (MaxPooling2D)  (None, 75, 75, 64)        0         \n",
      "                                                                 \n",
      " block2_conv1 (Conv2D)       (None, 75, 75, 128)       73856     \n",
      "                                                                 \n",
      " block2_conv2 (Conv2D)       (None, 75, 75, 128)       147584    \n",
      "                                                                 \n",
      " block2_pool (MaxPooling2D)  (None, 37, 37, 128)       0         \n",
      "                                                                 \n",
      " block3_conv1 (Conv2D)       (None, 37, 37, 256)       295168    \n",
      "                                                                 \n",
      " block3_conv2 (Conv2D)       (None, 37, 37, 256)       590080    \n",
      "                                                                 \n",
      " block3_conv3 (Conv2D)       (None, 37, 37, 256)       590080    \n",
      "                                                                 \n",
      " block3_pool (MaxPooling2D)  (None, 18, 18, 256)       0         \n",
      "                                                                 \n",
      " block4_conv1 (Conv2D)       (None, 18, 18, 512)       1180160   \n",
      "                                                                 \n",
      " block4_conv2 (Conv2D)       (None, 18, 18, 512)       2359808   \n",
      "                                                                 \n",
      " block4_conv3 (Conv2D)       (None, 18, 18, 512)       2359808   \n",
      "                                                                 \n",
      " block4_pool (MaxPooling2D)  (None, 9, 9, 512)         0         \n",
      "                                                                 \n",
      " block5_conv1 (Conv2D)       (None, 9, 9, 512)         2359808   \n",
      "                                                                 \n",
      " block5_conv2 (Conv2D)       (None, 9, 9, 512)         2359808   \n",
      "                                                                 \n",
      " block5_conv3 (Conv2D)       (None, 9, 9, 512)         2359808   \n",
      "                                                                 \n",
      " block5_pool (MaxPooling2D)  (None, 4, 4, 512)         0         \n",
      "                                                                 \n",
      " flatten (Flatten)           (None, 8192)              0         \n",
      "                                                                 \n",
      " FC_2 (Dense)                (None, 64)                524352    \n",
      "                                                                 \n",
      " batch_normalization (BatchN  (None, 64)               256       \n",
      " ormalization)                                                   \n",
      "                                                                 \n",
      " dropout (Dropout)           (None, 64)                0         \n",
      "                                                                 \n",
      " output (Dense)              (None, 1)                 65        \n",
      "                                                                 \n",
      "=================================================================\n",
      "Total params: 15,239,361\n",
      "Trainable params: 524,545\n",
      "Non-trainable params: 14,714,816\n",
      "_________________________________________________________________\n"
     ]
    }
   ],
   "source": [
    "from tensorflow.keras.applications import VGG16\n",
    "from tensorflow.keras.models import Model\n",
    "from tensorflow.keras.layers import Dense, Dropout, Flatten, BatchNormalization, MaxPooling2D\n",
    "from tensorflow.keras import optimizers\n",
    "\n",
    "vgg_base=VGG16(weights='imagenet',include_top=False, input_shape=(150,150,3)) # 픽셀 크기를 (150,150)으로 줄임\n",
    "\n",
    "for layer in vgg_base.layers:\n",
    "    layer.trainable=False # 모수를 추정하지 않고 추정된 모수 사용\n",
    "  \n",
    "last_layer=vgg_base.get_layer('block5_pool')\n",
    "last_output=last_layer.output\n",
    "x=Flatten()(last_output)\n",
    "x=Dense(64, activation='relu',name='FC_2')(x)\n",
    "x=BatchNormalization()(x)\n",
    "x=Dropout(0.5)(x)\n",
    "x=Dense(1, activation='sigmoid',name='output')(x)\n",
    "\n",
    "model1=Model(inputs=vgg_base.input, outputs=x)\n",
    "model1.summary()"
   ]
  },
  {
   "cell_type": "code",
   "execution_count": 3,
   "metadata": {},
   "outputs": [
    {
     "name": "stdout",
     "output_type": "stream",
     "text": [
      "Epoch 1/10\n",
      "100/100 [==============================] - 156s 2s/step - loss: 0.8831 - acc: 0.5307 - val_loss: 0.5902 - val_acc: 0.6900\n",
      "Epoch 2/10\n",
      "100/100 [==============================] - 186s 2s/step - loss: 0.6549 - acc: 0.6758 - val_loss: 0.4874 - val_acc: 0.7770\n",
      "Epoch 3/10\n",
      "100/100 [==============================] - 183s 2s/step - loss: 0.5621 - acc: 0.7095 - val_loss: 0.4212 - val_acc: 0.8150\n",
      "Epoch 4/10\n",
      "100/100 [==============================] - 185s 2s/step - loss: 0.4675 - acc: 0.7805 - val_loss: 0.3809 - val_acc: 0.8340\n",
      "Epoch 5/10\n",
      "100/100 [==============================] - 181s 2s/step - loss: 0.4326 - acc: 0.7895 - val_loss: 0.3567 - val_acc: 0.8470\n",
      "Epoch 6/10\n",
      "100/100 [==============================] - 183s 2s/step - loss: 0.4264 - acc: 0.8028 - val_loss: 0.3383 - val_acc: 0.8570\n",
      "Epoch 7/10\n",
      "100/100 [==============================] - 175s 2s/step - loss: 0.4273 - acc: 0.8045 - val_loss: 0.3324 - val_acc: 0.8560\n",
      "Epoch 8/10\n",
      "100/100 [==============================] - 178s 2s/step - loss: 0.3599 - acc: 0.8462 - val_loss: 0.3248 - val_acc: 0.8600\n",
      "Epoch 9/10\n",
      "100/100 [==============================] - 180s 2s/step - loss: 0.3261 - acc: 0.8642 - val_loss: 0.3185 - val_acc: 0.8670\n",
      "Epoch 10/10\n",
      "100/100 [==============================] - 179s 2s/step - loss: 0.3481 - acc: 0.8349 - val_loss: 0.3043 - val_acc: 0.8700\n"
     ]
    }
   ],
   "source": [
    "model1.compile(optimizer=optimizers.RMSprop(lr=1e-5),loss='binary_crossentropy',metrics=['acc'])\n",
    "model1_result=model1.fit(train_batches,steps_per_epoch=100,validation_data=valid_batches, validation_steps=50, epochs=10)"
   ]
  },
  {
   "cell_type": "code",
   "execution_count": 4,
   "metadata": {},
   "outputs": [
    {
     "data": {
      "image/png": "[encoded data removed]",
      "text/plain": [
       "<Figure size 432x288 with 1 Axes>"
      ]
     },
     "metadata": {
      "needs_background": "light"
     },
     "output_type": "display_data"
    },
    {
     "data": {
      "image/png": "[encoded data removed]",
      "text/plain": [
       "<Figure size 432x288 with 1 Axes>"
      ]
     },
     "metadata": {
      "needs_background": "light"
     },
     "output_type": "display_data"
    }
   ],
   "source": [
    "import matplotlib.pyplot as plt\n",
    "acc=model1_result.history['acc']\n",
    "val_acc=model1_result.history['val_acc']\n",
    "loss=model1_result.history['loss']\n",
    "val_loss=model1_result.history['val_loss']\n",
    "epochs=range(1,len(acc)+1)\n",
    "plt.plot(epochs,acc,'b',label='training acc')\n",
    "plt.plot(epochs,val_acc,'bo',label='validation acc')\n",
    "plt.title('training and validation accuracy')\n",
    "plt.legend()\n",
    "plt.figure()\n",
    "plt.plot(epochs,loss,'b',label='training loss')\n",
    "plt.plot(epochs,val_loss,'bo',label='validation loss')\n",
    "plt.title('training and validation loss')\n",
    "plt.legend()\n",
    "plt.show()"
   ]
  },
  {
   "cell_type": "code",
   "execution_count": 9,
   "metadata": {
    "scrolled": true
   },
   "outputs": [
    {
     "name": "stdout",
     "output_type": "stream",
     "text": [
      "Found 2000 images belonging to 2 classes.\n",
      "Found 1000 images belonging to 2 classes.\n",
      "Model: \"model_3\"\n",
      "_________________________________________________________________\n",
      "Layer (type)                 Output Shape              Param #   \n",
      "=================================================================\n",
      "input_6 (InputLayer)         [(None, 150, 150, 3)]     0         \n",
      "_________________________________________________________________\n",
      "block1_conv1 (Conv2D)        (None, 150, 150, 64)      1792      \n",
      "_________________________________________________________________\n",
      "block1_conv2 (Conv2D)        (None, 150, 150, 64)      36928     \n",
      "_________________________________________________________________\n",
      "block1_pool (MaxPooling2D)   (None, 75, 75, 64)        0         \n",
      "_________________________________________________________________\n",
      "block2_conv1 (Conv2D)        (None, 75, 75, 128)       73856     \n",
      "_________________________________________________________________\n",
      "block2_conv2 (Conv2D)        (None, 75, 75, 128)       147584    \n",
      "_________________________________________________________________\n",
      "block2_pool (MaxPooling2D)   (None, 37, 37, 128)       0         \n",
      "_________________________________________________________________\n",
      "block3_conv1 (Conv2D)        (None, 37, 37, 256)       295168    \n",
      "_________________________________________________________________\n",
      "block3_conv2 (Conv2D)        (None, 37, 37, 256)       590080    \n",
      "_________________________________________________________________\n",
      "block3_conv3 (Conv2D)        (None, 37, 37, 256)       590080    \n",
      "_________________________________________________________________\n",
      "block3_pool (MaxPooling2D)   (None, 18, 18, 256)       0         \n",
      "_________________________________________________________________\n",
      "block4_conv1 (Conv2D)        (None, 18, 18, 512)       1180160   \n",
      "_________________________________________________________________\n",
      "block4_conv2 (Conv2D)        (None, 18, 18, 512)       2359808   \n",
      "_________________________________________________________________\n",
      "block4_conv3 (Conv2D)        (None, 18, 18, 512)       2359808   \n",
      "_________________________________________________________________\n",
      "block4_pool (MaxPooling2D)   (None, 9, 9, 512)         0         \n",
      "_________________________________________________________________\n",
      "block5_conv1 (Conv2D)        (None, 9, 9, 512)         2359808   \n",
      "_________________________________________________________________\n",
      "block5_conv2 (Conv2D)        (None, 9, 9, 512)         2359808   \n",
      "_________________________________________________________________\n",
      "block5_conv3 (Conv2D)        (None, 9, 9, 512)         2359808   \n",
      "_________________________________________________________________\n",
      "block5_pool (MaxPooling2D)   (None, 4, 4, 512)         0         \n",
      "_________________________________________________________________\n",
      "max_pooling2d_1 (MaxPooling2 (None, 2, 2, 512)         0         \n",
      "_________________________________________________________________\n",
      "flatten_3 (Flatten)          (None, 2048)              0         \n",
      "_________________________________________________________________\n",
      "FC_2 (Dense)                 (None, 256)               524544    \n",
      "_________________________________________________________________\n",
      "batch_normalization_3 (Batch (None, 256)               1024      \n",
      "_________________________________________________________________\n",
      "dropout_3 (Dropout)          (None, 256)               0         \n",
      "_________________________________________________________________\n",
      "output (Dense)               (None, 1)                 257       \n",
      "=================================================================\n",
      "Total params: 15,240,513\n",
      "Trainable params: 525,313\n",
      "Non-trainable params: 14,715,200\n",
      "_________________________________________________________________\n"
     ]
    }
   ],
   "source": [
    "vgg_base.trainable=False\n",
    "\n",
    "from tensorflow.keras.preprocessing.image import ImageDataGenerator\n",
    "from tensorflow.keras import optimizers\n",
    "\n",
    "train_datagen=ImageDataGenerator(rescale=1./255,rotation_range=40, width_shift_range=0.2,\n",
    "                               height_shift_range=0.2, shear_range=0.2, zoom_range=0.2,\n",
    "                                horizontal_flip=True, fill_mode='nearest')\n",
    "validation_datagen=ImageDataGenerator(rescale=1./255) #검증데이터는 자료증대를 하지 않아야 함.\n",
    "train_generator=train_datagen.flow_from_directory(train_dir,target_size=(150,150),\n",
    "                                              batch_size=20, class_mode='binary')\n",
    "validation_generator=validation_datagen.flow_from_directory(validation_dir,target_size=(150,150),\n",
    "                                              batch_size=20, class_mode='binary')\n",
    "\n",
    "vgg_base=VGG16(weights='imagenet',include_top=False, input_shape=(150,150,3))  \n",
    "\n",
    "for layer in vgg_base.layers:\n",
    "    layer.trainable=False\n",
    "  \n",
    "last_layer=vgg_base.get_layer('block5_pool')\n",
    "last_output=last_layer.output\n",
    "x=MaxPooling2D(2)(last_output)\n",
    "x=Flatten()(x)\n",
    "x=Dense(256, activation='relu',name='FC_2')(x)\n",
    "x=BatchNormalization()(x)\n",
    "x=Dropout(0.5)(x)\n",
    "x=Dense(1, activation='sigmoid',name='output')(x)\n",
    "\n",
    "model_aug=Model(inputs=vgg_base.input, outputs=x)\n",
    "model_aug.summary()\n"
   ]
  },
  {
   "cell_type": "code",
   "execution_count": 10,
   "metadata": {},
   "outputs": [
    {
     "name": "stdout",
     "output_type": "stream",
     "text": [
      "Epoch 1/30\n",
      "100/100 [==============================] - 165s 2s/step - loss: 0.8880 - acc: 0.5612 - val_loss: 0.5998 - val_acc: 0.6320\n",
      "Epoch 2/30\n",
      "100/100 [==============================] - 207s 2s/step - loss: 0.6760 - acc: 0.6705 - val_loss: 0.4707 - val_acc: 0.7850\n",
      "Epoch 3/30\n",
      "100/100 [==============================] - 198s 2s/step - loss: 0.6583 - acc: 0.6811 - val_loss: 0.4073 - val_acc: 0.8180\n",
      "Epoch 4/30\n",
      "100/100 [==============================] - 196s 2s/step - loss: 0.5883 - acc: 0.7193 - val_loss: 0.3796 - val_acc: 0.8290\n",
      "Epoch 5/30\n",
      "100/100 [==============================] - 194s 2s/step - loss: 0.5661 - acc: 0.7383 - val_loss: 0.3601 - val_acc: 0.8380\n",
      "Epoch 6/30\n",
      "100/100 [==============================] - 194s 2s/step - loss: 0.5321 - acc: 0.7611 - val_loss: 0.3446 - val_acc: 0.8410\n",
      "Epoch 7/30\n",
      "100/100 [==============================] - 194s 2s/step - loss: 0.5558 - acc: 0.7485 - val_loss: 0.3390 - val_acc: 0.8510\n",
      "Epoch 8/30\n",
      "100/100 [==============================] - 194s 2s/step - loss: 0.5748 - acc: 0.7562 - val_loss: 0.3327 - val_acc: 0.8540\n",
      "Epoch 9/30\n",
      "100/100 [==============================] - 195s 2s/step - loss: 0.5091 - acc: 0.7635 - val_loss: 0.3217 - val_acc: 0.8590\n",
      "Epoch 10/30\n",
      "100/100 [==============================] - 197s 2s/step - loss: 0.4772 - acc: 0.7895 - val_loss: 0.3157 - val_acc: 0.8660\n",
      "Epoch 11/30\n",
      "100/100 [==============================] - 197s 2s/step - loss: 0.5317 - acc: 0.7465 - val_loss: 0.3093 - val_acc: 0.8660\n",
      "Epoch 12/30\n",
      "100/100 [==============================] - 199s 2s/step - loss: 0.4878 - acc: 0.7890 - val_loss: 0.3061 - val_acc: 0.8670\n",
      "Epoch 13/30\n",
      "100/100 [==============================] - 202s 2s/step - loss: 0.4914 - acc: 0.7753 - val_loss: 0.2987 - val_acc: 0.8690\n",
      "Epoch 14/30\n",
      "100/100 [==============================] - 202s 2s/step - loss: 0.4803 - acc: 0.7701 - val_loss: 0.2936 - val_acc: 0.8710\n",
      "Epoch 15/30\n",
      "100/100 [==============================] - 198s 2s/step - loss: 0.4827 - acc: 0.7715 - val_loss: 0.2910 - val_acc: 0.8730\n",
      "Epoch 16/30\n",
      "100/100 [==============================] - 195s 2s/step - loss: 0.4576 - acc: 0.7938 - val_loss: 0.2885 - val_acc: 0.8760\n",
      "Epoch 17/30\n",
      "100/100 [==============================] - 196s 2s/step - loss: 0.4206 - acc: 0.8147 - val_loss: 0.2838 - val_acc: 0.8750\n",
      "Epoch 18/30\n",
      "100/100 [==============================] - 194s 2s/step - loss: 0.4358 - acc: 0.8070 - val_loss: 0.2835 - val_acc: 0.8720\n",
      "Epoch 19/30\n",
      "100/100 [==============================] - 195s 2s/step - loss: 0.4232 - acc: 0.8189 - val_loss: 0.2823 - val_acc: 0.8750\n",
      "Epoch 20/30\n",
      "100/100 [==============================] - 197s 2s/step - loss: 0.4403 - acc: 0.8092 - val_loss: 0.2803 - val_acc: 0.8810\n",
      "Epoch 21/30\n",
      "100/100 [==============================] - 197s 2s/step - loss: 0.4634 - acc: 0.7873 - val_loss: 0.2810 - val_acc: 0.8800\n",
      "Epoch 22/30\n",
      "100/100 [==============================] - 200s 2s/step - loss: 0.4490 - acc: 0.7938 - val_loss: 0.2802 - val_acc: 0.8810\n",
      "Epoch 23/30\n",
      "100/100 [==============================] - 206s 2s/step - loss: 0.4359 - acc: 0.7942 - val_loss: 0.2820 - val_acc: 0.8820\n",
      "Epoch 24/30\n",
      "100/100 [==============================] - 206s 2s/step - loss: 0.4396 - acc: 0.7996 - val_loss: 0.2771 - val_acc: 0.8850\n",
      "Epoch 25/30\n",
      "100/100 [==============================] - 195s 2s/step - loss: 0.4014 - acc: 0.8223 - val_loss: 0.2748 - val_acc: 0.8900\n",
      "Epoch 26/30\n",
      "100/100 [==============================] - 196s 2s/step - loss: 0.4072 - acc: 0.8158 - val_loss: 0.2758 - val_acc: 0.8890\n",
      "Epoch 27/30\n",
      "100/100 [==============================] - 196s 2s/step - loss: 0.4300 - acc: 0.8140 - val_loss: 0.2744 - val_acc: 0.8840\n",
      "Epoch 28/30\n",
      "100/100 [==============================] - 196s 2s/step - loss: 0.4177 - acc: 0.8137 - val_loss: 0.2697 - val_acc: 0.8830\n",
      "Epoch 29/30\n",
      "100/100 [==============================] - 197s 2s/step - loss: 0.4096 - acc: 0.8150 - val_loss: 0.2706 - val_acc: 0.8840\n",
      "Epoch 30/30\n",
      "100/100 [==============================] - 198s 2s/step - loss: 0.3854 - acc: 0.8278 - val_loss: 0.2676 - val_acc: 0.8880\n"
     ]
    }
   ],
   "source": [
    "model_aug.compile(optimizer=optimizers.RMSprop(lr=2e-5),loss='binary_crossentropy',metrics=['acc'])\n",
    "model_aug_result=model_aug.fit(train_generator,steps_per_epoch=100, epochs=30,\n",
    "                               validation_data=validation_generator,validation_steps=50)"
   ]
  },
  {
   "cell_type": "code",
   "execution_count": 11,
   "metadata": {},
   "outputs": [
    {
     "data": {
      "image/png": "[encoded data removed]",
      "text/plain": [
       "<Figure size 432x288 with 1 Axes>"
      ]
     },
     "metadata": {
      "needs_background": "light"
     },
     "output_type": "display_data"
    },
    {
     "data": {
      "image/png": "[encoded data removed]",
      "text/plain": [
       "<Figure size 432x288 with 1 Axes>"
      ]
     },
     "metadata": {
      "needs_background": "light"
     },
     "output_type": "display_data"
    }
   ],
   "source": [
    "import matplotlib.pyplot as plt\n",
    "acc=model_aug_result.history['acc']\n",
    "val_acc=model_aug_result.history['val_acc']\n",
    "loss=model_aug_result.history['loss']\n",
    "val_loss=model_aug_result.history['val_loss']\n",
    "epochs=range(1,len(acc)+1)\n",
    "plt.plot(epochs,acc,'b',label='training acc')\n",
    "plt.plot(epochs,val_acc,'bo',label='validation acc')\n",
    "plt.title('training and validation accuracy')\n",
    "plt.legend()\n",
    "plt.figure()\n",
    "plt.plot(epochs,loss,'b',label='training loss')\n",
    "plt.plot(epochs,val_loss,'bo',label='validation loss')\n",
    "plt.title('training and validation loss')\n",
    "plt.legend()\n",
    "plt.show()"
   ]
  },
  {
   "cell_type": "markdown",
   "metadata": {},
   "source": [
    "## Pooling을 avg"
   ]
  },
  {
   "cell_type": "code",
   "execution_count": 17,
   "metadata": {},
   "outputs": [
    {
     "name": "stdout",
     "output_type": "stream",
     "text": [
      "Model: \"model_6\"\n",
      "_________________________________________________________________\n",
      "Layer (type)                 Output Shape              Param #   \n",
      "=================================================================\n",
      "input_12 (InputLayer)        [(None, 150, 150, 3)]     0         \n",
      "_________________________________________________________________\n",
      "block1_conv1 (Conv2D)        (None, 150, 150, 64)      1792      \n",
      "_________________________________________________________________\n",
      "block1_conv2 (Conv2D)        (None, 150, 150, 64)      36928     \n",
      "_________________________________________________________________\n",
      "block1_pool (MaxPooling2D)   (None, 75, 75, 64)        0         \n",
      "_________________________________________________________________\n",
      "block2_conv1 (Conv2D)        (None, 75, 75, 128)       73856     \n",
      "_________________________________________________________________\n",
      "block2_conv2 (Conv2D)        (None, 75, 75, 128)       147584    \n",
      "_________________________________________________________________\n",
      "block2_pool (MaxPooling2D)   (None, 37, 37, 128)       0         \n",
      "_________________________________________________________________\n",
      "block3_conv1 (Conv2D)        (None, 37, 37, 256)       295168    \n",
      "_________________________________________________________________\n",
      "block3_conv2 (Conv2D)        (None, 37, 37, 256)       590080    \n",
      "_________________________________________________________________\n",
      "block3_conv3 (Conv2D)        (None, 37, 37, 256)       590080    \n",
      "_________________________________________________________________\n",
      "block3_pool (MaxPooling2D)   (None, 18, 18, 256)       0         \n",
      "_________________________________________________________________\n",
      "block4_conv1 (Conv2D)        (None, 18, 18, 512)       1180160   \n",
      "_________________________________________________________________\n",
      "block4_conv2 (Conv2D)        (None, 18, 18, 512)       2359808   \n",
      "_________________________________________________________________\n",
      "block4_conv3 (Conv2D)        (None, 18, 18, 512)       2359808   \n",
      "_________________________________________________________________\n",
      "block4_pool (MaxPooling2D)   (None, 9, 9, 512)         0         \n",
      "_________________________________________________________________\n",
      "block5_conv1 (Conv2D)        (None, 9, 9, 512)         2359808   \n",
      "_________________________________________________________________\n",
      "block5_conv2 (Conv2D)        (None, 9, 9, 512)         2359808   \n",
      "_________________________________________________________________\n",
      "block5_conv3 (Conv2D)        (None, 9, 9, 512)         2359808   \n",
      "_________________________________________________________________\n",
      "block5_pool (MaxPooling2D)   (None, 4, 4, 512)         0         \n",
      "_________________________________________________________________\n",
      "global_average_pooling2d_5 ( (None, 512)               0         \n",
      "_________________________________________________________________\n",
      "FC_2 (Dense)                 (None, 256)               131328    \n",
      "_________________________________________________________________\n",
      "batch_normalization_6 (Batch (None, 256)               1024      \n",
      "_________________________________________________________________\n",
      "dropout_6 (Dropout)          (None, 256)               0         \n",
      "_________________________________________________________________\n",
      "output (Dense)               (None, 1)                 257       \n",
      "=================================================================\n",
      "Total params: 14,847,297\n",
      "Trainable params: 7,211,521\n",
      "Non-trainable params: 7,635,776\n",
      "_________________________________________________________________\n"
     ]
    }
   ],
   "source": [
    "# 모수 줄이기 위해 flatten 대신 pooling='avg' 사용\n",
    "# flatten 사용하면 모수가 너무 많아져 오버피팅이 발생 그래서 요즘은 global_average_pooling 사용\n",
    "base_model=VGG16(weights='imagenet',include_top=False, input_shape=(150,150,3),pooling='avg')  \n",
    "\n",
    "for layer in base_model.layers[:-5]:\n",
    "    layer.trainable=False\n",
    "  \n",
    "last_output=base_model.output\n",
    "x=Dense(256, activation='relu',name='FC_2')(last_output)\n",
    "x=BatchNormalization()(x)\n",
    "x=Dropout(0.5)(x)\n",
    "x=Dense(1, activation='sigmoid',name='output')(x)\n",
    "\n",
    "model_aug=Model(inputs=base_model.input, outputs=x)\n",
    "model_aug.summary()"
   ]
  },
  {
   "cell_type": "code",
   "execution_count": 18,
   "metadata": {
    "scrolled": true
   },
   "outputs": [
    {
     "name": "stdout",
     "output_type": "stream",
     "text": [
      "Epoch 1/30\n",
      "100/100 [==============================] - 202s 2s/step - loss: 0.6849 - acc: 0.6161 - val_loss: 0.4957 - val_acc: 0.8490\n",
      "Epoch 2/30\n",
      "100/100 [==============================] - 232s 2s/step - loss: 0.4899 - acc: 0.7732 - val_loss: 0.3638 - val_acc: 0.8770\n",
      "Epoch 3/30\n",
      "100/100 [==============================] - 224s 2s/step - loss: 0.4041 - acc: 0.8168 - val_loss: 0.2714 - val_acc: 0.8910\n",
      "Epoch 4/30\n",
      "100/100 [==============================] - 230s 2s/step - loss: 0.3580 - acc: 0.8428 - val_loss: 0.2485 - val_acc: 0.8830\n",
      "Epoch 5/30\n",
      "100/100 [==============================] - 242s 2s/step - loss: 0.3184 - acc: 0.8667 - val_loss: 0.2222 - val_acc: 0.9030\n",
      "Epoch 6/30\n",
      "100/100 [==============================] - 223s 2s/step - loss: 0.3024 - acc: 0.8757 - val_loss: 0.2241 - val_acc: 0.8930\n",
      "Epoch 7/30\n",
      "100/100 [==============================] - 235s 2s/step - loss: 0.3017 - acc: 0.8681 - val_loss: 0.2086 - val_acc: 0.9000\n",
      "Epoch 8/30\n",
      "100/100 [==============================] - 239s 2s/step - loss: 0.2878 - acc: 0.8749 - val_loss: 0.2299 - val_acc: 0.8990\n",
      "Epoch 9/30\n",
      "100/100 [==============================] - 225s 2s/step - loss: 0.2976 - acc: 0.8701 - val_loss: 0.1805 - val_acc: 0.9220\n",
      "Epoch 10/30\n",
      "100/100 [==============================] - 232s 2s/step - loss: 0.2348 - acc: 0.9148 - val_loss: 0.1847 - val_acc: 0.9160\n",
      "Epoch 11/30\n",
      "100/100 [==============================] - 248s 2s/step - loss: 0.2470 - acc: 0.9031 - val_loss: 0.1796 - val_acc: 0.9190\n",
      "Epoch 12/30\n",
      "100/100 [==============================] - 226s 2s/step - loss: 0.2094 - acc: 0.9065 - val_loss: 0.1820 - val_acc: 0.9190\n",
      "Epoch 13/30\n",
      "100/100 [==============================] - 231s 2s/step - loss: 0.2466 - acc: 0.9001 - val_loss: 0.1822 - val_acc: 0.9160\n",
      "Epoch 14/30\n",
      "100/100 [==============================] - 249s 2s/step - loss: 0.1988 - acc: 0.9158 - val_loss: 0.1776 - val_acc: 0.9260\n",
      "Epoch 15/30\n",
      "100/100 [==============================] - 225s 2s/step - loss: 0.2252 - acc: 0.9032 - val_loss: 0.1719 - val_acc: 0.9220\n",
      "Epoch 16/30\n",
      "100/100 [==============================] - 236s 2s/step - loss: 0.1933 - acc: 0.9275 - val_loss: 0.2743 - val_acc: 0.8870\n",
      "Epoch 17/30\n",
      "100/100 [==============================] - 246s 2s/step - loss: 0.2051 - acc: 0.9168 - val_loss: 0.1712 - val_acc: 0.9290\n",
      "Epoch 18/30\n",
      "100/100 [==============================] - 227s 2s/step - loss: 0.1771 - acc: 0.9273 - val_loss: 0.1686 - val_acc: 0.9240\n",
      "Epoch 19/30\n",
      "100/100 [==============================] - 243s 2s/step - loss: 0.1643 - acc: 0.9373 - val_loss: 0.1842 - val_acc: 0.9180\n",
      "Epoch 20/30\n",
      "100/100 [==============================] - 238s 2s/step - loss: 0.1859 - acc: 0.9295 - val_loss: 0.2079 - val_acc: 0.9150\n",
      "Epoch 21/30\n",
      "100/100 [==============================] - 233s 2s/step - loss: 0.1745 - acc: 0.9311 - val_loss: 0.1620 - val_acc: 0.9240\n",
      "Epoch 22/30\n",
      "100/100 [==============================] - 248s 2s/step - loss: 0.1726 - acc: 0.9254 - val_loss: 0.1837 - val_acc: 0.9250\n",
      "Epoch 23/30\n",
      "100/100 [==============================] - 227s 2s/step - loss: 0.1464 - acc: 0.9431 - val_loss: 0.1617 - val_acc: 0.9230\n",
      "Epoch 24/30\n",
      "100/100 [==============================] - 250s 3s/step - loss: 0.1613 - acc: 0.9323 - val_loss: 0.1567 - val_acc: 0.9300\n",
      "Epoch 25/30\n",
      "100/100 [==============================] - 228s 2s/step - loss: 0.1751 - acc: 0.9313 - val_loss: 0.1637 - val_acc: 0.9310\n",
      "Epoch 26/30\n",
      "100/100 [==============================] - 240s 2s/step - loss: 0.1252 - acc: 0.9500 - val_loss: 0.2029 - val_acc: 0.9130\n",
      "Epoch 27/30\n",
      "100/100 [==============================] - 243s 2s/step - loss: 0.1441 - acc: 0.9435 - val_loss: 0.1826 - val_acc: 0.9220\n",
      "Epoch 28/30\n",
      "100/100 [==============================] - 230s 2s/step - loss: 0.1469 - acc: 0.9456 - val_loss: 0.1536 - val_acc: 0.9330\n",
      "Epoch 29/30\n",
      "100/100 [==============================] - 250s 3s/step - loss: 0.1174 - acc: 0.9583 - val_loss: 0.1663 - val_acc: 0.9290\n",
      "Epoch 30/30\n",
      "100/100 [==============================] - 228s 2s/step - loss: 0.1327 - acc: 0.9529 - val_loss: 0.1609 - val_acc: 0.9260\n"
     ]
    }
   ],
   "source": [
    "from tensorflow.keras import optimizers\n",
    "model_aug.compile(optimizer=optimizers.RMSprop(lr=1e-5),loss='binary_crossentropy',metrics=['acc'])\n",
    "result_final=model_aug.fit(train_generator,steps_per_epoch=100, epochs=30, \n",
    "                           validation_data=validation_generator,validation_steps=50)"
   ]
  },
  {
   "cell_type": "code",
   "execution_count": 17,
   "metadata": {},
   "outputs": [
    {
     "data": {
      "image/png": "[encoded data removed]",
      "text/plain": [
       "<Figure size 432x288 with 1 Axes>"
      ]
     },
     "metadata": {
      "needs_background": "light"
     },
     "output_type": "display_data"
    },
    {
     "data": {
      "image/png": "[encoded data removed]",
      "text/plain": [
       "<Figure size 432x288 with 1 Axes>"
      ]
     },
     "metadata": {
      "needs_background": "light"
     },
     "output_type": "display_data"
    }
   ],
   "source": [
    "import matplotlib.pyplot as plt\n",
    "acc=result_final.history['acc']\n",
    "val_acc=result_final.history['val_acc']\n",
    "loss=result_final.history['loss']\n",
    "val_loss=result_final.history['val_loss']\n",
    "epochs=range(1,len(acc)+1)\n",
    "plt.plot(epochs,acc,'b',label='training acc')\n",
    "plt.plot(epochs,val_acc,'bo',label='validation acc')\n",
    "plt.title('training and validation accuracy')\n",
    "plt.legend()\n",
    "plt.figure()\n",
    "plt.plot(epochs,loss,'b',label='training loss')\n",
    "plt.plot(epochs,val_loss,'bo',label='validation loss')\n",
    "plt.title('training and validation loss')\n",
    "plt.legend()\n",
    "plt.show()"
   ]
  },
  {
   "cell_type": "code",
   "execution_count": 19,
   "metadata": {},
   "outputs": [
    {
     "name": "stdout",
     "output_type": "stream",
     "text": [
      "Found 1000 images belonging to 2 classes.\n",
      "50/50 [==============================] - 43s 864ms/step - loss: 0.2210 - acc: 0.9330\n",
      "0.22099395096302032\n",
      "0.9330000281333923\n"
     ]
    }
   ],
   "source": [
    "test_datagen=ImageDataGenerator(rescale=1./255)\n",
    "test_generator=test_datagen.flow_from_directory(test_dir,target_size=(150,150),\n",
    "                                              batch_size=20, class_mode='binary')\n",
    "loss, acc=model_aug.evaluate(test_generator,steps=50)\n",
    "print(loss)\n",
    "print(acc)"
   ]
  },
  {
   "cell_type": "code",
   "execution_count": null,
   "metadata": {},
   "outputs": [],
   "source": []
  }
 ],
 "metadata": {
  "kernelspec": {
   "display_name": "Python 3",
   "language": "python",
   "name": "python3"
  },
  "language_info": {
   "codemirror_mode": {
    "name": "ipython",
    "version": 3
   },
   "file_extension": ".py",
   "mimetype": "text/x-python",
   "name": "python",
   "nbconvert_exporter": "python",
   "pygments_lexer": "ipython3",
   "version": "3.8.8"
  }
 },
 "nbformat": 4,
 "nbformat_minor": 4
}
