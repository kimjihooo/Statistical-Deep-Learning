{
 "cells": [
  {
   "cell_type": "markdown",
   "metadata": {},
   "source": [
    "# 텍스트 자료 토큰화 임베딩"
   ]
  },
  {
   "cell_type": "code",
   "execution_count": 1,
   "metadata": {},
   "outputs": [
    {
     "name": "stdout",
     "output_type": "stream",
     "text": [
      "{'the': 1, 'cat': 2, 'sits': 3, 'on': 4, 'mat': 5, 'other': 6, 'runs': 7, 'over': 8, 'mats': 9}\n",
      "[[1, 2, 3, 4, 1, 5], [1, 6, 2, 7, 8, 1, 9]]\n",
      "[[0 1 2 3 4 1 5]\n",
      " [1 6 2 7 8 1 9]]\n",
      "[[0. 1. 1. 1. 1. 1. 0. 0. 0. 0. 0. 0.]\n",
      " [0. 1. 1. 0. 0. 0. 1. 1. 1. 1. 0. 0.]]\n"
     ]
    }
   ],
   "source": [
    "from tensorflow.keras.preprocessing.text import Tokenizer\n",
    "from tensorflow.keras.preprocessing import sequence\n",
    "\n",
    "samples=['The cat sits on the mat','The other cat % $ # @ runs over the mats']\n",
    "\n",
    "tokenizer=Tokenizer(num_words=12)\n",
    "tokenizer.fit_on_texts(samples) # 토큰화\n",
    "word_id=tokenizer.word_index # 인덱스\n",
    "print(word_id)\n",
    "\n",
    "seq=tokenizer.texts_to_sequences(samples) # 인덱스의 시퀀스로 나타내기\n",
    "print(seq)\n",
    "\n",
    "xx=sequence.pad_sequences(seq, maxlen=7) # padding\n",
    "print(xx)\n",
    "\n",
    "xx1=tokenizer.sequences_to_matrix(seq,mode='binary') # 원핫 밀집\n",
    "print(xx1)"
   ]
  },
  {
   "cell_type": "code",
   "execution_count": 2,
   "metadata": {},
   "outputs": [
    {
     "name": "stdout",
     "output_type": "stream",
     "text": [
      "[[0. 1. 1. 1.]\n",
      " [0. 1. 1. 1.]]\n",
      "[[0. 3. 2. 1.]\n",
      " [0. 2. 1. 1.]]\n",
      "[[0.         1.07202493 0.86490296 0.51082562]\n",
      " [0.         0.86490296 0.51082562 0.51082562]]\n"
     ]
    }
   ],
   "source": [
    "token=Tokenizer(num_words=4)\n",
    "texts=['a b b c c c','a b c c']\n",
    "token.fit_on_texts(texts)\n",
    "matrix1=token.texts_to_matrix(texts,mode='binary')\n",
    "matrix2=token.texts_to_matrix(texts,mode='count')\n",
    "matrix3=token.texts_to_matrix(texts,mode='tfidf')\n",
    "print(matrix1)\n",
    "print(matrix2)\n",
    "print(matrix3)"
   ]
  },
  {
   "cell_type": "code",
   "execution_count": 3,
   "metadata": {},
   "outputs": [
    {
     "name": "stdout",
     "output_type": "stream",
     "text": [
      "{'c': 1, 'b': 2, 'a': 3}\n"
     ]
    }
   ],
   "source": [
    "texts=['a b b c c c','a b c c']\n",
    "token=Tokenizer(num_words=4)\n",
    "token.fit_on_texts(texts) # 토큰화\n",
    "word_id=token.word_index # 인덱스\n",
    "print(word_id)"
   ]
  },
  {
   "cell_type": "code",
   "execution_count": null,
   "metadata": {},
   "outputs": [],
   "source": []
  }
 ],
 "metadata": {
  "kernelspec": {
   "display_name": "Python 3",
   "language": "python",
   "name": "python3"
  },
  "language_info": {
   "codemirror_mode": {
    "name": "ipython",
    "version": 3
   },
   "file_extension": ".py",
   "mimetype": "text/x-python",
   "name": "python",
   "nbconvert_exporter": "python",
   "pygments_lexer": "ipython3",
   "version": "3.8.8"
  }
 },
 "nbformat": 4,
 "nbformat_minor": 4
}
