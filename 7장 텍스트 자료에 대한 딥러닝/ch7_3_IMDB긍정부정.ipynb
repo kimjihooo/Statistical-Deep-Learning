{
 "cells": [
  {
   "cell_type": "markdown",
   "metadata": {},
   "source": [
    "# IMDB 긍정부정 임베딩"
   ]
  },
  {
   "cell_type": "code",
   "execution_count": 1,
   "metadata": {},
   "outputs": [
    {
     "name": "stdout",
     "output_type": "stream",
     "text": [
      "(25000,)\n",
      "(25000,)\n"
     ]
    }
   ],
   "source": [
    "from tensorflow.keras.datasets import imdb\n",
    "from tensorflow.keras.preprocessing import sequence\n",
    "(x_train, train_label), (x_test, test_label)=imdb.load_data(num_words=10000) # 단어의 수 최초의 만개만 사용하겠다.\n",
    "print(x_train.shape)\n",
    "print(x_test.shape)"
   ]
  },
  {
   "cell_type": "code",
   "execution_count": 2,
   "metadata": {},
   "outputs": [
    {
     "name": "stdout",
     "output_type": "stream",
     "text": [
      "[1, 14, 22, 16, 43, 530, 973, 1622, 1385, 65, 458, 4468, 66, 3941, 4, 173, 36, 256, 5, 25, 100, 43, 838, 112, 50, 670, 2, 9, 35, 480, 284, 5, 150, 4, 172, 112, 167, 2, 336, 385, 39, 4, 172, 4536, 1111, 17, 546, 38, 13, 447, 4, 192, 50, 16, 6, 147, 2025, 19, 14, 22, 4, 1920, 4613, 469, 4, 22, 71, 87, 12, 16, 43, 530, 38, 76, 15, 13, 1247, 4, 22, 17, 515, 17, 12, 16, 626, 18, 2, 5, 62, 386, 12, 8, 316, 8, 106, 5, 4, 2223, 5244, 16, 480, 66, 3785, 33, 4, 130, 12, 16, 38, 619, 5, 25, 124, 51, 36, 135, 48, 25, 1415, 33, 6, 22, 12, 215, 28, 77, 52, 5, 14, 407, 16, 82, 2, 8, 4, 107, 117, 5952, 15, 256, 4, 2, 7, 3766, 5, 723, 36, 71, 43, 530, 476, 26, 400, 317, 46, 7, 4, 2, 1029, 13, 104, 88, 4, 381, 15, 297, 98, 32, 2071, 56, 26, 141, 6, 194, 7486, 18, 4, 226, 22, 21, 134, 476, 26, 480, 5, 144, 30, 5535, 18, 51, 36, 28, 224, 92, 25, 104, 4, 226, 65, 16, 38, 1334, 88, 12, 16, 283, 5, 16, 4472, 113, 103, 32, 15, 16, 5345, 19, 178, 32]\n",
      "1\n"
     ]
    }
   ],
   "source": [
    "# seq로 표현됨\n",
    "print(x_train[0])\n",
    "print(train_label[0])"
   ]
  },
  {
   "cell_type": "code",
   "execution_count": 3,
   "metadata": {},
   "outputs": [
    {
     "name": "stdout",
     "output_type": "stream",
     "text": [
      "Model: \"sequential\"\n",
      "_________________________________________________________________\n",
      " Layer (type)                Output Shape              Param #   \n",
      "=================================================================\n",
      " embedding (Embedding)       (None, 100, 95)           950000    \n",
      "                                                                 \n",
      " dropout (Dropout)           (None, 100, 95)           0         \n",
      "                                                                 \n",
      " flatten (Flatten)           (None, 9500)              0         \n",
      "                                                                 \n",
      " dropout_1 (Dropout)         (None, 9500)              0         \n",
      "                                                                 \n",
      " dense (Dense)               (None, 1)                 9501      \n",
      "                                                                 \n",
      "=================================================================\n",
      "Total params: 959,501\n",
      "Trainable params: 959,501\n",
      "Non-trainable params: 0\n",
      "_________________________________________________________________\n"
     ]
    }
   ],
   "source": [
    "x_train=sequence.pad_sequences(x_train,maxlen=100) # 100개만 사용\n",
    "x_test=sequence.pad_sequences(x_test,maxlen=100)\n",
    "\n",
    "from tensorflow.keras.models import Sequential\n",
    "from tensorflow.keras.layers import Flatten, Dense, Embedding,Dropout\n",
    "imdb=Sequential()\n",
    "imdb.add(Embedding(10000,95,input_length=100))\n",
    "imdb.add(Dropout(0.5))\n",
    "imdb.add(Flatten())\n",
    "imdb.add(Dropout(0.5))\n",
    "imdb.add(Dense(1, activation='sigmoid'))\n",
    "imdb.summary()"
   ]
  },
  {
   "cell_type": "code",
   "execution_count": 4,
   "metadata": {},
   "outputs": [
    {
     "name": "stdout",
     "output_type": "stream",
     "text": [
      "Epoch 1/10\n",
      "665/665 [==============================] - 21s 29ms/step - loss: 0.6122 - acc: 0.6609 - val_loss: 0.4560 - val_acc: 0.7984\n",
      "Epoch 2/10\n",
      "665/665 [==============================] - 20s 31ms/step - loss: 0.3682 - acc: 0.8413 - val_loss: 0.3575 - val_acc: 0.8403\n",
      "Epoch 3/10\n",
      "665/665 [==============================] - 20s 30ms/step - loss: 0.2968 - acc: 0.8752 - val_loss: 0.3431 - val_acc: 0.8493\n",
      "Epoch 4/10\n",
      "665/665 [==============================] - 18s 27ms/step - loss: 0.2593 - acc: 0.8929 - val_loss: 0.3450 - val_acc: 0.8507\n",
      "Epoch 5/10\n",
      "665/665 [==============================] - 18s 27ms/step - loss: 0.2310 - acc: 0.9059 - val_loss: 0.3476 - val_acc: 0.8563\n",
      "Epoch 6/10\n",
      "665/665 [==============================] - 18s 27ms/step - loss: 0.2045 - acc: 0.9182 - val_loss: 0.3522 - val_acc: 0.8555\n",
      "Epoch 7/10\n",
      "665/665 [==============================] - 18s 27ms/step - loss: 0.1785 - acc: 0.9299 - val_loss: 0.3577 - val_acc: 0.8520\n",
      "Epoch 8/10\n",
      "665/665 [==============================] - 18s 27ms/step - loss: 0.1572 - acc: 0.9390 - val_loss: 0.3672 - val_acc: 0.8520\n",
      "Epoch 9/10\n",
      "665/665 [==============================] - 18s 27ms/step - loss: 0.1401 - acc: 0.9474 - val_loss: 0.3736 - val_acc: 0.8528\n",
      "Epoch 10/10\n",
      "665/665 [==============================] - 18s 27ms/step - loss: 0.1243 - acc: 0.9539 - val_loss: 0.3837 - val_acc: 0.8531\n"
     ]
    }
   ],
   "source": [
    "imdb.compile(optimizer='rmsprop', loss='binary_crossentropy', metrics=['acc'])\n",
    "result=imdb.fit(x_train, train_label, epochs=10,batch_size=32, validation_split=0.15)"
   ]
  },
  {
   "cell_type": "code",
   "execution_count": 5,
   "metadata": {},
   "outputs": [
    {
     "data": {
      "image/png": "[encoded data removed]",
      "text/plain": [
       "<Figure size 432x288 with 1 Axes>"
      ]
     },
     "metadata": {
      "needs_background": "light"
     },
     "output_type": "display_data"
    },
    {
     "data": {
      "image/png": "[encoded data removed]",
      "text/plain": [
       "<Figure size 432x288 with 1 Axes>"
      ]
     },
     "metadata": {
      "needs_background": "light"
     },
     "output_type": "display_data"
    }
   ],
   "source": [
    "import matplotlib.pyplot as plt\n",
    "acc=result.history['acc']\n",
    "val_acc=result.history['val_acc']\n",
    "loss=result.history['loss']\n",
    "val_loss=result.history['val_loss']\n",
    "epochs=range(1,len(acc)+1)\n",
    "plt.plot(epochs,acc,'b',label='training acc')\n",
    "plt.plot(epochs,val_acc,'bo',label='validation acc')\n",
    "plt.title('training and validation accuracy')\n",
    "plt.legend()\n",
    "plt.figure()\n",
    "plt.plot(epochs,loss,'b',label='training loss')\n",
    "plt.plot(epochs,val_loss,'bo',label='validation loss')\n",
    "plt.title('training and validation loss')\n",
    "plt.legend()\n",
    "plt.show()"
   ]
  },
  {
   "cell_type": "markdown",
   "metadata": {},
   "source": [
    "## 자료의 실수화"
   ]
  },
  {
   "cell_type": "code",
   "execution_count": 6,
   "metadata": {},
   "outputs": [
    {
     "name": "stdout",
     "output_type": "stream",
     "text": [
      "Requirement already satisfied: pyprind in c:\\programdata\\anaconda3\\lib\\site-packages (2.11.3)\n"
     ]
    },
    {
     "name": "stderr",
     "output_type": "stream",
     "text": [
      "WARNING: Ignoring invalid distribution -portlib-metadata (c:\\programdata\\anaconda3\\lib\\site-packages)\n",
      "WARNING: Ignoring invalid distribution -mportlib-metadata (c:\\programdata\\anaconda3\\lib\\site-packages)\n",
      "WARNING: Ignoring invalid distribution - (c:\\programdata\\anaconda3\\lib\\site-packages)\n",
      "WARNING: Ignoring invalid distribution -portlib-metadata (c:\\programdata\\anaconda3\\lib\\site-packages)\n",
      "WARNING: Ignoring invalid distribution -mportlib-metadata (c:\\programdata\\anaconda3\\lib\\site-packages)\n",
      "WARNING: Ignoring invalid distribution - (c:\\programdata\\anaconda3\\lib\\site-packages)\n",
      "WARNING: Ignoring invalid distribution -portlib-metadata (c:\\programdata\\anaconda3\\lib\\site-packages)\n",
      "WARNING: Ignoring invalid distribution -mportlib-metadata (c:\\programdata\\anaconda3\\lib\\site-packages)\n",
      "WARNING: Ignoring invalid distribution - (c:\\programdata\\anaconda3\\lib\\site-packages)\n",
      "WARNING: Ignoring invalid distribution -portlib-metadata (c:\\programdata\\anaconda3\\lib\\site-packages)\n",
      "WARNING: Ignoring invalid distribution -mportlib-metadata (c:\\programdata\\anaconda3\\lib\\site-packages)\n",
      "WARNING: Ignoring invalid distribution - (c:\\programdata\\anaconda3\\lib\\site-packages)\n",
      "WARNING: Ignoring invalid distribution -portlib-metadata (c:\\programdata\\anaconda3\\lib\\site-packages)\n",
      "WARNING: Ignoring invalid distribution -mportlib-metadata (c:\\programdata\\anaconda3\\lib\\site-packages)\n",
      "WARNING: Ignoring invalid distribution - (c:\\programdata\\anaconda3\\lib\\site-packages)\n",
      "WARNING: Ignoring invalid distribution -portlib-metadata (c:\\programdata\\anaconda3\\lib\\site-packages)\n",
      "WARNING: Ignoring invalid distribution -mportlib-metadata (c:\\programdata\\anaconda3\\lib\\site-packages)\n",
      "WARNING: Ignoring invalid distribution - (c:\\programdata\\anaconda3\\lib\\site-packages)\n",
      "WARNING: You are using pip version 22.0.4; however, version 22.1.2 is available.\n",
      "You should consider upgrading via the 'c:\\programdata\\anaconda3\\python.exe -m pip install --upgrade pip' command.\n"
     ]
    }
   ],
   "source": [
    "!pip install pyprind"
   ]
  },
  {
   "cell_type": "code",
   "execution_count": 7,
   "metadata": {},
   "outputs": [
    {
     "name": "stderr",
     "output_type": "stream",
     "text": [
      "0% [##############################] 100% | ETA: 00:00:00"
     ]
    },
    {
     "name": "stdout",
     "output_type": "stream",
     "text": [
      "                                              review  sentiment\n",
      "0  I went and saw this movie last night after bei...          1\n",
      "1  Actor turned director Bill Paxton follows up h...          1\n",
      "2  As a recreational golfer with some knowledge o...          1\n",
      "3  I saw this film in a sneak preview, and it is ...          1\n",
      "4  Bill Paxton has taken the true story of the 19...          1\n",
      "(50000, 2)\n"
     ]
    },
    {
     "name": "stderr",
     "output_type": "stream",
     "text": [
      "\n",
      "Total time elapsed: 00:06:06\n"
     ]
    }
   ],
   "source": [
    "import pyprind # 진행사항을 알려줌\n",
    "import pandas as pd\n",
    "import os\n",
    "import numpy as np\n",
    "imdb_dir='C:/Users/ellyj/Desktop/3-1/고급통계적딥러닝/코드 및 데이터_1/제 7장 텍스트 자료분석/aclImdb'\n",
    "labels={'pos':1, 'neg':0}\n",
    "pbar=pyprind.ProgBar(50000) # 50000개의 텍스트 자료 진행 사항\n",
    "df=pd.DataFrame()\n",
    "for data_type in ('test', 'train'):\n",
    "    for label_type in ('pos','neg'):\n",
    "        path=os.path.join(imdb_dir,data_type,label_type)\n",
    "        for file in os.listdir(path):\n",
    "            with open(os.path.join(path,file),'r', encoding='utf-8') as infile:\n",
    "                txt=infile.read()\n",
    "            df=df.append([[txt,labels[label_type]]], ignore_index=True)\n",
    "            pbar.update()\n",
    "df.columns=['review', 'sentiment']\n",
    "print(df.head())\n",
    "print(df.shape)\n",
    "df=df.reindex(np.random.permutation(df.index))"
   ]
  },
  {
   "cell_type": "code",
   "execution_count": 12,
   "metadata": {},
   "outputs": [
    {
     "name": "stdout",
     "output_type": "stream",
     "text": [
      "124252\n",
      "(50000, 100)\n",
      "(50000,)\n"
     ]
    }
   ],
   "source": [
    "from tensorflow.keras.preprocessing.text import Tokenizer\n",
    "from tensorflow.keras.preprocessing.sequence import pad_sequences\n",
    "import numpy as np\n",
    "\n",
    "training_samples=25000\n",
    "validation_samples=10000\n",
    "\n",
    "max_words=10000 # 9999개의 단어\n",
    "maxlen=100 # 각 표본의 길이 100\n",
    "\n",
    "token=Tokenizer(num_words=max_words)\n",
    "token.fit_on_texts(df['review'].values)\n",
    "sequence=token.texts_to_sequences(df['review'].values) # 1~9999까지의 인덱스로 계열화\n",
    "word_index=token.word_index # 인덱스를 dictionary 자료\n",
    "print(len(word_index))\n",
    "labels=df['sentiment'].values\n",
    "data=pad_sequences(sequence, maxlen=maxlen)\n",
    "print(data.shape)\n",
    "print(labels.shape)\n",
    "\n",
    "#np.random.shuffle(data) #pandas 데이터일 경우, data.sample(frac=1).reset_index(drop=True)\n",
    "#np.random.shuffle(labels)\n",
    "x_train=data[:training_samples]\n",
    "y_train=labels[:training_samples]\n",
    "x_val=data[training_samples:training_samples+10000]\n",
    "y_val=labels[training_samples:training_samples+10000]\n",
    "x_test=data[training_samples+10000:]\n",
    "y_test=labels[training_samples+10000:]"
   ]
  },
  {
   "cell_type": "markdown",
   "metadata": {},
   "source": [
    "# GLOVE 이전학습\n",
    ": embedding 층을 GLOVE word embedding으로 대체"
   ]
  },
  {
   "cell_type": "code",
   "execution_count": 10,
   "metadata": {},
   "outputs": [
    {
     "name": "stdout",
     "output_type": "stream",
     "text": [
      "400000\n"
     ]
    }
   ],
   "source": [
    "glove_dir='C:/Users/ellyj/Desktop/3-1/고급통계적딥러닝/코드 및 데이터_1/제 7장 텍스트 자료분석/glove.6B'\n",
    "embedding_index={}\n",
    "f=open(os.path.join(glove_dir,'glove.6B.100d.txt'),encoding='UTF8')\n",
    "for line in f:\n",
    "    values=line.split()\n",
    "    word=values[0]\n",
    "    seq=np.asarray(values[1:],dtype='float32')\n",
    "    embedding_index[word]=seq\n",
    "f.close\n",
    "print(len(embedding_index)) # 400000개의 단어"
   ]
  },
  {
   "cell_type": "code",
   "execution_count": 13,
   "metadata": {},
   "outputs": [],
   "source": [
    "embedding_dim=100 # 글로브의 100차원\n",
    "embedding_matrix=np.zeros((max_words,embedding_dim))\n",
    "for word,i in word_index.items():\n",
    "    if i<max_words:\n",
    "        embedding_vector=embedding_index.get(word)\n",
    "        if embedding_vector is not None:\n",
    "            embedding_matrix[i]=embedding_vector"
   ]
  },
  {
   "cell_type": "code",
   "execution_count": 14,
   "metadata": {},
   "outputs": [
    {
     "name": "stdout",
     "output_type": "stream",
     "text": [
      "Model: \"sequential_1\"\n",
      "_________________________________________________________________\n",
      " Layer (type)                Output Shape              Param #   \n",
      "=================================================================\n",
      " embedding_1 (Embedding)     (None, 100, 100)          1000000   \n",
      "                                                                 \n",
      " flatten_1 (Flatten)         (None, 10000)             0         \n",
      "                                                                 \n",
      " dropout_2 (Dropout)         (None, 10000)             0         \n",
      "                                                                 \n",
      " dense_1 (Dense)             (None, 1)                 10001     \n",
      "                                                                 \n",
      "=================================================================\n",
      "Total params: 1,010,001\n",
      "Trainable params: 1,010,001\n",
      "Non-trainable params: 0\n",
      "_________________________________________________________________\n"
     ]
    }
   ],
   "source": [
    "from tensorflow.keras.models import Sequential\n",
    "from tensorflow.keras.layers import Embedding,Dense,Flatten,Dropout\n",
    "model_gl=Sequential()\n",
    "model_gl.add(Embedding(max_words,embedding_dim,input_length=maxlen))\n",
    "model_gl.add(Flatten())\n",
    "model_gl.add(Dropout(0.3))\n",
    "model_gl.add(Dense(1,activation='sigmoid'))\n",
    "model_gl.summary()"
   ]
  },
  {
   "cell_type": "code",
   "execution_count": 16,
   "metadata": {},
   "outputs": [],
   "source": [
    "model_gl.layers[0].set_weights([embedding_matrix]) # 첫번째 층을 이전학습 임베딩 행렬로 사용\n",
    "model_gl.layers[0].trainable=False # 학습안함 글로브로 대체"
   ]
  },
  {
   "cell_type": "code",
   "execution_count": 17,
   "metadata": {},
   "outputs": [
    {
     "name": "stdout",
     "output_type": "stream",
     "text": [
      "Epoch 1/20\n",
      "782/782 [==============================] - 11s 13ms/step - loss: 0.7819 - acc: 0.6211 - val_loss: 0.8823 - val_acc: 0.5907\n",
      "Epoch 2/20\n",
      "782/782 [==============================] - 10s 13ms/step - loss: 0.6373 - acc: 0.7018 - val_loss: 0.5878 - val_acc: 0.7142\n",
      "Epoch 3/20\n",
      "782/782 [==============================] - 10s 13ms/step - loss: 0.5975 - acc: 0.7232 - val_loss: 0.6196 - val_acc: 0.7052\n",
      "Epoch 4/20\n",
      "782/782 [==============================] - 10s 13ms/step - loss: 0.5792 - acc: 0.7337 - val_loss: 0.6980 - val_acc: 0.6787\n",
      "Epoch 5/20\n",
      "782/782 [==============================] - 10s 13ms/step - loss: 0.5746 - acc: 0.7403 - val_loss: 0.8864 - val_acc: 0.6315\n",
      "Epoch 6/20\n",
      "782/782 [==============================] - 10s 13ms/step - loss: 0.5721 - acc: 0.7434 - val_loss: 0.6624 - val_acc: 0.7010\n",
      "Epoch 7/20\n",
      "782/782 [==============================] - 10s 13ms/step - loss: 0.5706 - acc: 0.7438 - val_loss: 0.6422 - val_acc: 0.7104\n",
      "Epoch 8/20\n",
      "782/782 [==============================] - 10s 13ms/step - loss: 0.5716 - acc: 0.7516 - val_loss: 0.6337 - val_acc: 0.7199\n",
      "Epoch 9/20\n",
      "782/782 [==============================] - 10s 13ms/step - loss: 0.5579 - acc: 0.7529 - val_loss: 0.6133 - val_acc: 0.7242\n",
      "Epoch 10/20\n",
      "782/782 [==============================] - 10s 13ms/step - loss: 0.5602 - acc: 0.7560 - val_loss: 0.7209 - val_acc: 0.6884\n",
      "Epoch 11/20\n",
      "782/782 [==============================] - 11s 13ms/step - loss: 0.5684 - acc: 0.7526 - val_loss: 0.8301 - val_acc: 0.6616\n",
      "Epoch 12/20\n",
      "782/782 [==============================] - 11s 13ms/step - loss: 0.5724 - acc: 0.7520 - val_loss: 0.6277 - val_acc: 0.7198\n",
      "Epoch 13/20\n",
      "782/782 [==============================] - 10s 13ms/step - loss: 0.5694 - acc: 0.7547 - val_loss: 0.6945 - val_acc: 0.7063\n",
      "Epoch 14/20\n",
      "782/782 [==============================] - 10s 13ms/step - loss: 0.5679 - acc: 0.7542 - val_loss: 0.6347 - val_acc: 0.7168\n",
      "Epoch 15/20\n",
      "782/782 [==============================] - 10s 13ms/step - loss: 0.5661 - acc: 0.7563 - val_loss: 0.8191 - val_acc: 0.6745\n",
      "Epoch 16/20\n",
      "782/782 [==============================] - 10s 13ms/step - loss: 0.5573 - acc: 0.7604 - val_loss: 0.8599 - val_acc: 0.6587\n",
      "Epoch 17/20\n",
      "782/782 [==============================] - 10s 13ms/step - loss: 0.5684 - acc: 0.7540 - val_loss: 0.8728 - val_acc: 0.6593\n",
      "Epoch 18/20\n",
      "782/782 [==============================] - 10s 13ms/step - loss: 0.5700 - acc: 0.7553 - val_loss: 0.9544 - val_acc: 0.6435\n",
      "Epoch 19/20\n",
      "782/782 [==============================] - 10s 13ms/step - loss: 0.5747 - acc: 0.7518 - val_loss: 0.7458 - val_acc: 0.6925\n",
      "Epoch 20/20\n",
      "782/782 [==============================] - 10s 13ms/step - loss: 0.5589 - acc: 0.7603 - val_loss: 0.7427 - val_acc: 0.6941\n"
     ]
    }
   ],
   "source": [
    "model_gl.compile(optimizer='rmsprop',loss='binary_crossentropy',metrics=['acc'])\n",
    "gl_result=model_gl.fit(x_train,y_train,epochs=20,batch_size=32,validation_data=(x_val,y_val)) \n",
    "\n",
    "model_gl.save_weights('./glove_model.h5') # 추정된 모수가 저장된 모델 저장                "
   ]
  },
  {
   "cell_type": "code",
   "execution_count": 16,
   "metadata": {},
   "outputs": [
    {
     "data": {
      "image/png": "[encoded data removed]",
      "text/plain": [
       "<Figure size 432x288 with 1 Axes>"
      ]
     },
     "metadata": {
      "needs_background": "light"
     },
     "output_type": "display_data"
    },
    {
     "data": {
      "image/png": "[encoded data removed]",
      "text/plain": [
       "<Figure size 432x288 with 1 Axes>"
      ]
     },
     "metadata": {
      "needs_background": "light"
     },
     "output_type": "display_data"
    }
   ],
   "source": [
    "import matplotlib.pyplot as plt\n",
    "acc=gl_result.history['acc']\n",
    "val_acc=gl_result.history['val_acc']\n",
    "loss=gl_result.history['loss']\n",
    "val_loss=gl_result.history['val_loss']\n",
    "epochs=range(1,len(acc)+1)\n",
    "plt.plot(epochs,acc,'b',label='training acc')\n",
    "plt.plot(epochs,val_acc,'bo',label='validation acc')\n",
    "plt.title('training and validation accuracy')\n",
    "plt.legend()\n",
    "plt.figure()\n",
    "plt.plot(epochs,loss,'b',label='training loss')\n",
    "plt.plot(epochs,val_loss,'bo',label='validation loss')\n",
    "plt.title('training and validation loss')\n",
    "plt.legend()\n",
    "plt.show()"
   ]
  },
  {
   "cell_type": "code",
   "execution_count": 17,
   "metadata": {},
   "outputs": [
    {
     "name": "stdout",
     "output_type": "stream",
     "text": [
      "469/469 [==============================] - 0s 830us/step - loss: 0.6552 - acc: 0.7168\n",
      "0.6552268266677856\n",
      "0.7167999744415283\n"
     ]
    }
   ],
   "source": [
    "loss,acc=model_gl.evaluate(x_test,y_test)\n",
    "print(loss)\n",
    "print(acc)"
   ]
  },
  {
   "cell_type": "markdown",
   "metadata": {},
   "source": [
    "+ 모델 불러와 test 성능 구하는 방법"
   ]
  },
  {
   "cell_type": "code",
   "execution_count": 25,
   "metadata": {},
   "outputs": [
    {
     "name": "stdout",
     "output_type": "stream",
     "text": [
      "469/469 [==============================] - 2s 4ms/step - loss: 0.7437 - acc: 0.6945\n"
     ]
    }
   ],
   "source": [
    "model_gl.load_weights('C:/Users/ellyj/Desktop/3-1/고급통계적딥러닝/코드 및 데이터_1/제 7장 텍스트 자료분석/glove_model.h5')\n",
    "loss, acc = model_gl.evaluate(x_test, y_test)"
   ]
  },
  {
   "cell_type": "code",
   "execution_count": null,
   "metadata": {},
   "outputs": [],
   "source": []
  }
 ],
 "metadata": {
  "kernelspec": {
   "display_name": "Python 3",
   "language": "python",
   "name": "python3"
  },
  "language_info": {
   "codemirror_mode": {
    "name": "ipython",
    "version": 3
   },
   "file_extension": ".py",
   "mimetype": "text/x-python",
   "name": "python",
   "nbconvert_exporter": "python",
   "pygments_lexer": "ipython3",
   "version": "3.8.8"
  }
 },
 "nbformat": 4,
 "nbformat_minor": 4
}
