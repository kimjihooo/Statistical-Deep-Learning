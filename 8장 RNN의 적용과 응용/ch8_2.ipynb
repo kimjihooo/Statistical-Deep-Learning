{
 "cells": [
  {
   "cell_type": "markdown",
   "metadata": {},
   "source": [
    "# 양방향 RNN\n",
    "## 1. 양방향 LSTM"
   ]
  },
  {
   "cell_type": "code",
   "execution_count": 2,
   "metadata": {},
   "outputs": [
    {
     "name": "stdout",
     "output_type": "stream",
     "text": [
      "Model: \"sequential_1\"\n",
      "_________________________________________________________________\n",
      "Layer (type)                 Output Shape              Param #   \n",
      "=================================================================\n",
      "embedding_1 (Embedding)      (None, None, 32)          320000    \n",
      "_________________________________________________________________\n",
      "bidirectional (Bidirectional (None, 64)                16640     \n",
      "_________________________________________________________________\n",
      "dense (Dense)                (None, 1)                 65        \n",
      "=================================================================\n",
      "Total params: 336,705\n",
      "Trainable params: 336,705\n",
      "Non-trainable params: 0\n",
      "_________________________________________________________________\n",
      "Epoch 1/10\n",
      "196/196 [==============================] - 394s 2s/step - loss: 0.6146 - acc: 0.6525\n",
      "Epoch 2/10\n",
      "196/196 [==============================] - 390s 2s/step - loss: 0.3416 - acc: 0.8651\n",
      "Epoch 3/10\n",
      "196/196 [==============================] - 389s 2s/step - loss: 0.2825 - acc: 0.8917\n",
      "Epoch 4/10\n",
      "196/196 [==============================] - 397s 2s/step - loss: 0.2247 - acc: 0.9143\n",
      "Epoch 5/10\n",
      "196/196 [==============================] - 397s 2s/step - loss: 0.2045 - acc: 0.9260\n",
      "Epoch 6/10\n",
      "196/196 [==============================] - 401s 2s/step - loss: 0.1867 - acc: 0.9329\n",
      "Epoch 7/10\n",
      "196/196 [==============================] - 402s 2s/step - loss: 0.1695 - acc: 0.9374\n",
      "Epoch 8/10\n",
      "196/196 [==============================] - 401s 2s/step - loss: 0.1650 - acc: 0.9412\n",
      "Epoch 9/10\n",
      "196/196 [==============================] - 402s 2s/step - loss: 0.1575 - acc: 0.9455\n",
      "Epoch 10/10\n",
      "196/196 [==============================] - 401s 2s/step - loss: 0.1433 - acc: 0.9477\n",
      "782/782 [==============================] - 51s 65ms/step - loss: 0.1315 - acc: 0.9538\n",
      "782/782 [==============================] - 65s 83ms/step - loss: 0.4364 - acc: 0.8670\n",
      "[0.13149839639663696, 0.9538400173187256]\n",
      "[0.4363875687122345, 0.8669999837875366]\n"
     ]
    }
   ],
   "source": [
    "from tensorflow.keras.datasets import imdb\n",
    "from tensorflow.keras.preprocessing import sequence\n",
    "from tensorflow.keras.layers import Embedding, Bidirectional, Dense, LSTM\n",
    "from tensorflow.keras.models import Sequential\n",
    "max_features=10000\n",
    "lenmax=700\n",
    "\n",
    "(x_train,y_train),(x_test,y_test)=imdb.load_data(num_words=max_features)\n",
    "\n",
    "x_train=sequence.pad_sequences(x_train,maxlen=lenmax)\n",
    "x_test=sequence.pad_sequences(x_test,maxlen=lenmax)\n",
    "\n",
    "m_bd=Sequential()\n",
    "m_bd.add(Embedding(max_features,32))\n",
    "m_bd.add(Bidirectional(LSTM(32,dropout=0.3, recurrent_dropout=0.5),merge_mode='concat'))\n",
    "m_bd.add(Dense(1, activation='sigmoid'))\n",
    "m_bd.summary()\n",
    "\n",
    "m_bd.compile(optimizer='rmsprop',loss='binary_crossentropy',metrics=['acc'])\n",
    "m_bd.fit(x_train,y_train, epochs=10,batch_size=128)\n",
    "tr_loss_acc=m_bd.evaluate(x_train,y_train)\n",
    "test_loss_acc=m_bd.evaluate(x_test,y_test)\n",
    "print(tr_loss_acc)\n",
    "print(test_loss_acc)"
   ]
  },
  {
   "cell_type": "markdown",
   "metadata": {},
   "source": [
    "## 2. CNN의 1D convolution\n",
    "단어의 순서가 크게 중요하지 않거나 RNN 자료구조에서 시간스텝이 지나치게 클경우, CNN의 1D convolution을 이용하여 RNN 분석을 대체할 수 있다."
   ]
  },
  {
   "cell_type": "code",
   "execution_count": 3,
   "metadata": {},
   "outputs": [
    {
     "name": "stdout",
     "output_type": "stream",
     "text": [
      "Model: \"sequential_2\"\n",
      "_________________________________________________________________\n",
      "Layer (type)                 Output Shape              Param #   \n",
      "=================================================================\n",
      "embedding_2 (Embedding)      (None, 700, 32)           320000    \n",
      "_________________________________________________________________\n",
      "dropout (Dropout)            (None, 700, 32)           0         \n",
      "_________________________________________________________________\n",
      "conv1d (Conv1D)              (None, 694, 32)           7200      \n",
      "_________________________________________________________________\n",
      "max_pooling1d (MaxPooling1D) (None, 138, 32)           0         \n",
      "_________________________________________________________________\n",
      "conv1d_1 (Conv1D)            (None, 132, 32)           7200      \n",
      "_________________________________________________________________\n",
      "global_max_pooling1d (Global (None, 32)                0         \n",
      "_________________________________________________________________\n",
      "dense_1 (Dense)              (None, 1)                 33        \n",
      "=================================================================\n",
      "Total params: 334,433\n",
      "Trainable params: 334,433\n",
      "Non-trainable params: 0\n",
      "_________________________________________________________________\n",
      "Epoch 1/10\n",
      "196/196 [==============================] - 25s 126ms/step - loss: 0.6347 - acc: 0.6094\n",
      "Epoch 2/10\n",
      "196/196 [==============================] - 21s 109ms/step - loss: 0.2985 - acc: 0.8776\n",
      "Epoch 3/10\n",
      "196/196 [==============================] - 17s 87ms/step - loss: 0.2335 - acc: 0.9074\n",
      "Epoch 4/10\n",
      "196/196 [==============================] - 17s 85ms/step - loss: 0.1957 - acc: 0.9249\n",
      "Epoch 5/10\n",
      "196/196 [==============================] - 18s 93ms/step - loss: 0.1697 - acc: 0.9373\n",
      "Epoch 6/10\n",
      "196/196 [==============================] - 20s 103ms/step - loss: 0.1410 - acc: 0.9487\n",
      "Epoch 7/10\n",
      "196/196 [==============================] - 24s 121ms/step - loss: 0.1337 - acc: 0.9511\n",
      "Epoch 8/10\n",
      "196/196 [==============================] - 24s 120ms/step - loss: 0.1190 - acc: 0.9601\n",
      "Epoch 9/10\n",
      "196/196 [==============================] - 19s 96ms/step - loss: 0.1004 - acc: 0.9663\n",
      "Epoch 10/10\n",
      "196/196 [==============================] - 17s 86ms/step - loss: 0.0884 - acc: 0.9713\n",
      "782/782 [==============================] - 5s 6ms/step - loss: 0.0670 - acc: 0.9802\n",
      "782/782 [==============================] - 4s 6ms/step - loss: 0.4450 - acc: 0.8497\n",
      "[0.0669926255941391, 0.980239987373352]\n",
      "[0.4450058341026306, 0.8497200012207031]\n"
     ]
    }
   ],
   "source": [
    "from tensorflow.keras.layers import Embedding, Conv1D,MaxPooling1D, GlobalMaxPooling1D, Dense, Dropout\n",
    "from tensorflow.keras.models import Sequential\n",
    "\n",
    "max_features=10000\n",
    "\n",
    "conv_model=Sequential()\n",
    "conv_model.add(Embedding(max_features,32, input_length=700))\n",
    "conv_model.add(Dropout(0.2))\n",
    "conv_model.add(Conv1D(32,7,activation='relu'))\n",
    "conv_model.add(MaxPooling1D(5))\n",
    "conv_model.add(Conv1D(32,7,activation='relu'))\n",
    "conv_model.add(GlobalMaxPooling1D())\n",
    "conv_model.add(Dense(1, activation='sigmoid'))\n",
    "conv_model.summary()\n",
    "\n",
    "conv_model.compile(optimizer='rmsprop',loss='binary_crossentropy',metrics=['acc'])\n",
    "conv_model.fit(x_train,y_train, epochs=10,batch_size=128)\n",
    "tr_loss_acc=conv_model.evaluate(x_train,y_train)\n",
    "test_loss_acc=conv_model.evaluate(x_test,y_test)\n",
    "print(tr_loss_acc)\n",
    "print(test_loss_acc)"
   ]
  },
  {
   "cell_type": "code",
   "execution_count": null,
   "metadata": {},
   "outputs": [],
   "source": []
  }
 ],
 "metadata": {
  "kernelspec": {
   "display_name": "Python 3",
   "language": "python",
   "name": "python3"
  },
  "language_info": {
   "codemirror_mode": {
    "name": "ipython",
    "version": 3
   },
   "file_extension": ".py",
   "mimetype": "text/x-python",
   "name": "python",
   "nbconvert_exporter": "python",
   "pygments_lexer": "ipython3",
   "version": "3.8.8"
  }
 },
 "nbformat": 4,
 "nbformat_minor": 4
}
