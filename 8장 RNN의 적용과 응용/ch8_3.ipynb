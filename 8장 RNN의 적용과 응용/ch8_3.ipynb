{
 "cells": [
  {
   "cell_type": "markdown",
   "metadata": {},
   "source": [
    "# 딥러닝을 이용한 시계열 자료분석\n",
    "- NASDAQ GS 주식자료"
   ]
  },
  {
   "cell_type": "code",
   "execution_count": 1,
   "metadata": {},
   "outputs": [
    {
     "name": "stdout",
     "output_type": "stream",
     "text": [
      "<class 'pandas.core.frame.DataFrame'>\n",
      "Index: 252 entries, 2019-04-17 to 2020-04-16\n",
      "Data columns (total 6 columns):\n",
      " #   Column     Non-Null Count  Dtype  \n",
      "---  ------     --------------  -----  \n",
      " 0   Open       252 non-null    float64\n",
      " 1   High       252 non-null    float64\n",
      " 2   Low        252 non-null    float64\n",
      " 3   Close      252 non-null    float64\n",
      " 4   Adj Close  252 non-null    float64\n",
      " 5   Volume     252 non-null    int64  \n",
      "dtypes: float64(5), int64(1)\n",
      "memory usage: 13.8+ KB\n"
     ]
    }
   ],
   "source": [
    "import pandas as pd\n",
    "data=pd.read_csv('C:/Users/ellyj/Desktop/3-1/고급통계적딥러닝/코드 및 데이터_1/제 8장 RNN의 적용과 응용(n)/AMZN.csv',\n",
    "                 header=0,index_col=\"Date\")\n",
    "data.info()"
   ]
  },
  {
   "cell_type": "code",
   "execution_count": 2,
   "metadata": {},
   "outputs": [
    {
     "name": "stdout",
     "output_type": "stream",
     "text": [
      "                   Open         High          Low        Close    Adj Close  \\\n",
      "Date                                                                          \n",
      "2019-04-17  1872.989990  1876.469971  1860.439941  1864.819946  1864.819946   \n",
      "2019-04-18  1868.790039  1870.819946  1859.479980  1861.689941  1861.689941   \n",
      "2019-04-22  1855.400024  1888.420044  1845.640015  1887.310059  1887.310059   \n",
      "2019-04-23  1891.199951  1929.260010  1889.579956  1923.770020  1923.770020   \n",
      "2019-04-24  1925.000000  1929.689941  1898.160034  1901.750000  1901.750000   \n",
      "\n",
      "             Volume  \n",
      "Date                 \n",
      "2019-04-17  2893500  \n",
      "2019-04-18  2749900  \n",
      "2019-04-22  3373800  \n",
      "2019-04-23  4640400  \n",
      "2019-04-24  3675800  \n"
     ]
    }
   ],
   "source": [
    "print(data.head())"
   ]
  },
  {
   "cell_type": "code",
   "execution_count": 3,
   "metadata": {},
   "outputs": [
    {
     "data": {
      "text/html": [
       "<div>\n",
       "<style scoped>\n",
       "    .dataframe tbody tr th:only-of-type {\n",
       "        vertical-align: middle;\n",
       "    }\n",
       "\n",
       "    .dataframe tbody tr th {\n",
       "        vertical-align: top;\n",
       "    }\n",
       "\n",
       "    .dataframe thead th {\n",
       "        text-align: right;\n",
       "    }\n",
       "</style>\n",
       "<table border=\"1\" class=\"dataframe\">\n",
       "  <thead>\n",
       "    <tr style=\"text-align: right;\">\n",
       "      <th></th>\n",
       "      <th>Open</th>\n",
       "      <th>High</th>\n",
       "      <th>Low</th>\n",
       "      <th>Close</th>\n",
       "      <th>Adj Close</th>\n",
       "      <th>Volume</th>\n",
       "    </tr>\n",
       "  </thead>\n",
       "  <tbody>\n",
       "    <tr>\n",
       "      <th>count</th>\n",
       "      <td>252.000000</td>\n",
       "      <td>252.000000</td>\n",
       "      <td>252.000000</td>\n",
       "      <td>252.000000</td>\n",
       "      <td>252.000000</td>\n",
       "      <td>2.520000e+02</td>\n",
       "    </tr>\n",
       "    <tr>\n",
       "      <th>mean</th>\n",
       "      <td>1864.800556</td>\n",
       "      <td>1883.242064</td>\n",
       "      <td>1846.651429</td>\n",
       "      <td>1866.393093</td>\n",
       "      <td>1866.393093</td>\n",
       "      <td>4.060800e+06</td>\n",
       "    </tr>\n",
       "    <tr>\n",
       "      <th>std</th>\n",
       "      <td>110.513502</td>\n",
       "      <td>116.543016</td>\n",
       "      <td>110.148293</td>\n",
       "      <td>114.338644</td>\n",
       "      <td>114.338644</td>\n",
       "      <td>2.035731e+06</td>\n",
       "    </tr>\n",
       "    <tr>\n",
       "      <th>min</th>\n",
       "      <td>1641.510010</td>\n",
       "      <td>1725.000000</td>\n",
       "      <td>1626.030029</td>\n",
       "      <td>1676.609985</td>\n",
       "      <td>1676.609985</td>\n",
       "      <td>8.813000e+05</td>\n",
       "    </tr>\n",
       "    <tr>\n",
       "      <th>25%</th>\n",
       "      <td>1778.007507</td>\n",
       "      <td>1793.577515</td>\n",
       "      <td>1762.510040</td>\n",
       "      <td>1783.422516</td>\n",
       "      <td>1783.422516</td>\n",
       "      <td>2.748850e+06</td>\n",
       "    </tr>\n",
       "    <tr>\n",
       "      <th>50%</th>\n",
       "      <td>1842.005005</td>\n",
       "      <td>1870.639954</td>\n",
       "      <td>1826.875000</td>\n",
       "      <td>1854.284973</td>\n",
       "      <td>1854.284973</td>\n",
       "      <td>3.410900e+06</td>\n",
       "    </tr>\n",
       "    <tr>\n",
       "      <th>75%</th>\n",
       "      <td>1921.224945</td>\n",
       "      <td>1936.729981</td>\n",
       "      <td>1898.567535</td>\n",
       "      <td>1912.812469</td>\n",
       "      <td>1912.812469</td>\n",
       "      <td>4.754375e+06</td>\n",
       "    </tr>\n",
       "    <tr>\n",
       "      <th>max</th>\n",
       "      <td>2346.000000</td>\n",
       "      <td>2461.000000</td>\n",
       "      <td>2335.000000</td>\n",
       "      <td>2408.189941</td>\n",
       "      <td>2408.189941</td>\n",
       "      <td>1.556730e+07</td>\n",
       "    </tr>\n",
       "  </tbody>\n",
       "</table>\n",
       "</div>"
      ],
      "text/plain": [
       "              Open         High          Low        Close    Adj Close  \\\n",
       "count   252.000000   252.000000   252.000000   252.000000   252.000000   \n",
       "mean   1864.800556  1883.242064  1846.651429  1866.393093  1866.393093   \n",
       "std     110.513502   116.543016   110.148293   114.338644   114.338644   \n",
       "min    1641.510010  1725.000000  1626.030029  1676.609985  1676.609985   \n",
       "25%    1778.007507  1793.577515  1762.510040  1783.422516  1783.422516   \n",
       "50%    1842.005005  1870.639954  1826.875000  1854.284973  1854.284973   \n",
       "75%    1921.224945  1936.729981  1898.567535  1912.812469  1912.812469   \n",
       "max    2346.000000  2461.000000  2335.000000  2408.189941  2408.189941   \n",
       "\n",
       "             Volume  \n",
       "count  2.520000e+02  \n",
       "mean   4.060800e+06  \n",
       "std    2.035731e+06  \n",
       "min    8.813000e+05  \n",
       "25%    2.748850e+06  \n",
       "50%    3.410900e+06  \n",
       "75%    4.754375e+06  \n",
       "max    1.556730e+07  "
      ]
     },
     "execution_count": 3,
     "metadata": {},
     "output_type": "execute_result"
    }
   ],
   "source": [
    "data.describe()"
   ]
  },
  {
   "cell_type": "markdown",
   "metadata": {},
   "source": [
    "일일 시작가(open), 일일 최고가(high), 일일 최저가(low), 일일 종가(close) 모두 최소값과 최대값 차이가 커 주식가의 변동성이 매우크다"
   ]
  },
  {
   "cell_type": "code",
   "execution_count": 4,
   "metadata": {},
   "outputs": [
    {
     "data": {
      "image/png": "[encoded data removed]",
      "text/plain": [
       "<Figure size 720x360 with 1 Axes>"
      ]
     },
     "metadata": {
      "needs_background": "light"
     },
     "output_type": "display_data"
    }
   ],
   "source": [
    "import matplotlib.pyplot as plt\n",
    "plt.figure(figsize=(10,5))\n",
    "plt.plot(data['Close'])\n",
    "plt.show()"
   ]
  },
  {
   "cell_type": "markdown",
   "metadata": {},
   "source": [
    "## Dickey-Fuller 단위근 검정"
   ]
  },
  {
   "cell_type": "code",
   "execution_count": 5,
   "metadata": {},
   "outputs": [
    {
     "name": "stdout",
     "output_type": "stream",
     "text": [
      "(-1.3767742252801622, 0.5933588180241108, 9, 242, {'1%': -3.457664132155201, '5%': -2.8735585105960224, '10%': -2.5731749894132916}, 2330.001481538131)\n"
     ]
    }
   ],
   "source": [
    "!pip install statsmodels\n",
    "from statsmodels.tsa.stattools import adfuller\n",
    "result=adfuller(data['Close'])\n",
    "print(result)"
   ]
  },
  {
   "cell_type": "markdown",
   "metadata": {},
   "source": [
    "검정통계량은 -1.376, p-value는 0.5933이다.\n",
    "\n",
    "0.05보다 크므로 귀무가설을 기각하지 못한다. 그러므로 일일 종가는 비정상성과정이다."
   ]
  },
  {
   "cell_type": "markdown",
   "metadata": {},
   "source": [
    "## 자기상관함수와 편자기상관함수"
   ]
  },
  {
   "cell_type": "code",
   "execution_count": 6,
   "metadata": {},
   "outputs": [
    {
     "data": {
      "image/png": "[encoded data removed]",
      "text/plain": [
       "<Figure size 432x288 with 1 Axes>"
      ]
     },
     "metadata": {
      "needs_background": "light"
     },
     "output_type": "display_data"
    },
    {
     "data": {
      "image/png": "[encoded data removed]",
      "text/plain": [
       "<Figure size 432x288 with 1 Axes>"
      ]
     },
     "metadata": {
      "needs_background": "light"
     },
     "output_type": "display_data"
    }
   ],
   "source": [
    "from statsmodels.graphics.tsaplots import plot_acf, plot_pacf\n",
    "plot_acf(data['Close'])\n",
    "plot_pacf(data['Close'])\n",
    "plt.show()"
   ]
  },
  {
   "cell_type": "markdown",
   "metadata": {},
   "source": [
    "acf가 선형적으로 느리게 감소하다가 증가하므로 일일 종가는 비정상시계열이다"
   ]
  },
  {
   "cell_type": "markdown",
   "metadata": {},
   "source": [
    "## 차분(로그 수익률)을 통해 정상시계열로 전환"
   ]
  },
  {
   "cell_type": "code",
   "execution_count": 5,
   "metadata": {},
   "outputs": [
    {
     "name": "stdout",
     "output_type": "stream",
     "text": [
      "             Open        High         Low       Close   Adj Close      Volume\n",
      "count  251.000000  251.000000  251.000000  251.000000  251.000000  251.000000\n",
      "mean     0.000897    0.001080    0.000905    0.001019    0.001019    0.005657\n",
      "std      0.020894    0.016299    0.017545    0.019030    0.019030    0.347770\n",
      "min     -0.075945   -0.058493   -0.072806   -0.082535   -0.082535   -0.970373\n",
      "25%     -0.008895   -0.006549   -0.007209   -0.007880   -0.007880   -0.209841\n",
      "50%      0.000475    0.000223    0.001132    0.000514    0.000514   -0.025878\n",
      "75%      0.009870    0.007017    0.008136    0.008992    0.008992    0.200873\n",
      "max      0.099056    0.093154    0.078766    0.071196    0.071196    1.919016\n"
     ]
    },
    {
     "data": {
      "image/png": "[encoded data removed]",
      "text/plain": [
       "<Figure size 720x360 with 1 Axes>"
      ]
     },
     "metadata": {
      "needs_background": "light"
     },
     "output_type": "display_data"
    }
   ],
   "source": [
    "import numpy as np\n",
    "datapct=data.pct_change()\n",
    "logreturn=np.log(1+datapct)\n",
    "logreturn.head()\n",
    "print(logreturn.describe())\n",
    "\n",
    "plt.figure(figsize=(10,5))\n",
    "plt.plot(logreturn['Close'])\n",
    "plt.show()"
   ]
  },
  {
   "cell_type": "markdown",
   "metadata": {},
   "source": [
    "로그수익률의 플롯은 0을 중심으로 빠르게 움직이고 있음. 정상시계열일 가능성이 높다."
   ]
  },
  {
   "cell_type": "code",
   "execution_count": 6,
   "metadata": {},
   "outputs": [
    {
     "name": "stdout",
     "output_type": "stream",
     "text": [
      "(-3.6568739381462154, 0.004762316597490482, 8, 242, {'1%': -3.457664132155201, '5%': -2.8735585105960224, '10%': -2.5731749894132916}, -1210.8538494804302)\n"
     ]
    }
   ],
   "source": [
    "from statsmodels.tsa.stattools import adfuller\n",
    "logreturn=logreturn.dropna() # 결측제거\n",
    "result=adfuller(logreturn['Close'])\n",
    "print(result)"
   ]
  },
  {
   "cell_type": "markdown",
   "metadata": {},
   "source": [
    "p-value가 0.05보다 작아 귀무가설을 기각하고 일일 종가 로그수익률은 정상시계열임을 확인할 수 있다."
   ]
  },
  {
   "cell_type": "code",
   "execution_count": 9,
   "metadata": {},
   "outputs": [
    {
     "data": {
      "text/html": [
       "<div>\n",
       "<style scoped>\n",
       "    .dataframe tbody tr th:only-of-type {\n",
       "        vertical-align: middle;\n",
       "    }\n",
       "\n",
       "    .dataframe tbody tr th {\n",
       "        vertical-align: top;\n",
       "    }\n",
       "\n",
       "    .dataframe thead th {\n",
       "        text-align: right;\n",
       "    }\n",
       "</style>\n",
       "<table border=\"1\" class=\"dataframe\">\n",
       "  <thead>\n",
       "    <tr style=\"text-align: right;\">\n",
       "      <th></th>\n",
       "      <th>Open</th>\n",
       "      <th>High</th>\n",
       "      <th>Low</th>\n",
       "      <th>Close</th>\n",
       "      <th>Adj Close</th>\n",
       "      <th>Volume</th>\n",
       "    </tr>\n",
       "    <tr>\n",
       "      <th>Date</th>\n",
       "      <th></th>\n",
       "      <th></th>\n",
       "      <th></th>\n",
       "      <th></th>\n",
       "      <th></th>\n",
       "      <th></th>\n",
       "    </tr>\n",
       "  </thead>\n",
       "  <tbody>\n",
       "    <tr>\n",
       "      <th>2019-04-18</th>\n",
       "      <td>-0.002245</td>\n",
       "      <td>-0.003016</td>\n",
       "      <td>-0.000516</td>\n",
       "      <td>-0.001680</td>\n",
       "      <td>-0.001680</td>\n",
       "      <td>-0.050902</td>\n",
       "    </tr>\n",
       "    <tr>\n",
       "      <th>2019-04-22</th>\n",
       "      <td>-0.007191</td>\n",
       "      <td>0.009364</td>\n",
       "      <td>-0.007471</td>\n",
       "      <td>0.013668</td>\n",
       "      <td>0.013668</td>\n",
       "      <td>0.204475</td>\n",
       "    </tr>\n",
       "    <tr>\n",
       "      <th>2019-04-23</th>\n",
       "      <td>0.019111</td>\n",
       "      <td>0.021396</td>\n",
       "      <td>0.023528</td>\n",
       "      <td>0.019134</td>\n",
       "      <td>0.019134</td>\n",
       "      <td>0.318761</td>\n",
       "    </tr>\n",
       "    <tr>\n",
       "      <th>2019-04-24</th>\n",
       "      <td>0.017714</td>\n",
       "      <td>0.000223</td>\n",
       "      <td>0.004530</td>\n",
       "      <td>-0.011512</td>\n",
       "      <td>-0.011512</td>\n",
       "      <td>-0.233030</td>\n",
       "    </tr>\n",
       "    <tr>\n",
       "      <th>2019-04-25</th>\n",
       "      <td>-0.004165</td>\n",
       "      <td>-0.003759</td>\n",
       "      <td>0.001132</td>\n",
       "      <td>0.000263</td>\n",
       "      <td>0.000263</td>\n",
       "      <td>0.506370</td>\n",
       "    </tr>\n",
       "    <tr>\n",
       "      <th>...</th>\n",
       "      <td>...</td>\n",
       "      <td>...</td>\n",
       "      <td>...</td>\n",
       "      <td>...</td>\n",
       "      <td>...</td>\n",
       "      <td>...</td>\n",
       "    </tr>\n",
       "    <tr>\n",
       "      <th>2020-04-09</th>\n",
       "      <td>0.011463</td>\n",
       "      <td>0.004393</td>\n",
       "      <td>0.003232</td>\n",
       "      <td>-0.000117</td>\n",
       "      <td>-0.000117</td>\n",
       "      <td>0.157468</td>\n",
       "    </tr>\n",
       "    <tr>\n",
       "      <th>2020-04-13</th>\n",
       "      <td>-0.002106</td>\n",
       "      <td>0.060023</td>\n",
       "      <td>0.010030</td>\n",
       "      <td>0.059905</td>\n",
       "      <td>0.059905</td>\n",
       "      <td>0.366526</td>\n",
       "    </tr>\n",
       "    <tr>\n",
       "      <th>2020-04-14</th>\n",
       "      <td>0.075721</td>\n",
       "      <td>0.050100</td>\n",
       "      <td>0.070200</td>\n",
       "      <td>0.051424</td>\n",
       "      <td>0.051424</td>\n",
       "      <td>0.185686</td>\n",
       "    </tr>\n",
       "    <tr>\n",
       "      <th>2020-04-15</th>\n",
       "      <td>0.025667</td>\n",
       "      <td>0.017889</td>\n",
       "      <td>0.026536</td>\n",
       "      <td>0.010612</td>\n",
       "      <td>0.010612</td>\n",
       "      <td>-0.163613</td>\n",
       "    </tr>\n",
       "    <tr>\n",
       "      <th>2020-04-16</th>\n",
       "      <td>0.038374</td>\n",
       "      <td>0.053254</td>\n",
       "      <td>0.039306</td>\n",
       "      <td>0.042633</td>\n",
       "      <td>0.042633</td>\n",
       "      <td>0.555592</td>\n",
       "    </tr>\n",
       "  </tbody>\n",
       "</table>\n",
       "<p>251 rows × 6 columns</p>\n",
       "</div>"
      ],
      "text/plain": [
       "                Open      High       Low     Close  Adj Close    Volume\n",
       "Date                                                                   \n",
       "2019-04-18 -0.002245 -0.003016 -0.000516 -0.001680  -0.001680 -0.050902\n",
       "2019-04-22 -0.007191  0.009364 -0.007471  0.013668   0.013668  0.204475\n",
       "2019-04-23  0.019111  0.021396  0.023528  0.019134   0.019134  0.318761\n",
       "2019-04-24  0.017714  0.000223  0.004530 -0.011512  -0.011512 -0.233030\n",
       "2019-04-25 -0.004165 -0.003759  0.001132  0.000263   0.000263  0.506370\n",
       "...              ...       ...       ...       ...        ...       ...\n",
       "2020-04-09  0.011463  0.004393  0.003232 -0.000117  -0.000117  0.157468\n",
       "2020-04-13 -0.002106  0.060023  0.010030  0.059905   0.059905  0.366526\n",
       "2020-04-14  0.075721  0.050100  0.070200  0.051424   0.051424  0.185686\n",
       "2020-04-15  0.025667  0.017889  0.026536  0.010612   0.010612 -0.163613\n",
       "2020-04-16  0.038374  0.053254  0.039306  0.042633   0.042633  0.555592\n",
       "\n",
       "[251 rows x 6 columns]"
      ]
     },
     "execution_count": 9,
     "metadata": {},
     "output_type": "execute_result"
    }
   ],
   "source": [
    "logreturn"
   ]
  },
  {
   "cell_type": "code",
   "execution_count": 7,
   "metadata": {},
   "outputs": [
    {
     "data": {
      "image/png": "[encoded data removed]",
      "text/plain": [
       "<Figure size 432x288 with 1 Axes>"
      ]
     },
     "metadata": {
      "needs_background": "light"
     },
     "output_type": "display_data"
    },
    {
     "data": {
      "image/png": "[encoded data removed]",
      "text/plain": [
       "<Figure size 432x288 with 1 Axes>"
      ]
     },
     "metadata": {
      "needs_background": "light"
     },
     "output_type": "display_data"
    },
    {
     "name": "stdout",
     "output_type": "stream",
     "text": [
      "<class 'pandas.core.frame.DataFrame'>\n"
     ]
    }
   ],
   "source": [
    "from statsmodels.graphics.tsaplots import plot_acf, plot_pacf\n",
    "plot_acf(logreturn['Close'])\n",
    "plot_pacf(logreturn['Close'])\n",
    "plt.show()\n",
    "print(type(logreturn))"
   ]
  },
  {
   "cell_type": "markdown",
   "metadata": {},
   "source": [
    "acf와 pacf는 모두 절단 형태이며, p는 pacf의 최종절단값 14(또는 25)로 결정한다."
   ]
  },
  {
   "cell_type": "markdown",
   "metadata": {},
   "source": [
    "## 자료정리"
   ]
  },
  {
   "cell_type": "code",
   "execution_count": 8,
   "metadata": {},
   "outputs": [
    {
     "name": "stdout",
     "output_type": "stream",
     "text": [
      "<class 'numpy.ndarray'>\n",
      "(251,)\n",
      "(1, 251)\n",
      "<class 'list'>\n",
      "<class 'list'>\n",
      "<class 'numpy.ndarray'>\n",
      "<class 'numpy.ndarray'>\n",
      "(237, 14)\n",
      "(237,)\n"
     ]
    }
   ],
   "source": [
    "logr1=logreturn['Close'].values # numpy 데이터로 환원\n",
    "print(type(logr1))\n",
    "print(logr1.shape)\n",
    "\n",
    "logr=logr1.reshape(1,-1) # 행 벡터로 변환\n",
    "print(logr.shape)\n",
    "\n",
    "inte=14\n",
    "x=[]\n",
    "y=[]\n",
    "for i in range(logr.shape[1]):\n",
    "    if i+inte>logr.shape[1]-1:\n",
    "        break\n",
    "    else:\n",
    "         xx=logr[0,i:i+inte]\n",
    "         x.append(xx)\n",
    "         yy=logr[0,i+inte]\n",
    "         y.append(yy)\n",
    "print(type(x))\n",
    "print(type(y))\n",
    "\n",
    "x=np.array(x)\n",
    "y=np.array(y)\n",
    "print(type(x))\n",
    "print(type(y))\n",
    "print(x.shape)\n",
    "print(y.shape)\n",
    "\n",
    "# 학습데이터와 시험데이터로 나누기\n",
    "x_train=x[:210] # 처음부터 210개\n",
    "x_test=x[210:] # 나머지 16개\n",
    "y_train=y[:210]\n",
    "y_test=y[210:]"
   ]
  },
  {
   "cell_type": "code",
   "execution_count": 10,
   "metadata": {},
   "outputs": [
    {
     "data": {
      "text/plain": [
       "array([[-0.00167986,  0.01366792,  0.01913425, ..., -0.00608736,\n",
       "        -0.01526553, -0.00168282],\n",
       "       [ 0.01366792,  0.01913425, -0.0115123 , ..., -0.01526553,\n",
       "        -0.00168282, -0.0093776 ],\n",
       "       [ 0.01913425, -0.0115123 ,  0.00026288, ..., -0.00168282,\n",
       "        -0.0093776 , -0.00521922],\n",
       "       ...,\n",
       "       [-0.00470079, -0.00700162,  0.00969573, ...,  0.03658847,\n",
       "        -0.02327864,  0.03441424],\n",
       "       [-0.00700162,  0.00969573,  0.00672699, ..., -0.02327864,\n",
       "         0.03441424, -0.02656658],\n",
       "       [ 0.00969573,  0.00672699, -0.00791982, ...,  0.03441424,\n",
       "        -0.02656658, -0.01199457]])"
      ]
     },
     "execution_count": 10,
     "metadata": {},
     "output_type": "execute_result"
    }
   ],
   "source": [
    "x_train"
   ]
  },
  {
   "cell_type": "markdown",
   "metadata": {},
   "source": [
    "## 1. 자기회귀모형(autoregressive model) AR"
   ]
  },
  {
   "cell_type": "code",
   "execution_count": 11,
   "metadata": {},
   "outputs": [
    {
     "name": "stdout",
     "output_type": "stream",
     "text": [
      "Epoch 1/30\n",
      "7/7 [==============================] - 0s 668us/step - loss: 9.4229e-04 - mae: 0.0212\n",
      "Epoch 2/30\n",
      "7/7 [==============================] - 0s 500us/step - loss: 8.7756e-04 - mae: 0.0204\n",
      "Epoch 3/30\n",
      "7/7 [==============================] - 0s 500us/step - loss: 6.6684e-04 - mae: 0.0188\n",
      "Epoch 4/30\n",
      "7/7 [==============================] - 0s 667us/step - loss: 6.7449e-04 - mae: 0.0190\n",
      "Epoch 5/30\n",
      "7/7 [==============================] - 0s 500us/step - loss: 8.6347e-04 - mae: 0.0207\n",
      "Epoch 6/30\n",
      "7/7 [==============================] - 0s 589us/step - loss: 7.9662e-04 - mae: 0.0196\n",
      "Epoch 7/30\n",
      "7/7 [==============================] - 0s 500us/step - loss: 7.2091e-04 - mae: 0.0187\n",
      "Epoch 8/30\n",
      "7/7 [==============================] - 0s 500us/step - loss: 5.7809e-04 - mae: 0.0175\n",
      "Epoch 9/30\n",
      "7/7 [==============================] - 0s 553us/step - loss: 7.2216e-04 - mae: 0.0190\n",
      "Epoch 10/30\n",
      "7/7 [==============================] - 0s 333us/step - loss: 6.2182e-04 - mae: 0.0181\n",
      "Epoch 11/30\n",
      "7/7 [==============================] - 0s 500us/step - loss: 5.8087e-04 - mae: 0.0178\n",
      "Epoch 12/30\n",
      "7/7 [==============================] - 0s 500us/step - loss: 8.3241e-04 - mae: 0.0194\n",
      "Epoch 13/30\n",
      "7/7 [==============================] - 0s 500us/step - loss: 6.0413e-04 - mae: 0.0173\n",
      "Epoch 14/30\n",
      "7/7 [==============================] - 0s 333us/step - loss: 6.0627e-04 - mae: 0.0178\n",
      "Epoch 15/30\n",
      "7/7 [==============================] - 0s 500us/step - loss: 5.6274e-04 - mae: 0.0174\n",
      "Epoch 16/30\n",
      "7/7 [==============================] - 0s 696us/step - loss: 5.9167e-04 - mae: 0.0174\n",
      "Epoch 17/30\n",
      "7/7 [==============================] - 0s 333us/step - loss: 6.4811e-04 - mae: 0.0186\n",
      "Epoch 18/30\n",
      "7/7 [==============================] - 0s 500us/step - loss: 7.2577e-04 - mae: 0.0190\n",
      "Epoch 19/30\n",
      "7/7 [==============================] - 0s 574us/step - loss: 7.0735e-04 - mae: 0.0185\n",
      "Epoch 20/30\n",
      "7/7 [==============================] - 0s 500us/step - loss: 5.6684e-04 - mae: 0.0169\n",
      "Epoch 21/30\n",
      "7/7 [==============================] - 0s 675us/step - loss: 5.0946e-04 - mae: 0.0165\n",
      "Epoch 22/30\n",
      "7/7 [==============================] - 0s 405us/step - loss: 6.3134e-04 - mae: 0.0177\n",
      "Epoch 23/30\n",
      "7/7 [==============================] - 0s 667us/step - loss: 4.6006e-04 - mae: 0.0154\n",
      "Epoch 24/30\n",
      "7/7 [==============================] - 0s 667us/step - loss: 5.6423e-04 - mae: 0.0171\n",
      "Epoch 25/30\n",
      "7/7 [==============================] - 0s 515us/step - loss: 6.5740e-04 - mae: 0.0178\n",
      "Epoch 26/30\n",
      "7/7 [==============================] - 0s 666us/step - loss: 4.7046e-04 - mae: 0.0153\n",
      "Epoch 27/30\n",
      "7/7 [==============================] - 0s 484us/step - loss: 5.4014e-04 - mae: 0.0170\n",
      "Epoch 28/30\n",
      "7/7 [==============================] - 0s 332us/step - loss: 5.0418e-04 - mae: 0.0158\n",
      "Epoch 29/30\n",
      "7/7 [==============================] - 0s 666us/step - loss: 4.9982e-04 - mae: 0.0159\n",
      "Epoch 30/30\n",
      "7/7 [==============================] - 0s 500us/step - loss: 4.8123e-04 - mae: 0.0157\n",
      "7/7 [==============================] - 0s 568us/step - loss: 4.9733e-04 - mae: 0.0157\n",
      "1/1 [==============================] - 0s 10ms/step - loss: 9.1426e-04 - mae: 0.0257\n",
      "[0.0004973316681571305, 0.015723083168268204]\n",
      "[0.0009142612689174712, 0.025705644860863686]\n"
     ]
    }
   ],
   "source": [
    "from tensorflow.keras.models import Sequential\n",
    "from tensorflow.keras.layers import Dense,GRU,LSTM\n",
    "from tensorflow.keras import regularizers\n",
    "model=Sequential()\n",
    "model.add(Dense(1,input_shape=(14,)))\n",
    "\n",
    "model.compile(optimizer='rmsprop', loss='mse',metrics=['mae'])\n",
    "model.fit(x_train,y_train,epochs=30,batch_size=32)\n",
    "loss_acc=model.evaluate(x_train,y_train)\n",
    "los_test=model.evaluate(x_test,y_test)\n",
    "print(loss_acc)\n",
    "print(los_test)"
   ]
  },
  {
   "cell_type": "markdown",
   "metadata": {},
   "source": [
    "## 2. MLP 모형\n",
    "- 노드가 32인 MLP층 추가"
   ]
  },
  {
   "cell_type": "code",
   "execution_count": 13,
   "metadata": {},
   "outputs": [
    {
     "name": "stdout",
     "output_type": "stream",
     "text": [
      "Epoch 1/30\n",
      "7/7 [==============================] - 0s 667us/step - loss: 3.5642e-04 - mae: 0.0140\n",
      "Epoch 2/30\n",
      "7/7 [==============================] - 0s 667us/step - loss: 2.6589e-04 - mae: 0.0114\n",
      "Epoch 3/30\n",
      "7/7 [==============================] - 0s 612us/step - loss: 2.8590e-04 - mae: 0.0118\n",
      "Epoch 4/30\n",
      "7/7 [==============================] - 0s 500us/step - loss: 2.5016e-04 - mae: 0.0111\n",
      "Epoch 5/30\n",
      "7/7 [==============================] - 0s 500us/step - loss: 3.0587e-04 - mae: 0.0126\n",
      "Epoch 6/30\n",
      "7/7 [==============================] - 0s 725us/step - loss: 1.9056e-04 - mae: 0.0104\n",
      "Epoch 7/30\n",
      "7/7 [==============================] - 0s 500us/step - loss: 2.2174e-04 - mae: 0.0108\n",
      "Epoch 8/30\n",
      "7/7 [==============================] - 0s 500us/step - loss: 2.0433e-04 - mae: 0.0107\n",
      "Epoch 9/30\n",
      "7/7 [==============================] - 0s 713us/step - loss: 1.8043e-04 - mae: 0.0095\n",
      "Epoch 10/30\n",
      "7/7 [==============================] - 0s 500us/step - loss: 1.9285e-04 - mae: 0.0099\n",
      "Epoch 11/30\n",
      "7/7 [==============================] - 0s 500us/step - loss: 2.5694e-04 - mae: 0.0115\n",
      "Epoch 12/30\n",
      "7/7 [==============================] - 0s 748us/step - loss: 1.9686e-04 - mae: 0.0100\n",
      "Epoch 13/30\n",
      "7/7 [==============================] - 0s 487us/step - loss: 1.7169e-04 - mae: 0.0096\n",
      "Epoch 14/30\n",
      "7/7 [==============================] - 0s 500us/step - loss: 2.1190e-04 - mae: 0.0110\n",
      "Epoch 15/30\n",
      "7/7 [==============================] - 0s 566us/step - loss: 1.5589e-04 - mae: 0.0089\n",
      "Epoch 16/30\n",
      "7/7 [==============================] - 0s 500us/step - loss: 1.5700e-04 - mae: 0.0091\n",
      "Epoch 17/30\n",
      "7/7 [==============================] - 0s 499us/step - loss: 1.5752e-04 - mae: 0.0089\n",
      "Epoch 18/30\n",
      "7/7 [==============================] - 0s 500us/step - loss: 1.8385e-04 - mae: 0.0100\n",
      "Epoch 19/30\n",
      "7/7 [==============================] - 0s 500us/step - loss: 1.4693e-04 - mae: 0.0088\n",
      "Epoch 20/30\n",
      "7/7 [==============================] - 0s 500us/step - loss: 1.3393e-04 - mae: 0.0083\n",
      "Epoch 21/30\n",
      "7/7 [==============================] - 0s 736us/step - loss: 1.2610e-04 - mae: 0.0083\n",
      "Epoch 22/30\n",
      "7/7 [==============================] - 0s 498us/step - loss: 1.3830e-04 - mae: 0.0089\n",
      "Epoch 23/30\n",
      "7/7 [==============================] - 0s 500us/step - loss: 9.3514e-05 - mae: 0.0074\n",
      "Epoch 24/30\n",
      "7/7 [==============================] - 0s 728us/step - loss: 1.1373e-04 - mae: 0.0078\n",
      "Epoch 25/30\n",
      "7/7 [==============================] - 0s 666us/step - loss: 1.1308e-04 - mae: 0.0080\n",
      "Epoch 26/30\n",
      "7/7 [==============================] - 0s 500us/step - loss: 1.1588e-04 - mae: 0.0077\n",
      "Epoch 27/30\n",
      "7/7 [==============================] - 0s 515us/step - loss: 1.2596e-04 - mae: 0.0083\n",
      "Epoch 28/30\n",
      "7/7 [==============================] - 0s 672us/step - loss: 1.3697e-04 - mae: 0.0092\n",
      "Epoch 29/30\n",
      "7/7 [==============================] - 0s 500us/step - loss: 1.1585e-04 - mae: 0.0081\n",
      "Epoch 30/30\n",
      "7/7 [==============================] - 0s 667us/step - loss: 1.1551e-04 - mae: 0.0082\n",
      "7/7 [==============================] - 0s 500us/step - loss: 9.6277e-05 - mae: 0.0073\n",
      "1/1 [==============================] - 0s 11ms/step - loss: 8.8649e-04 - mae: 0.0238\n",
      "[9.627652616472915e-05, 0.007348415441811085]\n",
      "[0.0008864904521033168, 0.023771042004227638]\n"
     ]
    }
   ],
   "source": [
    "from tensorflow.keras.models import Sequential\n",
    "from tensorflow.keras.layers import Dense,GRU,LSTM\n",
    "model=Sequential()\n",
    "model.add(Dense(32,activation='relu',input_shape=(14,)))\n",
    "model.add(Dense(1))                \n",
    "\n",
    "model.compile(optimizer='rmsprop', loss='mse',metrics=['mae'])\n",
    "model.fit(x_train,y_train,epochs=30,batch_size=32)\n",
    "loss_acc=model.evaluate(x_train,y_train)\n",
    "los_test=model.evaluate(x_test,y_test)\n",
    "print(loss_acc)\n",
    "print(los_test)"
   ]
  },
  {
   "cell_type": "markdown",
   "metadata": {},
   "source": [
    "## 3. LSTM 모형 적용"
   ]
  },
  {
   "cell_type": "code",
   "execution_count": 14,
   "metadata": {},
   "outputs": [
    {
     "name": "stdout",
     "output_type": "stream",
     "text": [
      "Epoch 1/30\n",
      "7/7 [==============================] - 1s 1ms/step - loss: 3.4073e-04 - mae: 0.0130\n",
      "Epoch 2/30\n",
      "7/7 [==============================] - 0s 1ms/step - loss: 3.9805e-04 - mae: 0.0134\n",
      "Epoch 3/30\n",
      "7/7 [==============================] - 0s 1ms/step - loss: 2.8661e-04 - mae: 0.0120\n",
      "Epoch 4/30\n",
      "7/7 [==============================] - 0s 904us/step - loss: 3.7264e-04 - mae: 0.0132\n",
      "Epoch 5/30\n",
      "7/7 [==============================] - 0s 1ms/step - loss: 3.3414e-04 - mae: 0.0125\n",
      "Epoch 6/30\n",
      "7/7 [==============================] - 0s 749us/step - loss: 2.7646e-04 - mae: 0.0118\n",
      "Epoch 7/30\n",
      "7/7 [==============================] - 0s 1ms/step - loss: 2.7600e-04 - mae: 0.0117\n",
      "Epoch 8/30\n",
      "7/7 [==============================] - 0s 1ms/step - loss: 3.3159e-04 - mae: 0.0122\n",
      "Epoch 9/30\n",
      "7/7 [==============================] - 0s 1ms/step - loss: 3.1898e-04 - mae: 0.0121\n",
      "Epoch 10/30\n",
      "7/7 [==============================] - 0s 833us/step - loss: 2.8583e-04 - mae: 0.0122\n",
      "Epoch 11/30\n",
      "7/7 [==============================] - 0s 1ms/step - loss: 3.3375e-04 - mae: 0.0124\n",
      "Epoch 12/30\n",
      "7/7 [==============================] - 0s 833us/step - loss: 2.5524e-04 - mae: 0.0112\n",
      "Epoch 13/30\n",
      "7/7 [==============================] - 0s 1ms/step - loss: 3.6228e-04 - mae: 0.0124\n",
      "Epoch 14/30\n",
      "7/7 [==============================] - 0s 833us/step - loss: 2.9591e-04 - mae: 0.0115\n",
      "Epoch 15/30\n",
      "7/7 [==============================] - 0s 1ms/step - loss: 2.8090e-04 - mae: 0.0120\n",
      "Epoch 16/30\n",
      "7/7 [==============================] - 0s 833us/step - loss: 2.9045e-04 - mae: 0.0118\n",
      "Epoch 17/30\n",
      "7/7 [==============================] - 0s 1ms/step - loss: 3.6172e-04 - mae: 0.0132\n",
      "Epoch 18/30\n",
      "7/7 [==============================] - 0s 999us/step - loss: 2.4998e-04 - mae: 0.0110\n",
      "Epoch 19/30\n",
      "7/7 [==============================] - 0s 1ms/step - loss: 2.2815e-04 - mae: 0.0107\n",
      "Epoch 20/30\n",
      "7/7 [==============================] - 0s 833us/step - loss: 2.2299e-04 - mae: 0.0103\n",
      "Epoch 21/30\n",
      "7/7 [==============================] - 0s 1ms/step - loss: 3.0917e-04 - mae: 0.0124\n",
      "Epoch 22/30\n",
      "7/7 [==============================] - 0s 1000us/step - loss: 2.6402e-04 - mae: 0.0115\n",
      "Epoch 23/30\n",
      "7/7 [==============================] - 0s 1ms/step - loss: 2.9669e-04 - mae: 0.0123\n",
      "Epoch 24/30\n",
      "7/7 [==============================] - 0s 1000us/step - loss: 3.7612e-04 - mae: 0.0136\n",
      "Epoch 25/30\n",
      "7/7 [==============================] - 0s 1ms/step - loss: 2.6527e-04 - mae: 0.0118\n",
      "Epoch 26/30\n",
      "7/7 [==============================] - 0s 833us/step - loss: 2.7760e-04 - mae: 0.0117\n",
      "Epoch 27/30\n",
      "7/7 [==============================] - 0s 1ms/step - loss: 2.6705e-04 - mae: 0.0120\n",
      "Epoch 28/30\n",
      "7/7 [==============================] - 0s 1000us/step - loss: 2.0032e-04 - mae: 0.0105\n",
      "Epoch 29/30\n",
      "7/7 [==============================] - 0s 1000us/step - loss: 2.4062e-04 - mae: 0.0110\n",
      "Epoch 30/30\n",
      "7/7 [==============================] - 0s 781us/step - loss: 2.4905e-04 - mae: 0.0119\n",
      "7/7 [==============================] - 0s 833us/step - loss: 2.6463e-04 - mae: 0.0116\n",
      "1/1 [==============================] - 0s 11ms/step - loss: 7.4566e-04 - mae: 0.0203\n",
      "[0.0002646336506586522, 0.011571496725082397]\n",
      "[0.0007456563180312514, 0.020320523530244827]\n"
     ]
    }
   ],
   "source": [
    "# 입력자료를 (sample, timesteps, features)의 형태로 전환\n",
    "x_train=x_train.reshape(-1,1,24)\n",
    "x_test=x_test.reshape(-1,1,24)\n",
    "\n",
    "from tensorflow.keras.models import Sequential\n",
    "from tensorflow.keras.layers import Dense,GRU,LSTM\n",
    "model=Sequential()\n",
    "model.add(LSTM(32, input_shape=(1,24)))\n",
    "model.add(Dense(1))\n",
    "\n",
    "model.compile(optimizer='rmsprop', loss='mse',metrics=['mae'])\n",
    "model.fit(x_train,y_train,epochs=30,batch_size=32)\n",
    "loss_acc=model.evaluate(x_train,y_train)\n",
    "los_test=model.evaluate(x_test,y_test)\n",
    "print(loss_acc)\n",
    "print(los_test)"
   ]
  },
  {
   "cell_type": "markdown",
   "metadata": {},
   "source": [
    "## 4. GRU 모형 적용"
   ]
  },
  {
   "cell_type": "code",
   "execution_count": 15,
   "metadata": {},
   "outputs": [
    {
     "name": "stdout",
     "output_type": "stream",
     "text": [
      "Epoch 1/30\n",
      "7/7 [==============================] - 1s 2ms/step - loss: 5.0793e-04 - mae: 0.0163\n",
      "Epoch 2/30\n",
      "7/7 [==============================] - 0s 1ms/step - loss: 3.8965e-04 - mae: 0.0140\n",
      "Epoch 3/30\n",
      "7/7 [==============================] - 0s 1ms/step - loss: 3.9696e-04 - mae: 0.0138\n",
      "Epoch 4/30\n",
      "7/7 [==============================] - 0s 914us/step - loss: 3.9614e-04 - mae: 0.0137\n",
      "Epoch 5/30\n",
      "7/7 [==============================] - 0s 927us/step - loss: 3.6855e-04 - mae: 0.0132\n",
      "Epoch 6/30\n",
      "7/7 [==============================] - 0s 971us/step - loss: 2.8707e-04 - mae: 0.0119\n",
      "Epoch 7/30\n",
      "7/7 [==============================] - 0s 949us/step - loss: 4.2379e-04 - mae: 0.0137\n",
      "Epoch 8/30\n",
      "7/7 [==============================] - 0s 1ms/step - loss: 3.3056e-04 - mae: 0.0125\n",
      "Epoch 9/30\n",
      "7/7 [==============================] - 0s 952us/step - loss: 3.1765e-04 - mae: 0.0120\n",
      "Epoch 10/30\n",
      "7/7 [==============================] - 0s 1ms/step - loss: 2.6363e-04 - mae: 0.0113\n",
      "Epoch 11/30\n",
      "7/7 [==============================] - 0s 899us/step - loss: 3.4932e-04 - mae: 0.0132\n",
      "Epoch 12/30\n",
      "7/7 [==============================] - 0s 1ms/step - loss: 2.9716e-04 - mae: 0.0125\n",
      "Epoch 13/30\n",
      "7/7 [==============================] - 0s 960us/step - loss: 3.3414e-04 - mae: 0.0132\n",
      "Epoch 14/30\n",
      "7/7 [==============================] - 0s 1ms/step - loss: 2.7276e-04 - mae: 0.0114\n",
      "Epoch 15/30\n",
      "7/7 [==============================] - 0s 935us/step - loss: 3.2721e-04 - mae: 0.0121\n",
      "Epoch 16/30\n",
      "7/7 [==============================] - 0s 944us/step - loss: 3.1011e-04 - mae: 0.0132\n",
      "Epoch 17/30\n",
      "7/7 [==============================] - 0s 1ms/step - loss: 2.7056e-04 - mae: 0.0117\n",
      "Epoch 18/30\n",
      "7/7 [==============================] - 0s 1ms/step - loss: 2.4609e-04 - mae: 0.0115\n",
      "Epoch 19/30\n",
      "7/7 [==============================] - 0s 1ms/step - loss: 2.7747e-04 - mae: 0.0120\n",
      "Epoch 20/30\n",
      "7/7 [==============================] - 0s 1ms/step - loss: 2.8864e-04 - mae: 0.0118\n",
      "Epoch 21/30\n",
      "7/7 [==============================] - 0s 1ms/step - loss: 3.1090e-04 - mae: 0.0122\n",
      "Epoch 22/30\n",
      "7/7 [==============================] - 0s 1ms/step - loss: 2.5492e-04 - mae: 0.0115\n",
      "Epoch 23/30\n",
      "7/7 [==============================] - 0s 951us/step - loss: 2.4146e-04 - mae: 0.0112\n",
      "Epoch 24/30\n",
      "7/7 [==============================] - 0s 1ms/step - loss: 3.1631e-04 - mae: 0.0125\n",
      "Epoch 25/30\n",
      "7/7 [==============================] - 0s 1ms/step - loss: 2.3413e-04 - mae: 0.0112\n",
      "Epoch 26/30\n",
      "7/7 [==============================] - 0s 1ms/step - loss: 2.4997e-04 - mae: 0.0117\n",
      "Epoch 27/30\n",
      "7/7 [==============================] - 0s 1ms/step - loss: 3.3514e-04 - mae: 0.0130\n",
      "Epoch 28/30\n",
      "7/7 [==============================] - 0s 1ms/step - loss: 2.5650e-04 - mae: 0.0109\n",
      "Epoch 29/30\n",
      "7/7 [==============================] - 0s 1ms/step - loss: 2.6168e-04 - mae: 0.0118\n",
      "Epoch 30/30\n",
      "7/7 [==============================] - 0s 944us/step - loss: 2.3373e-04 - mae: 0.0109\n",
      "7/7 [==============================] - 0s 883us/step - loss: 3.2406e-04 - mae: 0.0138\n",
      "1/1 [==============================] - 0s 11ms/step - loss: 0.0011 - mae: 0.0246\n",
      "[0.00032405511592514813, 0.013821074739098549]\n",
      "[0.0011327265528962016, 0.024623224511742592]\n"
     ]
    }
   ],
   "source": [
    "model=Sequential()\n",
    "model.add(GRU(32, input_shape=(1,24)))\n",
    "model.add(Dense(1))\n",
    "model.compile(optimizer='rmsprop', loss='mse',metrics=['mae'])\n",
    "model.fit(x_train,y_train,epochs=30,batch_size=32)\n",
    "loss_acc=model.evaluate(x_train,y_train)\n",
    "los_test=model.evaluate(x_test,y_test)\n",
    "print(loss_acc)\n",
    "print(los_test)"
   ]
  },
  {
   "cell_type": "markdown",
   "metadata": {},
   "source": [
    "MLP 모형이 가장 성능이 좋음"
   ]
  },
  {
   "cell_type": "code",
   "execution_count": null,
   "metadata": {},
   "outputs": [],
   "source": []
  }
 ],
 "metadata": {
  "kernelspec": {
   "display_name": "Python 3",
   "language": "python",
   "name": "python3"
  },
  "language_info": {
   "codemirror_mode": {
    "name": "ipython",
    "version": 3
   },
   "file_extension": ".py",
   "mimetype": "text/x-python",
   "name": "python",
   "nbconvert_exporter": "python",
   "pygments_lexer": "ipython3",
   "version": "3.8.8"
  }
 },
 "nbformat": 4,
 "nbformat_minor": 4
}
